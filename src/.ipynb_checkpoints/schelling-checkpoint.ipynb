{
 "cells": [
  {
   "cell_type": "markdown",
   "id": "67c9330d",
   "metadata": {},
   "source": [
    "# Schelling\n",
    "\n",
    " - n x n grid에서 agent들의 행복하게 느끼는 지수(min_to_be_happy)에 따라 어떻게 무리 짓는지를 시뮬레이션\n",
    " - agent들은 주변에 같은 그룹에 속한 agent들이 있을 때는 그 자리에 머물고 없어면 같은 그룹에 속한 agent들이 있는 곳으로 이동한다.\n",
    " - 이 모델은 인종별, 성향별, 성별등의 무리 짓기등의 시뮬레이션에 사용된다."
   ]
  },
  {
   "cell_type": "markdown",
   "id": "ac6e7542",
   "metadata": {},
   "source": [
    "## 동작 환경\n",
    "- Julia   : v1.7.2\n",
    "- Agents  : v5.5.0\n",
    "- InteractiveDynamics : v0.21.11\n",
    "- GLMakie : v0.6.13\n",
    "- CairoMakie : v0.8.13\n",
    "\n",
    "\n",
    "\n",
    "- GLMakie를 사용하고 싶은 경우 설정에 대해서는 <a href=\"https://julialang.kr/?p=3684\" target=\"_blank\">https://julialang.kr/?p=3684</a> 를 참조"
   ]
  },
  {
   "cell_type": "code",
   "execution_count": 1,
   "id": "4891d909",
   "metadata": {},
   "outputs": [],
   "source": [
    "using Agents\n",
    "using Random"
   ]
  },
  {
   "cell_type": "code",
   "execution_count": 2,
   "id": "01803d91",
   "metadata": {},
   "outputs": [],
   "source": [
    "@agent SchellingAgent GridAgent{2} begin\n",
    "    mood::Bool\n",
    "    group::Int\n",
    "end"
   ]
  },
  {
   "cell_type": "code",
   "execution_count": 3,
   "id": "d39208e0",
   "metadata": {},
   "outputs": [
    {
     "name": "stdout",
     "output_type": "stream",
     "text": [
      "id::Int64\n",
      "pos::Tuple{Int64, Int64}\n",
      "mood::Bool\n",
      "group::Int64\n"
     ]
    }
   ],
   "source": [
    "for (name, type) in zip(fieldnames(SchellingAgent),fieldtypes(SchellingAgent))\n",
    "    println(name,\"::\",type)\n",
    "end"
   ]
  },
  {
   "cell_type": "code",
   "execution_count": 4,
   "id": "8614be17",
   "metadata": {},
   "outputs": [
    {
     "data": {
      "text/plain": [
       "initialize (generic function with 1 method)"
      ]
     },
     "execution_count": 4,
     "metadata": {},
     "output_type": "execute_result"
    }
   ],
   "source": [
    "function initialize(;numagents = 320, griddims = (20,20), min_to_be_happy = 3, seed = 125)\n",
    "    space = GridSpaceSingle(griddims, periodic = false)\n",
    "    properties = Dict(:min_to_be_happy => min_to_be_happy)\n",
    "    rng = Random.MersenneTwister(seed)\n",
    "    model = ABM(\n",
    "        SchellingAgent,space;\n",
    "        properties, rng, scheduler = Schedulers.Randomly()\n",
    "    )\n",
    "    \n",
    "    for n in 1:numagents\n",
    "        agent = SchellingAgent(n,(1,1),false,n < numagents / 2 ? 1 : 2 )\n",
    "        add_agent_single!(agent,model)\n",
    "    end\n",
    "\n",
    "    return model\n",
    "end"
   ]
  },
  {
   "cell_type": "code",
   "execution_count": 5,
   "id": "b0dba2f9",
   "metadata": {},
   "outputs": [
    {
     "data": {
      "text/plain": [
       "agent_step! (generic function with 1 method)"
      ]
     },
     "execution_count": 5,
     "metadata": {},
     "output_type": "execute_result"
    }
   ],
   "source": [
    "function agent_step!(agent, model)\n",
    "    minhappy = model.min_to_be_happy\n",
    "    count_neighbors_same_group = 0\n",
    "\n",
    "    for neighbor in nearby_agents(agent, model)\n",
    "        if agent.group == neighbor.group\n",
    "            count_neighbors_same_group += 1\n",
    "        end\n",
    "    end\n",
    "\n",
    "    if count_neighbors_same_group ≥ minhappy\n",
    "        agent.mood = true\n",
    "    else\n",
    "        agent.mood = false\n",
    "        move_agent_single!(agent, model)\n",
    "    end\n",
    "    return\n",
    "end"
   ]
  },
  {
   "cell_type": "markdown",
   "id": "317b2272",
   "metadata": {},
   "source": [
    "Iteractive 환경의 plot을 사용하고 싶어면 "
   ]
  },
  {
   "cell_type": "code",
   "execution_count": 8,
   "id": "f388487f",
   "metadata": {},
   "outputs": [],
   "source": [
    "# ENV[\"DISPLAY\"]=\"localhost:10.0\"\n",
    "using InteractiveDynamics\n",
    "using CairoMakie\n",
    "CairoMakie.activate!()\n",
    "# using GLMakie\n",
    "# GLMakie.activate!()"
   ]
  },
  {
   "cell_type": "code",
   "execution_count": 14,
   "id": "51df8a33",
   "metadata": {},
   "outputs": [
    {
     "data": {
      "text/plain": [
       "AgentBasedModel with 300 agents of type SchellingAgent\n",
       " space: GridSpaceSingle with size (20, 20), metric=chebyshev, periodic=false\n",
       " scheduler: Agents.Schedulers.Randomly\n",
       " properties: min_to_be_happy"
      ]
     },
     "execution_count": 14,
     "metadata": {},
     "output_type": "execute_result"
    }
   ],
   "source": [
    "model = initialize(; numagents = 300) "
   ]
  },
  {
   "cell_type": "code",
   "execution_count": 10,
   "id": "53d73696",
   "metadata": {},
   "outputs": [
    {
     "data": {
      "text/plain": [
       "(ac = groupcolor, am = groupmarker, as = 10)"
      ]
     },
     "execution_count": 10,
     "metadata": {},
     "output_type": "execute_result"
    }
   ],
   "source": [
    "groupcolor(a) = a.group == 1 ? :blue : :orange\n",
    "groupmarker(a) = a.group == 1 ? :circle : :rect\n",
    "\n",
    "plotkwargs =(;ac = groupcolor, am = groupmarker, as = 10)"
   ]
  },
  {
   "cell_type": "markdown",
   "id": "d7bafe92",
   "metadata": {},
   "source": [
    "참고: https://juliadynamics.github.io/InteractiveDynamics.jl/stable/agents/"
   ]
  },
  {
   "cell_type": "code",
   "execution_count": 15,
   "id": "8680f61f",
   "metadata": {},
   "outputs": [
    {
     "data": {
      "text/plain": [
       "(Scene (800px, 600px):\n",
       "  1 Plot:\n",
       "    └ Combined{Makie._inspector, Tuple{Int64}}\n",
       "  6 Child Scenes:\n",
       "    ├ Scene (800px, 600px)\n",
       "    ├ Scene (800px, 600px)\n",
       "    ├ Scene (800px, 600px)\n",
       "    ├ Scene (800px, 600px)\n",
       "    ├ Scene (800px, 600px)\n",
       "    └ Scene (800px, 600px), Axis (2 plots), ABMObservable with model:\n",
       "AgentBasedModel with 300 agents of type SchellingAgent\n",
       " space: GridSpaceSingle with size (20, 20), metric=chebyshev, periodic=false\n",
       " scheduler: Agents.Schedulers.Randomly\n",
       " properties: min_to_be_happy\n",
       "and with data collection:\n",
       " adata: nothing\n",
       " mdata: nothing)"
      ]
     },
     "execution_count": 15,
     "metadata": {},
     "output_type": "execute_result"
    }
   ],
   "source": [
    "fig, ax, abmobs= abmplot(model;\n",
    "agent_step! = agent_step!, model_step! = dummystep,\n",
    "plotkwargs...)"
   ]
  },
  {
   "cell_type": "code",
   "execution_count": 17,
   "id": "eabd19a2",
   "metadata": {},
   "outputs": [
    {
     "data": {
      "text/plain": [
       "GLMakie.Screen(...)"
      ]
     },
     "execution_count": 17,
     "metadata": {},
     "output_type": "execute_result"
    }
   ],
   "source": [
    "display(fig)"
   ]
  },
  {
   "cell_type": "code",
   "execution_count": null,
   "id": "995cc7ee",
   "metadata": {},
   "outputs": [],
   "source": []
  }
 ],
 "metadata": {
  "kernelspec": {
   "display_name": "Julia 1.7.2",
   "language": "julia",
   "name": "julia-1.7"
  },
  "language_info": {
   "file_extension": ".jl",
   "mimetype": "application/julia",
   "name": "julia",
   "version": "1.7.2"
  }
 },
 "nbformat": 4,
 "nbformat_minor": 5
}
