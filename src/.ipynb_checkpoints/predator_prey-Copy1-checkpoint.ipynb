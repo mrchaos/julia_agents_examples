{
 "cells": [
  {
   "cell_type": "markdown",
   "id": "aa055cd0",
   "metadata": {},
   "source": [
    "# Predator-prey dynamics\n",
    "\n",
    "참조 : <a href=\"https://en.wikipedia.org/wiki/Lotka%E2%80%93Volterra_equations\" target=\"_blank\">https://en.wikipedia.org/wiki/Lotka%E2%80%93Volterra_equations</a>\n",
    "\n",
    "#### predator-prey 모델은 같이 살고 있는 생태계에서 제한된 자원을 놓고 포식자와 피식자간의 개체군 역학(population dynamics)을 시뮬레이션 한다.\n",
    "\n",
    "이 예제는 이종 행위자(혼합 행위자 기반 모델 (`mixed agent based model`))를 사용하여 모델을 개발하는 방법,\n",
    "역학에서 공간적 특성의 통합, 하나의 gird 좌표에 여러 행위자(agent)가 허용되는 `GridSpace`의 사용법을 설명한다. \n",
    "\n",
    "#### 모델설명\n",
    "환경은 양(sheep), 늑대(wolf), 풀(grass)가 있는 2차원 그리드 이다.\\\n",
    "모델에서 늑대는 양을 먹고 양은 풀을 먹는다.\\\n",
    "자원의 균형이 잘 맞으면 개체군의 수는 시간에 따라 늘어났다 줄었다 진동하게 되는데 자원 균형이 무너지면 개체군은 멸종 할 수 있다.\\\n",
    "예를들어, 늑대가 너무 많아 지면 양이 고갈되고 결국 늑대는 굶어 죽는다.\n",
    "\n",
    "늑대(`Wolf`),양(`Sheep`)은 행위자(agent)이고 풀(`grass`)은 모델에서 공간적 속성이다.\\\n",
    "늑대와 양은 동일한 속성을 가지지만 다른 행위를 한다.\\\n",
    "에너지(`energy`) 속성은 늑대와 양의 현재 에너지 레벨을 나타낸다.\\\n",
    "에너지 레벨이 0 이하가 되면 행위자는 죽는다.\\\n",
    "이 모델에서 늑대와 양은 주어진 재생산확률(`reproduction_prob`)로 무성생식을 한다.\\\n",
    "`Δenergy` 속성은 음식을 섭취한 후 획득하는 에너지의 양을 제어한다.\n",
    "\n",
    "풀(`grass`)은 grid space의 모든 위치에서 계속 채워지는 자원이다.\\\n",
    "풀은 완전히 자란 경우(`fully_grown`)에만 먹을 수 있다.\\\n",
    "풀이 소모되면 재성장(`regrowth_time`) 속성으로 지정된 시간이 지난후 다시 채워진다.\\\n",
    "`countdown` 속성은 풀이 소모된후 재성장하는 시간의 지연을 추적 한다.\n",
    "\n",
    "\n",
    " 소스 : <a href=\"https://github.com/mrchaos/julia_agents_examples\" target=\"_blank\">https://github.com/mrchaos/julia_agents_examples</a>\n",
    " \n",
    " ## 동작 환경\n",
    "- Julia   : v1.7.2\n",
    "- Agents  : v5.5.0\n",
    "- InteractiveDynamics : v0.21.11\n",
    "- GLMakie : v0.6.13\n",
    "- CairoMakie : v0.8.13\n",
    "\n",
    "\n",
    "\n",
    "- GLMakie를 사용하고 싶은 경우 설정에 대해서는 <a href=\"https://julialang.kr/?p=3684\" target=\"_blank\">https://julialang.kr/?p=3684</a> 를 참조"
   ]
  },
  {
   "cell_type": "code",
   "execution_count": 1,
   "id": "aaccc4f1",
   "metadata": {},
   "outputs": [],
   "source": [
    "using Agents\n",
    "using Random"
   ]
  },
  {
   "cell_type": "markdown",
   "id": "6897749c",
   "metadata": {},
   "source": [
    "### Define Agent Structure"
   ]
  },
  {
   "cell_type": "code",
   "execution_count": 2,
   "id": "1a703946",
   "metadata": {},
   "outputs": [],
   "source": [
    "@agent Sheep GridAgent{2} begin\n",
    "    energy::Float64\n",
    "    reproduction_prob::Float64\n",
    "    Δenergy::Float64    \n",
    "end\n",
    "@agent Wolf GridAgent{2} begin\n",
    "    energy::Float64\n",
    "    reproduction_prob::Float64\n",
    "    Δenergy::Float64    \n",
    "end"
   ]
  },
  {
   "cell_type": "markdown",
   "id": "63c08aac",
   "metadata": {},
   "source": [
    "### Initialize Model"
   ]
  },
  {
   "cell_type": "code",
   "execution_count": 3,
   "id": "a421cd97",
   "metadata": {},
   "outputs": [
    {
     "data": {
      "text/plain": [
       "initialize_model (generic function with 1 method)"
      ]
     },
     "execution_count": 3,
     "metadata": {},
     "output_type": "execute_result"
    }
   ],
   "source": [
    "function initialize_model(;\n",
    "        n_sheep = 100,\n",
    "        n_wolves = 50,\n",
    "        dims = (50, 50),\n",
    "        regrowth_time = 30,\n",
    "        Δenergy_sheep = 4,\n",
    "        Δenergy_wolf = 20,\n",
    "        sheep_reproduce = 0.04,\n",
    "        wolf_reproduce = 0.05,\n",
    "        seed = 23182\n",
    "    )\n",
    "    rng = MersenneTwister(seed)\n",
    "    space = GridSpace(dims, periodic = true)\n",
    "    \n",
    "    ## 모델 속성으로 풀이 완전히 다자란 풀과 다시 자라는 걸리는 시간을 나타내는 배열 2개를 포함하고\n",
    "    ## statici parameter로 풀의 재생시간을 나타내는 `regrowth_time`을 포함한다.\n",
    "    ## 속성은 `NamedTuple`로 나타낸다.\n",
    "    \n",
    "    properties = (\n",
    "        fully_grown = falses(dims),\n",
    "        countdown = zeros(Int, dims),\n",
    "        regrowth_time = regrowth_time,\n",
    "    )\n",
    "    \n",
    "    # 모델 생성\n",
    "    model = ABM(Union{Sheep, Wolf}, space;\n",
    "        properties, rng, scheduler = Schedulers.randomly, warn = false)\n",
    "    \n",
    "    # 모델에 agent 추가\n",
    "    for _ in 1:n_sheep\n",
    "        # 초기 에너지를 음식에서 획득하는 에너지의 2배를 에너지로 설정 한다.          \n",
    "        energy = rand(model.rng, 1:(Δenergy_sheep*2)) - 1\n",
    "        add_agent!(Sheep, model, energy, sheep_reproduce, Δenergy_sheep)\n",
    "    end\n",
    "    \n",
    "    for _ in :1:n_wolves\n",
    "        energy = rand(model.rng, 1:(Δenergy_wolf*2)) - 1\n",
    "        add_agent!(Wolf, model, energy, wolf_reproduce, Δenergy_wolf)\n",
    "    end\n",
    "    \n",
    "    # 모델에 grass추가\n",
    "    # 모델의 모든 grid좌표에 풀의 속성을 저장한다.\n",
    "    for p in positions(model)\n",
    "        fully_grown = rand(model.rng, Bool)\n",
    "        # 풀이 다자란 경우 풀이 다시 자라기 시작하는 시간을 regrowth_time 이 후 부터\n",
    "        # 풀이 자라고 있는 경우 0 ~ regrowth_time-1 사이의 지연 시간을 설정\n",
    "        countdown = fully_grown ? regrowth_time : rand(model.rng, 1:regrowth_time) - 1\n",
    "        #  예) p = (2,3)\n",
    "        model.countdown[p...] = countdown\n",
    "        model.fully_grown[p...] = fully_grown\n",
    "    end\n",
    "    return model\n",
    "end"
   ]
  },
  {
   "cell_type": "markdown",
   "id": "e4989dfc",
   "metadata": {},
   "source": [
    "### Defining Stepping\n",
    "\n",
    "* 양과 늑대는 유사하게 행동한다.\n",
    "* 양과 늑대는 근처 위치로 옮겨 갈때 마다 1에너지를 사용하고 가용한 음식을 섭취한다.\n",
    "  - 늑대의 경우 이동한 위치에 양이 있어면 양을 잡아 먹는다.\n",
    "  - 양의 경우 이동한 위치에 풀이 있어면 풀을 뜯어 먹는다.\n",
    "* 에너지 레벨이 0 이하가 되면 죽는다 그게 아니면 살아 있고 주어진 재생산 확률로  번식한다.\n",
    "* 양과 늑대는 `walk!` function으로 근처로 무작위로 이동한다."
   ]
  },
  {
   "cell_type": "markdown",
   "id": "fb0ffa93",
   "metadata": {},
   "source": [
    "#### 이동\n",
    "* 이동 : 무직위로 근처로 이동\n",
    "* 먹기 : 이동한 장소에 먹이가 있으면 먹는다\n",
    "* 번식 : 주어진 번식 확률로 번식 한다."
   ]
  },
  {
   "cell_type": "code",
   "execution_count": 4,
   "id": "151e8707",
   "metadata": {},
   "outputs": [
    {
     "data": {
      "text/plain": [
       "sheepwolf_step! (generic function with 2 methods)"
      ]
     },
     "execution_count": 4,
     "metadata": {},
     "output_type": "execute_result"
    }
   ],
   "source": [
    "function sheepwolf_step!(sheep::Sheep, model)\n",
    "    ## 무작위로 근처로 이동\n",
    "    walk!(sheep, rand, model;ifempty=false) # 내장 함수\n",
    "    # 에너지 1소비\n",
    "    sheep.energy -= 1\n",
    "    # 에너지가 0보다 작으면 양은 죽는다.\n",
    "    if sheep.energy < 0\n",
    "        kill_agent!(sheep, model) # 내장 함수\n",
    "        return\n",
    "    end\n",
    "    ## 이동한 지역에 먹을것이 있는 경우 먹는다.\n",
    "    eat!(sheep, model)\n",
    "    ## 재생산 확률로 번식한다.\n",
    "    if rand(model.rng) ≤ sheep.reproduction_prob\n",
    "        reproduce!(sheep, model)\n",
    "    end\n",
    "end\n",
    "\n",
    "function sheepwolf_step!(wolf::Wolf, model)\n",
    "    walk!(wolf, rand, model;ifempty=false)\n",
    "    wolf.energy -= 1\n",
    "    if wolf.energy < 0\n",
    "        kill_agent!(wolf,model)\n",
    "        return\n",
    "    end\n",
    "    ## 옮긴 지역에 양이 있는 경우 잡아 먹는다.\n",
    "    dinner = first_sheep_in_position(wolf.pos, model)\n",
    "    !isnothing(dinner) && eat!(wolf, dinner, model)\n",
    "    ## 재생산\n",
    "    if rand(model.rng) ≤ wolf.reproduction_prob\n",
    "        reproduce!(wolf, model)\n",
    "    end\n",
    "end"
   ]
  },
  {
   "cell_type": "markdown",
   "id": "dade292c",
   "metadata": {},
   "source": [
    "#### 먹기\n",
    "* 양과 늑대는 서로 먹이가 다름으로 각각 eat! function을 정의 한다.\n",
    "* 양이 풀을 먹으면 추가적인 에너지를 얻고 풀은 재성장 시간이 흘러 다 자랄때 까지 먹지 못한다.\n",
    "* 늑대가 양을 먹으면 양은 죽고 늑대는 추가적인 에너지를 얻는다."
   ]
  },
  {
   "cell_type": "code",
   "execution_count": 5,
   "id": "55b79024",
   "metadata": {},
   "outputs": [
    {
     "data": {
      "text/plain": [
       "eat! (generic function with 2 methods)"
      ]
     },
     "execution_count": 5,
     "metadata": {},
     "output_type": "execute_result"
    }
   ],
   "source": [
    "function first_sheep_in_position(pos, model)\n",
    "    # 선택된 grid에 있는 양과 늑대의 id 목록을 가지고 온다.\n",
    "    ids = ids_in_position(pos, model)\n",
    "    # 가져온 id 목록에서 첫번째 양의 index를 가져온다.\n",
    "    j = findfirst(id -> model[id] isa Sheep, ids)\n",
    "    # id 목록에서 첫번째 양의 index에 해당하는 양의 id를 찾아서\n",
    "    # 해당 양을 가지고 온다.\n",
    "#     if !isnothing(j)\n",
    "#         println(\"Sheep : \",model[ids[j]].pos, \" Wolf : \", pos)\n",
    "#     end\n",
    "    \n",
    "    isnothing(j) ? nothing : model[ids[j]]::Sheep\n",
    "end\n",
    "\n",
    "function eat!(sheep::Sheep, model)\n",
    "    # 다자란 풀만 먹는다\n",
    "    if model.fully_grown[sheep.pos...]\n",
    "        # 풀먹고 에너지 획득\n",
    "        sheep.energy += sheep.Δenergy\n",
    "        # 풀이 있었던자리에 풀을 먹을 수 없음을 표시\n",
    "        model.fully_grown[sheep.pos...] = false\n",
    "    end\n",
    "    return\n",
    "end\n",
    "\n",
    "function eat!(wolf::Wolf, sheep::Sheep, model)\n",
    "    # 늑대 먹이가 된 양은 죽음으로 처리\n",
    "    kill_agent!(sheep, model)\n",
    "    # 늑대가 추가적인 에너지를 얻는다.\n",
    "    wolf.energy += wolf.Δenergy\n",
    "    return\n",
    "end"
   ]
  },
  {
   "cell_type": "markdown",
   "id": "c803353a",
   "metadata": {},
   "source": [
    "#### 번식(재생산)\n",
    "##### 양과 늑대\n",
    "* 양과 늑대는 재생산 방법 공유한다.\n",
    "* 재생산에는 부모의 현재 에너지의 1/2을 사용한다.(즉 자식에게 에너지 절반을 준다)\n",
    "* 자식은 `id`를 제외하고 부모와 동일한 복제본 이다.\n",
    "\n",
    "##### 풀\n",
    "* 풀이 완전히 자라면 먹을 수 있다.\n",
    "* 재성장 시간 `regrowth_tile`에 설정된 시간이 지나야 먹을 수 있다.\n",
    "* 풀은 환경에 속하기 때문에 model_step! function이다."
   ]
  },
  {
   "cell_type": "code",
   "execution_count": 6,
   "id": "68aba3d8",
   "metadata": {},
   "outputs": [
    {
     "data": {
      "text/plain": [
       "reproduce! (generic function with 1 method)"
      ]
     },
     "execution_count": 6,
     "metadata": {},
     "output_type": "execute_result"
    }
   ],
   "source": [
    "function reproduce!(agent::A, model) where {A}\n",
    "    agent.energy /= 2\n",
    "    offspring = deepcopy(agent)\n",
    "    offspring.id = nextid(model)    \n",
    "    add_agent_pos!(offspring,model)\n",
    "    return\n",
    "end"
   ]
  },
  {
   "cell_type": "code",
   "execution_count": 7,
   "id": "317f72b4",
   "metadata": {},
   "outputs": [
    {
     "data": {
      "text/plain": [
       "grass_step! (generic function with 1 method)"
      ]
     },
     "execution_count": 7,
     "metadata": {},
     "output_type": "execute_result"
    }
   ],
   "source": [
    "function grass_step!(model)\n",
    "    @inbounds for p in positions(model) # @inbounds: 배열의 경계 체크를 끊다\n",
    "        # 풀이 다 자라지 않은 경우\n",
    "        if !(model.fully_grown[p...])\n",
    "            # 풀이 다 성장한 경우 성장완료 표시, countdown에 재성장 시간을 다시 설정 한다.\n",
    "            if model.countdown[p...] ≤ 0\n",
    "                model.fully_grown[p...] = true\n",
    "                model.countdown[p...] = model.regrowth_time\n",
    "            # 풀이 다 성장 하지 않은 경우 countdown을 차감 하여 성장하고 있음을 나타냄\n",
    "            else\n",
    "                model.countdown[p...] -= 1\n",
    "            end\n",
    "        end\n",
    "    end\n",
    "end"
   ]
  },
  {
   "cell_type": "markdown",
   "id": "0b6b9518",
   "metadata": {},
   "source": [
    "### 모델 실행\n",
    "* 500 step 동안 모델을 실행하고 매 스텝마다 양,늑대,먹을 수 있는 풀이 있는 자리를 기록 한다."
   ]
  },
  {
   "cell_type": "code",
   "execution_count": 8,
   "id": "dca86820",
   "metadata": {},
   "outputs": [],
   "source": [
    "using InteractiveDynamics\n",
    "using CairoMakie\n",
    "CairoMakie.activate!()"
   ]
  },
  {
   "cell_type": "markdown",
   "id": "0609d035",
   "metadata": {},
   "source": [
    "* 초기에 시작하는 양과 늑대, 풀의 개괄적인 plot을 보기 위해 `abmplot`을 사용한다.\n",
    "* 양과 늑대에 대해 자세한 plot을 정의 한다."
   ]
  },
  {
   "cell_type": "code",
   "execution_count": 9,
   "id": "e5cb129e",
   "metadata": {},
   "outputs": [
    {
     "data": {
      "text/plain": [
       "(ac = acolor, as = 25, am = ashape, offset = offset, scatterkwargs = (strokewidth = 1.0, strokecolor = :black), heatarray = grasscolor, heatkwargs = (colormap = [:brown, :green], colorrange = (0, 1)))"
      ]
     },
     "execution_count": 9,
     "metadata": {},
     "output_type": "execute_result"
    }
   ],
   "source": [
    "# 양과 늑대가 완전히 겹쳐 보이지 않게 하기 위해 약간 이동한다.\n",
    "# 양인 경우 왼쪽으로 0.1, 아래로 0 ~0.1 이동, 늑대는 반대로 이동\n",
    "offset(a) = a isa Sheep ? (-0.1, -0.1*rand()) : (+0.1,+0.1*rand())\n",
    "\n",
    "ashape(a) = a isa Sheep ? :circle : :utriangle\n",
    "acolor(a) = a isa Sheep ? RGBAf(1.0, 1.0, 1.0, 0.8) :  RGBAf(0.2, 0.2, 0.2, 0.8)\n",
    "\n",
    "# 풀은 heatmap 사용\n",
    "# grasscolor(model) = model.countdown ./ model.regrowth_time\n",
    "grasscolor(model) = model.fully_grown .* 1\n",
    "\n",
    "heatkwargs = (colormap = [:brown, :green], colorrange=(0,1))\n",
    "\n",
    "plotkwargs = (;\n",
    "    ac = acolor,\n",
    "    as = 25,\n",
    "    am = ashape,\n",
    "    offset,\n",
    "    scatterkwargs = (strokewidth = 1.0, strokecolor = :black),\n",
    "    heatarray = grasscolor,\n",
    "    heatkwargs = heatkwargs,\n",
    ")"
   ]
  },
  {
   "cell_type": "code",
   "execution_count": null,
   "id": "91af543d",
   "metadata": {},
   "outputs": [],
   "source": [
    "sheepwolfgrass = initialize_model(dims=(50,50))\n",
    "\n",
    "fig, ax, abmobs = abmplot(sheepwolfgrass;\n",
    "    agent_step! = sheepwolf_step!,\n",
    "    model_step! = grass_step!,\n",
    "    plotkwargs...)\n",
    "fig"
   ]
  },
  {
   "cell_type": "code",
   "execution_count": 41,
   "id": "b0b5ff4c",
   "metadata": {},
   "outputs": [
    {
     "data": {
      "text/plain": [
       "GLMakie.Screen(...)"
      ]
     },
     "execution_count": 41,
     "metadata": {},
     "output_type": "execute_result"
    }
   ],
   "source": [
    "let\n",
    "    ENV[\"DISPLAY\"]=\"localhost:11.0\"\n",
    "    using GLMakie\n",
    "    GLMakie.activate!()\n",
    "    \n",
    "    sheepwolfgrass = initialize_model(\n",
    "        dims=(50, 50),\n",
    "#         n_wolves=100,\n",
    "#         Δenergy_wolf = 80,\n",
    "        seed=12345\n",
    "    )\n",
    "\n",
    "    fig, ax, abmobs = abmplot(sheepwolfgrass;\n",
    "        agent_step! = sheepwolf_step!,\n",
    "        model_step! = grass_step!,\n",
    "        plotkwargs...)\n",
    "   \n",
    "    display(fig)    \n",
    "end"
   ]
  },
  {
   "cell_type": "markdown",
   "id": "77820ebf",
   "metadata": {},
   "source": [
    "#### 시뮬레이셔 실행 및 데이터 수집"
   ]
  },
  {
   "cell_type": "code",
   "execution_count": 15,
   "id": "6d0f91e8",
   "metadata": {},
   "outputs": [
    {
     "data": {
      "text/plain": [
       "wolf (generic function with 1 method)"
      ]
     },
     "execution_count": 15,
     "metadata": {},
     "output_type": "execute_result"
    }
   ],
   "source": [
    "sheep(a) = a isa Sheep\n",
    "wolf(a) = a isa Wolf"
   ]
  },
  {
   "cell_type": "code",
   "execution_count": 16,
   "id": "a6238efd",
   "metadata": {},
   "outputs": [
    {
     "data": {
      "text/plain": [
       "disp (generic function with 1 method)"
      ]
     },
     "execution_count": 16,
     "metadata": {},
     "output_type": "execute_result"
    }
   ],
   "source": [
    "function disp(model)\n",
    "    fig, ax, abmobs = abmplot(model;\n",
    "    agent_step! = sheepwolf_step!,\n",
    "    model_step! = grass_step!,\n",
    "    plotkwargs...)\n",
    "    fig\n",
    "end"
   ]
  },
  {
   "cell_type": "code",
   "execution_count": 17,
   "id": "cb70fa3d",
   "metadata": {},
   "outputs": [],
   "source": [
    "# model = initialize_model(dims=(5,5),n_sheep=25,n_wolves=1)\n",
    "\n",
    "# for (id,a) in model.agents\n",
    "#     println(id,\"\\t\",a)\n",
    "#     if a isa Wolf\n",
    "#         println(\"Wolf POS : \",a.pos)\n",
    "#     end\n",
    "# end\n",
    "\n",
    "# disp(model)"
   ]
  },
  {
   "cell_type": "code",
   "execution_count": 18,
   "id": "d80b765d",
   "metadata": {},
   "outputs": [],
   "source": [
    "# model[26].pos=(3,2)\n",
    "# disp(model)"
   ]
  },
  {
   "cell_type": "code",
   "execution_count": 19,
   "id": "81fbb337",
   "metadata": {},
   "outputs": [],
   "source": [
    "# w = model[26]::Wolf\n",
    "# println(w.pos)\n",
    "# walk!(w,(-1,0),model;ifempty=false)\n",
    "# println([id for id in ids_in_position(w.pos, model) if  model[id] isa Sheep])\n",
    "# dinner = first_sheep_in_position(w.pos, model)\n",
    "# !isnothing(dinner) && println(\"dinner : \",dinner.pos)\n",
    "# !isnothing(dinner) && eat!(w, dinner, model)\n",
    "# println(w.pos)\n",
    "# disp(model)"
   ]
  },
  {
   "cell_type": "code",
   "execution_count": 22,
   "id": "8033d8ae",
   "metadata": {},
   "outputs": [
    {
     "data": {
      "text/plain": [
       "AgentBasedModel with 150 agents of type Union{Sheep, Wolf}\n",
       " space: GridSpace with size (50, 50), metric=chebyshev, periodic=true\n",
       " scheduler: randomly\n",
       " properties: fully_grown, countdown, regrowth_time"
      ]
     },
     "execution_count": 22,
     "metadata": {},
     "output_type": "execute_result"
    }
   ],
   "source": [
    "model = initialize_model()"
   ]
  },
  {
   "cell_type": "code",
   "execution_count": 29,
   "id": "af867d97",
   "metadata": {},
   "outputs": [
    {
     "data": {
      "text/plain": [
       "(\u001b[1m0×0 DataFrame\u001b[0m, \u001b[1m0×0 DataFrame\u001b[0m)"
      ]
     },
     "execution_count": 29,
     "metadata": {},
     "output_type": "execute_result"
    }
   ],
   "source": [
    "adf, mdf = run!(model,sheepwolf_step!,grass_step!,10)"
   ]
  },
  {
   "cell_type": "code",
   "execution_count": 30,
   "id": "c83b7f77",
   "metadata": {},
   "outputs": [
    {
     "data": {
      "image/png": "[encoded data removed]",
      "text/plain": [
       "Figure()"
      ]
     },
     "execution_count": 30,
     "metadata": {},
     "output_type": "execute_result"
    }
   ],
   "source": [
    "disp(model)"
   ]
  },
  {
   "cell_type": "code",
   "execution_count": null,
   "id": "c7022c98",
   "metadata": {},
   "outputs": [],
   "source": []
  },
  {
   "cell_type": "code",
   "execution_count": null,
   "id": "06bde184",
   "metadata": {},
   "outputs": [],
   "source": []
  }
 ],
 "metadata": {
  "kernelspec": {
   "display_name": "Julia 1.7.2",
   "language": "julia",
   "name": "julia-1.7"
  },
  "language_info": {
   "file_extension": ".jl",
   "mimetype": "application/julia",
   "name": "julia",
   "version": "1.7.2"
  }
 },
 "nbformat": 4,
 "nbformat_minor": 5
}
