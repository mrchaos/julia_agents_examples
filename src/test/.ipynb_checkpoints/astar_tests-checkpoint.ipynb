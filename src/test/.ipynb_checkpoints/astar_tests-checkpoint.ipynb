{
 "cells": [
  {
   "cell_type": "code",
   "execution_count": 1,
   "id": "1539bbdf",
   "metadata": {},
   "outputs": [
    {
     "name": "stderr",
     "output_type": "stream",
     "text": [
      "┌ Info: Precompiling Agents [46ada45e-f475-11e8-01d0-f70cc89e6671]\n",
      "└ @ Base loading.jl:1423\n"
     ]
    }
   ],
   "source": [
    "using Agents, Test"
   ]
  },
  {
   "cell_type": "code",
   "execution_count": 2,
   "id": "2087bdb0",
   "metadata": {},
   "outputs": [],
   "source": [
    "using Agents.Pathfinding"
   ]
  },
  {
   "cell_type": "code",
   "execution_count": 3,
   "id": "929cafef",
   "metadata": {},
   "outputs": [],
   "source": [
    "using PrettyPrint:pprintln"
   ]
  },
  {
   "cell_type": "code",
   "execution_count": 4,
   "id": "1cbda67b",
   "metadata": {},
   "outputs": [],
   "source": [
    "using BenchmarkTools"
   ]
  },
  {
   "cell_type": "code",
   "execution_count": 5,
   "id": "3a01a2ae",
   "metadata": {},
   "outputs": [
    {
     "data": {
      "text/plain": [
       "newline (generic function with 1 method)"
      ]
     },
     "execution_count": 5,
     "metadata": {},
     "output_type": "execute_result"
    }
   ],
   "source": [
    "newline() = println()"
   ]
  },
  {
   "cell_type": "code",
   "execution_count": 6,
   "id": "2fa3215a",
   "metadata": {},
   "outputs": [
    {
     "name": "stdout",
     "output_type": "stream",
     "text": [
      "map_size = size(pathfinder.walkmap) = (5, 5)\n",
      "Δ = (6, 3)\n",
      "map_size .- Δ = (-1, 2)\n",
      "\n",
      "Pathfinding.sqr_distance(from, to, pathfinder) = 5\n",
      "Pathfinding.position_delta(pathfinder, from, to) = (-1, 2)\n",
      "sqr_dist(from, to) = 5\n",
      "sum(Δ .^ 2) = 5\n",
      "pos2(from, to, 2) = (1, 3)\n",
      "pos(from, to) = (-1, 2)\n"
     ]
    },
    {
     "data": {
      "text/plain": [
       "(-1, 2)"
      ]
     },
     "execution_count": 6,
     "metadata": {},
     "output_type": "execute_result"
    }
   ],
   "source": [
    "let\n",
    "    gspace = GridSpace((5,5))\n",
    "    pathfinder = AStar(gspace)\n",
    "    from = Dims{2}((1,4))\n",
    "    to = Dims{2}((7,7))\n",
    "    Δ = abs.(to .- from)\n",
    "    @show map_size = size(pathfinder.walkmap)\n",
    "    @show Δ\n",
    "    @show map_size .- Δ\n",
    "    newline()\n",
    "    @show Pathfinding.sqr_distance(from, to, pathfinder)\n",
    "    @show Pathfinding.position_delta(pathfinder,from, to)\n",
    "    sqr_dist(from,to) = sum(min.(abs.(from .- to), pathfinder.dims .- abs.(from .- to)) .^ 2)\n",
    "    @show sqr_dist(from,to)\n",
    "    pos(from,to) = Pathfinding.position_delta(pathfinder,from, to)\n",
    "    Δ = pos(from,to)\n",
    "    @show sum(Δ .^ 2)\n",
    "    function pos2(from, to,D) \n",
    "        Δ = abs.(to .- from)\n",
    "        Δ= any(Δ .> pathfinder.dims) ? Δ .% pathfinder.dims : Δ\n",
    "    end\n",
    "    @show pos2(from, to, 2)\n",
    "    @show pos(from, to)\n",
    "#     @show min.((3,2),(2,3))\n",
    "#     from, to = (8,7), (5,4) #,((2,3),(2,3))\n",
    "#     delta = min.(abs.(to .- from))\n",
    "#     from \n",
    "end"
   ]
  },
  {
   "cell_type": "markdown",
   "id": "36bbb508",
   "metadata": {},
   "source": [
    "# AStar test"
   ]
  },
  {
   "cell_type": "markdown",
   "id": "7a324082",
   "metadata": {},
   "source": [
    "```julia\n",
    "struct AStar{D,P,M,T,C<:CostMetric{D}} <: GridPathfinder{D,P,M}\n",
    "    agent_paths::Dict{Int,Path{D,T}}\n",
    "    dims::NTuple{D,T}\n",
    "    neighborhood::Vector{CartesianIndex{D}}\n",
    "    admissibility::Float64\n",
    "    walkmap::BitArray{D}\n",
    "    cost_metric::C\n",
    "end\n",
    "```"
   ]
  },
  {
   "cell_type": "code",
   "execution_count": 7,
   "id": "483cbc5c",
   "metadata": {},
   "outputs": [
    {
     "data": {
      "text/plain": [
       "8-element Vector{CartesianIndex{2}}:\n",
       " CartesianIndex(-1, -1)\n",
       " CartesianIndex(0, -1)\n",
       " CartesianIndex(1, -1)\n",
       " CartesianIndex(-1, 0)\n",
       " CartesianIndex(1, 0)\n",
       " CartesianIndex(-1, 1)\n",
       " CartesianIndex(0, 1)\n",
       " CartesianIndex(1, 1)"
      ]
     },
     "execution_count": 7,
     "metadata": {},
     "output_type": "execute_result"
    }
   ],
   "source": [
    "# 2D, 대각선 이웃\n",
    "moore = Pathfinding.moore_neighborhood(2)"
   ]
  },
  {
   "cell_type": "code",
   "execution_count": 8,
   "id": "e293deea",
   "metadata": {},
   "outputs": [
    {
     "data": {
      "text/plain": [
       "4-element Vector{CartesianIndex{2}}:\n",
       " CartesianIndex(0, -1)\n",
       " CartesianIndex(-1, 0)\n",
       " CartesianIndex(1, 0)\n",
       " CartesianIndex(0, 1)"
      ]
     },
     "execution_count": 8,
     "metadata": {},
     "output_type": "execute_result"
    }
   ],
   "source": [
    "# 2D 서로 수직인 이웃\n",
    "vonneuman = Pathfinding.vonneumann_neighborhood(2)"
   ]
  },
  {
   "cell_type": "code",
   "execution_count": 9,
   "id": "cbefbeae",
   "metadata": {},
   "outputs": [
    {
     "data": {
      "text/plain": [
       "GridSpace with size (5, 5), metric=chebyshev, periodic=true"
      ]
     },
     "execution_count": 9,
     "metadata": {},
     "output_type": "execute_result"
    }
   ],
   "source": [
    "gspace = GridSpace((5,5))"
   ]
  },
  {
   "cell_type": "code",
   "execution_count": 10,
   "id": "26969a31",
   "metadata": {},
   "outputs": [],
   "source": [
    "let\n",
    "    \n",
    "end"
   ]
  },
  {
   "cell_type": "code",
   "execution_count": 11,
   "id": "4b3e9183",
   "metadata": {},
   "outputs": [
    {
     "name": "stdout",
     "output_type": "stream",
     "text": [
      "GridSpace{2, true}(\n",
      "  stored_ids=Matrix{Vector{Int64}}(),\n",
      "  metric=:chebyshev,\n",
      "  offsets_within_radius={},\n",
      "  offsets_within_radius_no_0={},\n",
      "  indices_within_radius_tuple={},\n",
      ")\n"
     ]
    }
   ],
   "source": [
    "pprintln(gspace)"
   ]
  },
  {
   "cell_type": "code",
   "execution_count": 12,
   "id": "0a5b37e3",
   "metadata": {},
   "outputs": [
    {
     "name": "stdout",
     "output_type": "stream",
     "text": [
      "ContinuousSpace{2, true, Float64, typeof(Agents.no_vel_update)}(\n",
      "  grid=GridSpace{2, true}(\n",
      "         stored_ids=Matrix{Vector{Int64}}(),\n",
      "         metric=:euclidean,\n",
      "         offsets_within_radius={},\n",
      "         offsets_within_radius_no_0={},\n",
      "         indices_within_radius_tuple={},\n",
      "       ),\n",
      "  update_vel!=typeof(Agents.no_vel_update)(),\n",
      "  dims=(20, 20),\n",
      "  spacing=0.25,\n",
      "  extent=(5.0, 5.0),\n",
      ")\n"
     ]
    },
    {
     "data": {
      "text/plain": [
       "periodic continuous space with (5.0, 5.0) extent and spacing=0.25"
      ]
     },
     "execution_count": 12,
     "metadata": {},
     "output_type": "execute_result"
    }
   ],
   "source": [
    "cspace = ContinuousSpace((5., 5.))\n",
    "pprintln(cspace)\n",
    "cspace"
   ]
  },
  {
   "cell_type": "code",
   "execution_count": 13,
   "id": "b18a1d3f",
   "metadata": {},
   "outputs": [
    {
     "data": {
      "text/plain": [
       "0.0001"
      ]
     },
     "execution_count": 13,
     "metadata": {},
     "output_type": "execute_result"
    }
   ],
   "source": [
    "atol = 0.0001"
   ]
  },
  {
   "cell_type": "code",
   "execution_count": 14,
   "id": "edcde95d",
   "metadata": {},
   "outputs": [
    {
     "name": "stdout",
     "output_type": "stream",
     "text": [
      "AStar{2, true, true, Int64, DirectDistance{2}}(\n",
      "  agent_paths={},\n",
      "  dims=(5, 5),\n",
      "  neighborhood=[\n",
      "                 CartesianIndex{2}(\n",
      "                   I=(-1, -1),\n",
      "                 ),\n",
      "                 CartesianIndex{2}(\n",
      "                   I=(0, -1),\n",
      "                 ),\n",
      "                 CartesianIndex{2}(\n",
      "                   I=(1, -1),\n",
      "                 ),\n",
      "                 CartesianIndex{2}(\n",
      "                   I=(-1, 0),\n",
      "                 ),\n",
      "                 CartesianIndex{2}(\n",
      "                   I=(1, 0),\n",
      "                 ),\n",
      "                 CartesianIndex{2}(\n",
      "                   I=(-1, 1),\n",
      "                 ),\n",
      "                 CartesianIndex{2}(\n",
      "                   I=(0, 1),\n",
      "                 ),\n",
      "                 CartesianIndex{2}(\n",
      "                   I=(1, 1),\n",
      "                 ),\n",
      "               ],\n",
      "  admissibility=0.0,\n",
      "  walkmap=BitMatrix(\n",
      "            chunks=[0x0000000001ffffff,],\n",
      "            len=25,\n",
      "            dims=(5, 5),\n",
      "          ),\n",
      "  cost_metric=DirectDistance{2}(\n",
      "                direction_costs=[10, \n",
      "                                 14],\n",
      "              ),\n",
      ")\n"
     ]
    }
   ],
   "source": [
    "pprintln(AStar(gspace))"
   ]
  },
  {
   "cell_type": "code",
   "execution_count": 15,
   "id": "b3a0c8c6",
   "metadata": {},
   "outputs": [
    {
     "ename": "LoadError",
     "evalue": "AssertionError: DirectDistance direction_costs must have as many values as dimensions",
     "output_type": "error",
     "traceback": [
      "AssertionError: DirectDistance direction_costs must have as many values as dimensions",
      "",
      "Stacktrace:",
      " [1] AStar{2, true, true, Int64, DirectDistance{2}}(agent_paths::Dict{Int64, DataStructures.MutableLinkedList{Tuple{Int64, Int64}}}, dims::Tuple{Int64, Int64}, neighborhood::Vector{CartesianIndex{2}}, admissibility::Float64, walkmap::BitMatrix, cost_metric::DirectDistance{2})",
      "   @ Agents.Pathfinding ~/.julia/packages/Agents/4fHzr/src/submodules/pathfinding/astar.jl:31",
      " [2] AStar(dims::Tuple{Int64, Int64}; periodic::Bool, diagonal_movement::Bool, admissibility::Float64, walkmap::BitMatrix, cost_metric::DirectDistance{2})",
      "   @ Agents.Pathfinding ~/.julia/packages/Agents/4fHzr/src/submodules/pathfinding/astar.jl:73",
      " [3] #AStar#4",
      "   @ ~/.julia/packages/Agents/4fHzr/src/submodules/pathfinding/astar.jl:89 [inlined]",
      " [4] top-level scope",
      "   @ In[15]:1",
      " [5] eval",
      "   @ ./boot.jl:373 [inlined]",
      " [6] include_string(mapexpr::typeof(REPL.softscope), mod::Module, code::String, filename::String)",
      "   @ Base ./loading.jl:1196"
     ]
    }
   ],
   "source": [
    "pprintln(AStar(gspace; \n",
    "        diagonal_movement=true,\n",
    "        cost_metric = DirectDistance{2}([1,])) )"
   ]
  },
  {
   "cell_type": "markdown",
   "id": "6db2a124",
   "metadata": {},
   "source": [
    "### MaxDistance metic"
   ]
  },
  {
   "cell_type": "code",
   "execution_count": 16,
   "id": "7fcef88e",
   "metadata": {},
   "outputs": [
    {
     "name": "stdout",
     "output_type": "stream",
     "text": [
      "AStar{2, true, true, Int64, MaxDistance{2}}(\n",
      "  agent_paths={},\n",
      "  dims=(5, 5),\n",
      "  neighborhood=[\n",
      "                 CartesianIndex{2}(\n",
      "                   I=(-1, -1),\n",
      "                 ),\n",
      "                 CartesianIndex{2}(\n",
      "                   I=(0, -1),\n",
      "                 ),\n",
      "                 CartesianIndex{2}(\n",
      "                   I=(1, -1),\n",
      "                 ),\n",
      "                 CartesianIndex{2}(\n",
      "                   I=(-1, 0),\n",
      "                 ),\n",
      "                 CartesianIndex{2}(\n",
      "                   I=(1, 0),\n",
      "                 ),\n",
      "                 CartesianIndex{2}(\n",
      "                   I=(-1, 1),\n",
      "                 ),\n",
      "                 CartesianIndex{2}(\n",
      "                   I=(0, 1),\n",
      "                 ),\n",
      "                 CartesianIndex{2}(\n",
      "                   I=(1, 1),\n",
      "                 ),\n",
      "               ],\n",
      "  admissibility=0.0,\n",
      "  walkmap=BitMatrix(\n",
      "            chunks=[0x0000000001ffffff,],\n",
      "            len=25,\n",
      "            dims=(5, 5),\n",
      "          ),\n",
      "  cost_metric=MaxDistance{2}(),\n",
      ")\n"
     ]
    }
   ],
   "source": [
    "pprintln(AStar(gspace; cost_metric = MaxDistance{2}()))"
   ]
  },
  {
   "cell_type": "code",
   "execution_count": 17,
   "id": "55bcdf5b",
   "metadata": {},
   "outputs": [
    {
     "name": "stdout",
     "output_type": "stream",
     "text": [
      "MaxDistance{2}()\n"
     ]
    }
   ],
   "source": [
    "pprintln(AStar(gspace; cost_metric = MaxDistance{2}()).cost_metric)"
   ]
  },
  {
   "cell_type": "markdown",
   "id": "47221107",
   "metadata": {},
   "source": [
    "### PenaltyMap metric"
   ]
  },
  {
   "cell_type": "code",
   "execution_count": 18,
   "id": "14af1e8a",
   "metadata": {},
   "outputs": [
    {
     "name": "stdout",
     "output_type": "stream",
     "text": [
      "AStar{2, true, true, Int64, PenaltyMap{2}}(\n",
      "  agent_paths={},\n",
      "  dims=(5, 5),\n",
      "  neighborhood=[\n",
      "                 CartesianIndex{2}(\n",
      "                   I=(-1, -1),\n",
      "                 ),\n",
      "                 CartesianIndex{2}(\n",
      "                   I=(0, -1),\n",
      "                 ),\n",
      "                 CartesianIndex{2}(\n",
      "                   I=(1, -1),\n",
      "                 ),\n",
      "                 CartesianIndex{2}(\n",
      "                   I=(-1, 0),\n",
      "                 ),\n",
      "                 CartesianIndex{2}(\n",
      "                   I=(1, 0),\n",
      "                 ),\n",
      "                 CartesianIndex{2}(\n",
      "                   I=(-1, 1),\n",
      "                 ),\n",
      "                 CartesianIndex{2}(\n",
      "                   I=(0, 1),\n",
      "                 ),\n",
      "                 CartesianIndex{2}(\n",
      "                   I=(1, 1),\n",
      "                 ),\n",
      "               ],\n",
      "  admissibility=0.0,\n",
      "  walkmap=BitMatrix(\n",
      "            chunks=[0x0000000001ffffff,],\n",
      "            len=25,\n",
      "            dims=(5, 5),\n",
      "          ),\n",
      "  cost_metric=PenaltyMap{2}(\n",
      "                base_metric=DirectDistance{2}(\n",
      "                              direction_costs=[10, \n",
      "                                               14],\n",
      "                            ),\n",
      "                pmap=Matrix{Int64}(),\n",
      "              ),\n",
      ")\n",
      "true\n"
     ]
    }
   ],
   "source": [
    "let\n",
    "    p = AStar(gspace; cost_metric = PenaltyMap(fill(1,5,5)))\n",
    "    pprintln(p)\n",
    "    cost = p.cost_metric\n",
    "    pprintln(cost.pmap == fill(1,5,5))\n",
    "end"
   ]
  },
  {
   "cell_type": "markdown",
   "id": "fc1fdeeb",
   "metadata": {},
   "source": [
    "### ContinuousSpace"
   ]
  },
  {
   "cell_type": "code",
   "execution_count": 19,
   "id": "1b249ad0",
   "metadata": {},
   "outputs": [
    {
     "ename": "LoadError",
     "evalue": "AssertionError: Penaltymap dimensions must be same as walkable map",
     "output_type": "error",
     "traceback": [
      "AssertionError: Penaltymap dimensions must be same as walkable map",
      "",
      "Stacktrace:",
      " [1] AStar{2, true, true, Float64, PenaltyMap{2}}(agent_paths::Dict{Int64, DataStructures.MutableLinkedList{Tuple{Float64, Float64}}}, dims::Tuple{Float64, Float64}, neighborhood::Vector{CartesianIndex{2}}, admissibility::Float64, walkmap::BitMatrix, cost_metric::PenaltyMap{2})",
      "   @ Agents.Pathfinding ~/.julia/packages/Agents/4fHzr/src/submodules/pathfinding/astar.jl:28",
      " [2] AStar(dims::Tuple{Float64, Float64}; periodic::Bool, diagonal_movement::Bool, admissibility::Float64, walkmap::BitMatrix, cost_metric::PenaltyMap{2})",
      "   @ Agents.Pathfinding ~/.julia/packages/Agents/4fHzr/src/submodules/pathfinding/astar.jl:73",
      " [3] #AStar#5",
      "   @ ~/.julia/packages/Agents/4fHzr/src/submodules/pathfinding/astar.jl:100 [inlined]",
      " [4] top-level scope",
      "   @ In[19]:1",
      " [5] eval",
      "   @ ./boot.jl:373 [inlined]",
      " [6] include_string(mapexpr::typeof(REPL.softscope), mod::Module, code::String, filename::String)",
      "   @ Base ./loading.jl:1196"
     ]
    }
   ],
   "source": [
    "AStar(cspace; walkmap = trues((10,10)), cost_metric = PenaltyMap(fill(1,5,5)))"
   ]
  },
  {
   "cell_type": "code",
   "execution_count": 20,
   "id": "ce1b2bbe",
   "metadata": {},
   "outputs": [
    {
     "name": "stdout",
     "output_type": "stream",
     "text": [
      "AStar{2, true, true, Float64, PenaltyMap{2}}(\n",
      "  agent_paths={},\n",
      "  dims=(5.0, 5.0),\n",
      "  neighborhood=[\n",
      "                 CartesianIndex{2}(\n",
      "                   I=(-1, -1),\n",
      "                 ),\n",
      "                 CartesianIndex{2}(\n",
      "                   I=(0, -1),\n",
      "                 ),\n",
      "                 CartesianIndex{2}(\n",
      "                   I=(1, -1),\n",
      "                 ),\n",
      "                 CartesianIndex{2}(\n",
      "                   I=(-1, 0),\n",
      "                 ),\n",
      "                 CartesianIndex{2}(\n",
      "                   I=(1, 0),\n",
      "                 ),\n",
      "                 CartesianIndex{2}(\n",
      "                   I=(-1, 1),\n",
      "                 ),\n",
      "                 CartesianIndex{2}(\n",
      "                   I=(0, 1),\n",
      "                 ),\n",
      "                 CartesianIndex{2}(\n",
      "                   I=(1, 1),\n",
      "                 ),\n",
      "               ],\n",
      "  admissibility=0.0,\n",
      "  walkmap=BitMatrix(\n",
      "            chunks=[0x0000000001ffffff,],\n",
      "            len=25,\n",
      "            dims=(5, 5),\n",
      "          ),\n",
      "  cost_metric=PenaltyMap{2}(\n",
      "                base_metric=DirectDistance{2}(\n",
      "                              direction_costs=[10, \n",
      "                                               14],\n",
      "                            ),\n",
      "                pmap=Matrix{Int64}(),\n",
      "              ),\n",
      ")\n"
     ]
    }
   ],
   "source": [
    "pprintln(AStar(cspace; walkmap = trues((5,5)), cost_metric = PenaltyMap(fill(1,5,5))))"
   ]
  },
  {
   "cell_type": "code",
   "execution_count": 21,
   "id": "b0daaf14",
   "metadata": {},
   "outputs": [
    {
     "name": "stdout",
     "output_type": "stream",
     "text": [
      "AStar{2, true, true, Float64, PenaltyMap{2}}(\n",
      "  agent_paths={},\n",
      "  dims=(5.0, 5.0),\n",
      "  neighborhood=[\n",
      "                 CartesianIndex{2}(\n",
      "                   I=(-1, -1),\n",
      "                 ),\n",
      "                 CartesianIndex{2}(\n",
      "                   I=(0, -1),\n",
      "                 ),\n",
      "                 CartesianIndex{2}(\n",
      "                   I=(1, -1),\n",
      "                 ),\n",
      "                 CartesianIndex{2}(\n",
      "                   I=(-1, 0),\n",
      "                 ),\n",
      "                 CartesianIndex{2}(\n",
      "                   I=(1, 0),\n",
      "                 ),\n",
      "                 CartesianIndex{2}(\n",
      "                   I=(-1, 1),\n",
      "                 ),\n",
      "                 CartesianIndex{2}(\n",
      "                   I=(0, 1),\n",
      "                 ),\n",
      "                 CartesianIndex{2}(\n",
      "                   I=(1, 1),\n",
      "                 ),\n",
      "               ],\n",
      "  admissibility=0.0,\n",
      "  walkmap=BitMatrix(\n",
      "            chunks=[0x0000000001ffffff,],\n",
      "            len=25,\n",
      "            dims=(5, 5),\n",
      "          ),\n",
      "  cost_metric=PenaltyMap{2}(\n",
      "                base_metric=DirectDistance{2}(\n",
      "                              direction_costs=[10, \n",
      "                                               14],\n",
      "                            ),\n",
      "                pmap=Matrix{Int64}(),\n",
      "              ),\n",
      ")\n"
     ]
    }
   ],
   "source": [
    "pprintln(AStar(cspace;cost_metric=PenaltyMap(fill(1,5,5))))"
   ]
  },
  {
   "cell_type": "code",
   "execution_count": 22,
   "id": "33d4eb82",
   "metadata": {},
   "outputs": [
    {
     "name": "stdout",
     "output_type": "stream",
     "text": [
      "AStar{2, true, true, Float64, DirectDistance{2}}(\n",
      "  agent_paths={},\n",
      "  dims=(5.0, 5.0),\n",
      "  neighborhood=[\n",
      "                 CartesianIndex{2}(\n",
      "                   I=(-1, -1),\n",
      "                 ),\n",
      "                 CartesianIndex{2}(\n",
      "                   I=(0, -1),\n",
      "                 ),\n",
      "                 CartesianIndex{2}(\n",
      "                   I=(1, -1),\n",
      "                 ),\n",
      "                 CartesianIndex{2}(\n",
      "                   I=(-1, 0),\n",
      "                 ),\n",
      "                 CartesianIndex{2}(\n",
      "                   I=(1, 0),\n",
      "                 ),\n",
      "                 CartesianIndex{2}(\n",
      "                   I=(-1, 1),\n",
      "                 ),\n",
      "                 CartesianIndex{2}(\n",
      "                   I=(0, 1),\n",
      "                 ),\n",
      "                 CartesianIndex{2}(\n",
      "                   I=(1, 1),\n",
      "                 ),\n",
      "               ],\n",
      "  admissibility=0.0,\n",
      "  walkmap=BitMatrix(\n",
      "            chunks=[0xffffffffffffffff, \n",
      "                    0x0000000fffffffff],\n",
      "            len=100,\n",
      "            dims=(10, 10),\n",
      "          ),\n",
      "  cost_metric=DirectDistance{2}(\n",
      "                direction_costs=[10, \n",
      "                                 14],\n",
      "              ),\n",
      ")\n",
      "astar isa AStar{2, true, true, Float64} = true\n",
      "astar isa AStar{2, true, true, Float64} = true\n"
     ]
    },
    {
     "data": {
      "text/plain": [
       "true"
      ]
     },
     "execution_count": 22,
     "metadata": {},
     "output_type": "execute_result"
    }
   ],
   "source": [
    "let\n",
    "    astar = AStar(cspace; walkmap=trues(10,10))\n",
    "    pprintln(astar)\n",
    "    # AStar(차원, periodic여부, 대각선방향이동여부,차원타입,코스트메트릭)\n",
    "    @show astar isa AStar{2,true,true,Float64}\n",
    "    astar = AStar(cspace; cost_metric=PenaltyMap(fill(1,5,5)))\n",
    "    @show astar isa AStar{2,true,true,Float64}\n",
    "end"
   ]
  },
  {
   "cell_type": "markdown",
   "id": "35169f57",
   "metadata": {},
   "source": [
    "# API function test"
   ]
  },
  {
   "cell_type": "markdown",
   "id": "210a2931",
   "metadata": {},
   "source": [
    "### GridSpace\n",
    "* is_stationary(agent, model) \n",
    "  - true  : agent가 route의 끝에 도달 했거나 agent를 위한 route가 설정되지 않음\n",
    "  - `move_along_route!` 사용이 유효한 설정이 사용됨\n",
    "----------------\n",
    "```julia\n",
    "Agents.is_stationary(\n",
    "    agent::A,\n",
    "    pathfinder::AStar,\n",
    ") where {A<:AbstractAgent} = isempty(agent.id, pathfinder)\n",
    "\n",
    "Base.isempty(id::Int, pathfinder::AStar) =\n",
    "    !haskey(pathfinder.agent_paths, id) || isempty(pathfinder.agent_paths[id])\n",
    "```"
   ]
  },
  {
   "cell_type": "code",
   "execution_count": 23,
   "id": "f18d48e4",
   "metadata": {},
   "outputs": [],
   "source": [
    "# mutable struct Agent3 <: AbstractAgent\n",
    "#     id::Int\n",
    "#     pos::Dims{2}\n",
    "#     weight::Float64\n",
    "# end\n",
    "\n",
    "@agent Agent3 GridAgent{2} begin\n",
    "    weight::Float64\n",
    "end"
   ]
  },
  {
   "cell_type": "code",
   "execution_count": 24,
   "id": "6c622147",
   "metadata": {},
   "outputs": [
    {
     "name": "stdout",
     "output_type": "stream",
     "text": [
      "Agent3(\n",
      "  id=1,\n",
      "  pos=(5, 2),\n",
      "  weight=654.5,\n",
      ")\n",
      "AStar{2, true, true, Int64, DirectDistance{2}}(\n",
      "  agent_paths={},\n",
      "  dims=(5, 5),\n",
      "  neighborhood=[\n",
      "                 CartesianIndex{2}(\n",
      "                   I=(-1, -1),\n",
      "                 ),\n",
      "                 CartesianIndex{2}(\n",
      "                   I=(0, -1),\n",
      "                 ),\n",
      "                 CartesianIndex{2}(\n",
      "                   I=(1, -1),\n",
      "                 ),\n",
      "                 CartesianIndex{2}(\n",
      "                   I=(-1, 0),\n",
      "                 ),\n",
      "                 CartesianIndex{2}(\n",
      "                   I=(1, 0),\n",
      "                 ),\n",
      "                 CartesianIndex{2}(\n",
      "                   I=(-1, 1),\n",
      "                 ),\n",
      "                 CartesianIndex{2}(\n",
      "                   I=(0, 1),\n",
      "                 ),\n",
      "                 CartesianIndex{2}(\n",
      "                   I=(1, 1),\n",
      "                 ),\n",
      "               ],\n",
      "  admissibility=0.0,\n",
      "  walkmap=BitMatrix(\n",
      "            chunks=[0x0000000001ffffff,],\n",
      "            len=25,\n",
      "            dims=(5, 5),\n",
      "          ),\n",
      "  cost_metric=DirectDistance{2}(\n",
      "                direction_costs=[10, \n",
      "                                 14],\n",
      "              ),\n",
      ")\n"
     ]
    }
   ],
   "source": [
    "pathfinder = AStar(gspace)\n",
    "model = ABM(Agent3, gspace;properties = (pf = pathfinder,))    \n",
    "a = add_agent!((5,2), model,  654.5)\n",
    "pprintln(a)\n",
    "pprintln(pathfinder)"
   ]
  },
  {
   "cell_type": "code",
   "execution_count": 25,
   "id": "3e10e5e3",
   "metadata": {},
   "outputs": [
    {
     "name": "stdout",
     "output_type": "stream",
     "text": [
      "is_stationary(a, model.pf) = true\n",
      "AgentBasedModel{GridSpace{2, true}, Agent3, typeof(Agents.Schedulers.fastest), NamedTuple{(:pf,), Tuple{AStar{2, true, true, Int64, DirectDistance{2}}}}, Random.TaskLocalRNG}(\n",
      "  agents={\n",
      "           1 : Agent3(\n",
      "                 id=1,\n",
      "                 pos=(5, 2),\n",
      "                 weight=654.5,\n",
      "               ),\n",
      "         },\n",
      "  space=GridSpace{2, true}(\n",
      "          stored_ids=Matrix{Vector{Int64}}(),\n",
      "          metric=:chebyshev,\n",
      "          offsets_within_radius={},\n",
      "          offsets_within_radius_no_0={},\n",
      "          indices_within_radius_tuple={},\n",
      "        ),\n",
      "  scheduler=typeof(Agents.Schedulers.fastest)(),\n",
      "  properties=NamedTuple{(:pf,), Tuple{AStar{2, true, true, Int64, DirectDistance{2}}}}(\n",
      "               pf=AStar{2, true, true, Int64, DirectDistance{2}}(\n",
      "                    agent_paths={},\n",
      "                    dims=(5, 5),\n",
      "                    neighborhood=[\n",
      "                                   CartesianIndex{2}(\n",
      "                                     I=(-1, \n",
      "                                        -1),\n",
      "                                   ),\n",
      "                                   CartesianIndex{2}(\n",
      "                                     I=(0, \n",
      "                                        -1),\n",
      "                                   ),\n",
      "                                   CartesianIndex{2}(\n",
      "                                     I=(1, \n",
      "                                        -1),\n",
      "                                   ),\n",
      "                                   CartesianIndex{2}(\n",
      "                                     I=(-1, \n",
      "                                        0),\n",
      "                                   ),\n",
      "                                   CartesianIndex{2}(\n",
      "                                     I=(1, \n",
      "                                        0),\n",
      "                                   ),\n",
      "                                   CartesianIndex{2}(\n",
      "                                     I=(-1, \n",
      "                                        1),\n",
      "                                   ),\n",
      "                                   CartesianIndex{2}(\n",
      "                                     I=(0, \n",
      "                                        1),\n",
      "                                   ),\n",
      "                                   CartesianIndex{2}(\n",
      "                                     I=(1, \n",
      "                                        1),\n",
      "                                   ),\n",
      "                                 ],\n",
      "                    admissibility=0.0,\n",
      "                    walkmap=BitMatrix(\n",
      "                              chunks=[0x0000000001ffffff,],\n",
      "                              len=25,\n",
      "                              dims=(5, \n",
      "                                    5),\n",
      "                            ),\n",
      "                    cost_metric=DirectDistance{2}(\n",
      "                                  direction_costs=[10, \n",
      "                                                   14],\n",
      "                                ),\n",
      "                  ),\n",
      "             ),\n",
      "  rng=Random.TaskLocalRNG(),\n",
      "  maxid=Base.RefValue{Int64}(x=1,),\n",
      ")\n"
     ]
    }
   ],
   "source": [
    "@show is_stationary(a,model.pf)\n",
    "pprintln(model)"
   ]
  },
  {
   "cell_type": "markdown",
   "id": "c716e24d",
   "metadata": {},
   "source": [
    "-------------------------\n",
    "```julia\n",
    "function Agents.plan_route!(\n",
    "    agent::A,\n",
    "    dest::NTuple{D,Float64},\n",
    "    pathfinder::AStar{D,P,M,Float64},\n",
    ") where {A<:AbstractAgent,D,P,M}\n",
    "    path = find_continuous_path(pathfinder, agent.pos, dest)\n",
    "    isnothing(path) && return\n",
    "    pathfinder.agent_paths[agent.id] = path\n",
    "end\n",
    "```\n",
    "-------------------------\n",
    "```julia\n",
    "function find_continuous_path(\n",
    "    pathfinder::AStar{D},\n",
    "    from::NTuple{D,Float64},\n",
    "    to::NTuple{D,Float64},\n",
    ") where {D}\n",
    "    discrete_from = to_discrete_position(from, pathfinder)\n",
    "    discrete_to = to_discrete_position(to, pathfinder)\n",
    "    discrete_path = find_path(pathfinder, discrete_from, discrete_to)\n",
    "    # find_path returns nothing if no path exists\n",
    "    isnothing(discrete_path) && return\n",
    "    # if discrete_path is empty, `from` and `to` are in the same grid cell,\n",
    "    # so `to` is the only waypoint\n",
    "    isempty(discrete_path) && return Path{D,Float64}(to)\n",
    "\n",
    "    cts_path = Path{D,Float64}()\n",
    "    for pos in discrete_path\n",
    "        push!(cts_path, to_continuous_position(pos, pathfinder))\n",
    "    end\n",
    "\n",
    "    # Handles an edge case to prevent backtracking for a fraction of a grid cell\n",
    "    # Consider case where each grid cell is (1., 1.), and the path is to be calculated from\n",
    "    # (0.5, 0.5) to (0.5, 1.2). Without this, the resultant path would look like\n",
    "    # [(0.5, 0.5), (0.5, 1.5), (0.5, 1.2)], causing the agent to go to the last waypoint and\n",
    "    # then backtrack to the target\n",
    "    last_pos = last(cts_path)\n",
    "    pop!(cts_path)\n",
    "    # It's possible there's only one waypoint in the path, in which case the second last\n",
    "    # position is the starting position\n",
    "    second_last_pos = isempty(cts_path) ? from : last(cts_path)\n",
    "    last_to_end = sqr_distance(last_pos, to, pathfinder)\n",
    "    second_last_to_end = sqr_distance(second_last_pos, to, pathfinder)\n",
    "    if last_to_end < second_last_to_end\n",
    "        push!(cts_path, last_pos)\n",
    "    end\n",
    "    # If `to` is already at the center of a grid cell, there's no need\n",
    "    # to push it to the path\n",
    "    last_to_end ≈ 0. || push!(cts_path, to)\n",
    "    return cts_path\n",
    "end\n",
    "\n",
    "to_discrete_position(pos, pathfinder) =\n",
    "    floor.(Int, pos ./ pathfinder.dims .* size(pathfinder.walkmap)) .+ 1\n",
    "to_continuous_position(pos, pathfinder) =\n",
    "    pos ./ size(pathfinder.walkmap) .* pathfinder.dims .-\n",
    "    pathfinder.dims ./ size(pathfinder.walkmap) ./ 2.\n",
    "sqr_distance(from, to, pathfinder::AStar{D,true}) where {D} =\n",
    "    sum(min.(abs.(from .- to), pathfinder.dims .- abs.(from .- to)) .^ 2)\n",
    "sqr_distance(from, to, pathfinder::AStar{D,false}) where {D} =\n",
    "    sum((from .- to) .^ 2)\n",
    "```"
   ]
  },
  {
   "attachments": {
    "image.png": {
     "image/png": "[encoded data removed]"
    }
   },
   "cell_type": "markdown",
   "id": "12ab83bd",
   "metadata": {},
   "source": [
    "<div><img src=\"attachment:image.png\" width=\"400\"/></div>\n",
    "\n",
    "agent가 p1에서 p2까지 가고자 하는 경우(`plan_route!(agent, to, model.pf)`) A,B 두 경로가 비용이 가장 적은 최적 경로이다. 하지만 1번째 step에서 최소비용이 드는 경로 `A` 즉 `(3,1),(2,2)`가 `plan_route!` 호출 후 `mode.pf.ganet_path`에 저장된다.  p1에서 1step을 움직이는 경우 비용이 가장적은 (3,1) `move_along_route!(agent, model, model.pf)  `로 먼저 움직인다."
   ]
  },
  {
   "cell_type": "code",
   "execution_count": 26,
   "id": "b297fa3d",
   "metadata": {},
   "outputs": [
    {
     "name": "stdout",
     "output_type": "stream",
     "text": [
      "(from, to) = ((4, 1), (2, 2))\n",
      "length(model.pf.agent_paths) = 0\n",
      "model.pf.agent_paths = Dict{Int64, DataStructures.MutableLinkedList{Tuple{Int64, Int64}}}()\n",
      "a.pos = (4, 1)\n",
      "------- plan_route! --------\n",
      "length(model.pf.agent_paths[a.id]) = 2\n",
      "\n",
      "model.pf.agent_paths[a.id] = DataStructures.MutableLinkedList{Tuple{Int64, Int64}}((3, 1), (2, 2))\n",
      "------- move_along_route! -------\n",
      "length(model.pf.agent_paths[a.id]) = 1\n",
      "\n",
      "model.pf.agent_paths[a.id] = DataStructures.MutableLinkedList{Tuple{Int64, Int64}}((2, 2))\n",
      "a.pos = (3, 1)\n",
      "------- move_along_route! -------\n",
      "length(model.pf.agent_paths[a.id]) = 0\n",
      "model.pf.agent_paths[a.id] = DataStructures.MutableLinkedList{Tuple{Int64, Int64}}()\n",
      "a.pos = (2, 2)\n",
      "------- delete! agent path -------\n",
      "length(model.pf.agent_paths) = 0\n",
      "model.pf.agent_paths = Dict{Int64, DataStructures.MutableLinkedList{Tuple{Int64, Int64}}}()\n",
      "------- plan_best_route! -------\n",
      "a = Agent3(1, (4, 1), 654.5)\n",
      "plan_best_route!(a, [(1, 2), (2, 2), (5, 4)], model.pf; condition = :shortest) = (1, 2)\n",
      "length(model.pf.agent_paths[a.id]) = 2\n",
      "model.pf.agent_paths[a.id] = DataStructures.MutableLinkedList{Tuple{Int64, Int64}}((5, 1), (1, 2))\n",
      "a = Agent3(1, (1, 3), 654.5)\n",
      "plan_best_route!(a, [(5, 1), (1, 1), (3, 3)], model.pf; condition = :shortest) = (5, 1)\n",
      "length(model.pf.agent_paths) = 1\n",
      "a = Agent3(1, (1, 3), 654.5)\n",
      "plan_best_route!(a, [(5, 1), (1, 1), (3, 3)], model.pf; condition = :longest) = (5, 1)\n",
      "length(model.pf.agent_paths) = 1\n",
      "model.pf.agent_paths[a.id] = DataStructures.MutableLinkedList{Tuple{Int64, Int64}}((5, 2), (5, 1))\n"
     ]
    },
    {
     "data": {
      "text/plain": [
       "DataStructures.MutableLinkedList{Tuple{Int64, Int64}}((5, 2), (5, 1))"
      ]
     },
     "execution_count": 26,
     "metadata": {},
     "output_type": "execute_result"
    }
   ],
   "source": [
    "let    \n",
    "    pathfinder = AStar(gspace)\n",
    "    model = ABM(Agent3, gspace;properties = (pf = pathfinder,))    \n",
    "    a = add_agent!((4,1), model,  654.5)\n",
    "    from = a.pos\n",
    "    to = a.pos .+ (-2,1) # (4,1) --> (2,2)\n",
    "    @show from, to\n",
    "    @show length(model.pf.agent_paths)    \n",
    "    @show model.pf.agent_paths\n",
    "    @show a.pos # (4,1)\n",
    "    println(\"------- plan_route! --------\")\n",
    "    plan_route!(a, to, model.pf)\n",
    "    @show length(model.pf.agent_paths[a.id])\n",
    "    newline()\n",
    "    @show model.pf.agent_paths[a.id]\n",
    "    println(\"------- move_along_route! -------\")\n",
    "    move_along_route!(a, model, model.pf)    \n",
    "    @show length(model.pf.agent_paths[a.id])\n",
    "    newline()\n",
    "    @show model.pf.agent_paths[a.id]\n",
    "    @show a.pos # (3,1)\n",
    "    println(\"------- move_along_route! -------\")\n",
    "    move_along_route!(a, model, model.pf)    \n",
    "    @show length(model.pf.agent_paths[a.id])    \n",
    "    @show model.pf.agent_paths[a.id]    \n",
    "    @show a.pos # (2,2)\n",
    "    println(\"------- delete! agent path -------\")\n",
    "    delete!(model.pf.agent_paths,a.id)\n",
    "    @show length(model.pf.agent_paths)    \n",
    "    @show model.pf.agent_paths\n",
    "    println(\"------- plan_best_route! -------\")\n",
    "    a.pos = (4,1)\n",
    "    @show a\n",
    "    @show plan_best_route!(a, [(1, 2),(2,2),(5,4) ], model.pf;\n",
    "            condition=:shortest)\n",
    "            # condition=:longest)\n",
    "    @show length(model.pf.agent_paths[a.id])    \n",
    "    @show model.pf.agent_paths[a.id]\n",
    "    \n",
    "    a.pos = (1,3)\n",
    "    @show a\n",
    "    @show plan_best_route!(a, [(5, 1),(1,1),(3,3) ], model.pf;\n",
    "            condition=:shortest)\n",
    "            # condition=:longest)\n",
    "    @show length(model.pf.agent_paths)\n",
    "    \n",
    "    @show a\n",
    "    @show plan_best_route!(a, [(5, 1),(1,1),(3,3) ], model.pf;\n",
    "#             condition=:shortest)\n",
    "            condition=:longest)    \n",
    "    @show length(model.pf.agent_paths)\n",
    "    @show model.pf.agent_paths[a.id]\n",
    "    \n",
    "end"
   ]
  },
  {
   "cell_type": "code",
   "execution_count": 27,
   "id": "1b97b74c",
   "metadata": {},
   "outputs": [
    {
     "name": "stdout",
     "output_type": "stream",
     "text": [
      "map_size = size(pathfinder.walkmap) = (5, 5)\n",
      "Δ = (6, 3)\n",
      "map_size .- Δ = (-1, 2)\n",
      "\n",
      "Pathfinding.position_delta(pathfinder, from, to) = (-1, 2)\n",
      "sum(Δ .^ 2) = 5\n",
      "pos2(from, to, 2) = (1, 3)\n",
      "pos(from, to) = (-1, 2)\n"
     ]
    },
    {
     "data": {
      "text/plain": [
       "(-1, 2)"
      ]
     },
     "execution_count": 27,
     "metadata": {},
     "output_type": "execute_result"
    }
   ],
   "source": [
    "let\n",
    "    pathfinder = AStar(gspace)\n",
    "    from = Dims{2}((1,4))\n",
    "    to = Dims{2}((7,7))\n",
    "    Δ = abs.(to .- from)\n",
    "    @show map_size = size(pathfinder.walkmap)\n",
    "    @show Δ\n",
    "    @show map_size .- Δ\n",
    "    newline()\n",
    "    @show Pathfinding.position_delta(pathfinder,from, to)\n",
    "    pos(from,to) = Pathfinding.position_delta(pathfinder,from, to)\n",
    "    Δ = pos(from,to)\n",
    "    @show sum(Δ .^ 2)\n",
    "    function pos2(from, to,D) \n",
    "        Δ = abs.(to .- from)\n",
    "        Δ= any(Δ .> pathfinder.dims) ? Δ .% pathfinder.dims : Δ\n",
    "    end\n",
    "    @show pos2(from, to, 2)\n",
    "    @show pos(from, to)\n",
    "#     @show min.((3,2),(2,3))\n",
    "#     from, to = (8,7), (5,4) #,((2,3),(2,3))\n",
    "#     delta = min.(abs.(to .- from))\n",
    "#     from \n",
    "end"
   ]
  },
  {
   "cell_type": "code",
   "execution_count": 28,
   "id": "9b5bc264",
   "metadata": {},
   "outputs": [
    {
     "data": {
      "text/plain": [
       "Agent7"
      ]
     },
     "execution_count": 28,
     "metadata": {},
     "output_type": "execute_result"
    }
   ],
   "source": [
    "using Test, Agents, Random\n",
    "using Agents.Graphs, Agents.DataFrames\n",
    "using StatsBase: mean\n",
    "using StableRNGs\n",
    "\n",
    "using Distributed\n",
    "addprocs(2)\n",
    "@everywhere begin\n",
    "    using Test, Agents, Random\n",
    "    using Agents.Graphs, Agents.DataFrames\n",
    "    using StatsBase: mean\n",
    "    using StableRNGs\n",
    "end\n",
    "\n",
    "mutable struct Agent0 <: AbstractAgent\n",
    "    id::Int\n",
    "end\n",
    "\n",
    "mutable struct Agent1 <: AbstractAgent\n",
    "    id::Int\n",
    "    pos::Dims{2}\n",
    "end\n",
    "\n",
    "mutable struct Agent2 <: AbstractAgent\n",
    "    id::Int\n",
    "    weight::Float64\n",
    "end\n",
    "\n",
    "mutable struct Agent3 <: AbstractAgent\n",
    "    id::Int\n",
    "    pos::Dims{2}\n",
    "    weight::Float64\n",
    "end\n",
    "\n",
    "mutable struct Agent4 <: AbstractAgent\n",
    "    id::Int\n",
    "    pos::Dims{2}\n",
    "    p::Int\n",
    "end\n",
    "\n",
    "mutable struct Agent5 <: AbstractAgent\n",
    "    id::Int\n",
    "    pos::Int\n",
    "    weight::Float64\n",
    "end\n",
    "\n",
    "mutable struct Agent6 <: AbstractAgent\n",
    "    id::Int\n",
    "    pos::NTuple{2,Float64}\n",
    "    vel::NTuple{2,Float64}\n",
    "    weight::Float64\n",
    "end\n",
    "\n",
    "mutable struct Agent7 <: AbstractAgent\n",
    "    id::Int\n",
    "    pos::Int\n",
    "    f1::Bool\n",
    "    f2::Int\n",
    "end\n",
    "\n",
    "Agent7(id, pos; f1, f2) = Agent7(id, pos, f1, f2)"
   ]
  },
  {
   "cell_type": "code",
   "execution_count": 29,
   "id": "8eba485f",
   "metadata": {},
   "outputs": [
    {
     "name": "stdout",
     "output_type": "stream",
     "text": [
      "a.pos = (4.750002397511496, 4.750002397511496)\n",
      "all(isapprox.(a.pos, (4.75, 4.75); atol)) = true\n",
      "\n",
      "from = (0, 0)\n",
      "to = (4, 4)\n",
      "d_from = (1, 1)\n",
      "d_to = (9, 9)\n",
      "cspace.dims = (20, 20)\n",
      "model.pf.dims = (5.0, 5.0)\n",
      "model.pf.walkmap.dims = (10, 10)\n",
      "\n",
      "======to_continuous_position======\n",
      "c_from = (0.25, 0.25)\n",
      "c_to = (4.25, 4.25)\n"
     ]
    },
    {
     "data": {
      "text/plain": [
       "(::var\"#c2d#12\") (generic function with 1 method)"
      ]
     },
     "execution_count": 29,
     "metadata": {},
     "output_type": "execute_result"
    }
   ],
   "source": [
    "let\n",
    "    moore = Pathfinding.moore_neighborhood(2)\n",
    "    vonneumann = Pathfinding.vonneumann_neighborhood(2)\n",
    "    gspace = GridSpace((5, 5))\n",
    "    cspace = ContinuousSpace((5., 5.);)\n",
    "    atol = 0.0001\n",
    "    \n",
    "    pathfinder = AStar(cspace; walkmap = trues(10, 10))\n",
    "    model = ABM(Agent6, cspace; properties = (pf = pathfinder,))\n",
    "    a = add_agent!((0., 0.), model, (0., 0.), 0.)\n",
    "    @test is_stationary(a, model.pf)\n",
    "\n",
    "    plan_route!(a, (4., 4.), model.pf)\n",
    "    @test !is_stationary(a, model.pf)\n",
    "    @test length(model.pf.agent_paths) == 1\n",
    "    move_along_route!(a, model, model.pf, 0.35355)\n",
    "    \n",
    "    @show a.pos\n",
    "    @show all(isapprox.(a.pos, (4.75, 4.75); atol))\n",
    "    newline()\n",
    "    from = (0,0)\n",
    "    to = (4, 4)\n",
    "    d_from = Pathfinding.to_discrete_position(from,model.pf)\n",
    "    d_to = Pathfinding.to_discrete_position(to,model.pf)\n",
    "    @show from\n",
    "    @show to\n",
    "    @show d_from\n",
    "    @show d_to\n",
    "    @show cspace.dims\n",
    "    @show model.pf.dims\n",
    "    @show model.pf.walkmap.dims\n",
    "    newline()\n",
    "    println(\"======to_continuous_position======\")\n",
    "    c_from = Pathfinding.to_continuous_position(d_from ,model.pf)\n",
    "    c_to = Pathfinding.to_continuous_position(d_to ,model.pf)\n",
    "    @show c_from\n",
    "    @show c_to\n",
    "    d2c(d_x,pathfinder) = pathfinder.dims ./ pathfinder.walkmap.dims .* (d_x .- 0.5)\n",
    "#     @show d2c(d_x,pathfinder) = pathfinder.dims ./ pathfinder.walkmap.dims .* (d_x)\n",
    "    d2c_old(d_x,pathfinder) = d_x ./ size(pathfinder.walkmap) .* pathfinder.dims .- pathfinder.dims ./ size(pathfinder.walkmap) ./ 2.      \n",
    "#     @show d2c(d_from, pathfinder)\n",
    "#     @show d2c_old(d_from, pathfinder)    \n",
    "#     @btime d2c($d_from, $pathfinder)\n",
    "#     @btime d2c_old($d_from, $pathfinder)\n",
    "#     @show d2c(d_to, pathfinder)\n",
    "    \n",
    "    c2d_old(pos, pathfinder) = floor.(Int, pos ./ pathfinder.dims .* pathfinder.walkmap.dims) .+ 1\n",
    "    c2d(pos, pathfinder) = ceil.(Int, pos ./ pathfinder.dims .* pathfinder.walkmap.dims)\n",
    "#     @show c2d_old(from, pathfinder)\n",
    "#     @show c2d(from, pathfinder)\n",
    "\n",
    "#     @btime $c2d_old($from, $pathfinder)\n",
    "#     @btime $c2d($from, $pathfinder)\n",
    "    \n",
    "end"
   ]
  },
  {
   "cell_type": "code",
   "execution_count": 30,
   "id": "48ddf03f",
   "metadata": {},
   "outputs": [
    {
     "name": "stdout",
     "output_type": "stream",
     "text": [
      "position_delta(pathfinder, from, to) = (2, 2)\n",
      "position_delta(pathfinder, from, to) = (2, 3)\n"
     ]
    },
    {
     "data": {
      "text/plain": [
       "(2, 3)"
      ]
     },
     "execution_count": 30,
     "metadata": {},
     "output_type": "execute_result"
    }
   ],
   "source": [
    "let\n",
    "    position_delta(pathfinder::Pathfinding.GridPathfinder{D,true}, from::Dims{D}, to::Dims{D}) where {D} =\n",
    "min.(abs.(to .- from), size(pathfinder.walkmap) .- abs.(to .- from))\n",
    "    position_delta(pathfinder::Pathfinding.GridPathfinder{D,false}, from::Dims{D}, to::Dims{D}) where {D} =\n",
    "    abs.(to .- from)    \n",
    "    gspace = GridSpace((5, 5))\n",
    "    pathfinder = AStar(gspace)\n",
    "    from = (1,1)\n",
    "    to = (3,4)\n",
    "    @show position_delta(pathfinder,from,to)\n",
    "    \n",
    "    \n",
    "    gspace = GridSpace((5, 5);periodic=false)\n",
    "    pathfinder = AStar(gspace)\n",
    "    @show position_delta(pathfinder,from,to)\n",
    "end"
   ]
  },
  {
   "cell_type": "code",
   "execution_count": 31,
   "id": "dfbbe828",
   "metadata": {},
   "outputs": [
    {
     "name": "stdout",
     "output_type": "stream",
     "text": [
      "plan_best_route!(a, [(4, 4), (5, 1), (1, 1), (3, 3)], model.pf; condition = :longest) = (4, 4)\n",
      "model.pf.agent_paths = Dict{Int64, DataStructures.MutableLinkedList{Tuple{Int64, Int64}}}(1 => DataStructures.MutableLinkedList{Tuple{Int64, Int64}}((5, 3), (4, 4)))\n",
      "plan_best_route!(a, [(4, 4), (5, 1), (1, 1), (3, 3)], model.pf; condition = :shortest) = (4, 4)\n",
      "model.pf.agent_paths = Dict{Int64, DataStructures.MutableLinkedList{Tuple{Int64, Int64}}}(1 => DataStructures.MutableLinkedList{Tuple{Int64, Int64}}((5, 3), (4, 4)))\n"
     ]
    },
    {
     "data": {
      "text/plain": [
       "Dict{Int64, DataStructures.MutableLinkedList{Tuple{Int64, Int64}}} with 1 entry:\n",
       "  1 => MutableLinkedList{Tuple{Int64, Int64}}((5, 3), (4, 4))"
      ]
     },
     "execution_count": 31,
     "metadata": {},
     "output_type": "execute_result"
    }
   ],
   "source": [
    "let\n",
    "    gspace = GridSpace((5, 5))\n",
    "    pathfinder = AStar(gspace)\n",
    "    model = ABM(Agent3, gspace; properties = (pf = pathfinder,))\n",
    "#     a = add_agent!((5, 2), model, 654.5)\n",
    "    a.pos = (1, 3)\n",
    "    @show plan_best_route!(a, [(4,4), (5, 1), (1, 1), (3, 3)], model.pf;condition=:longest)    \n",
    "    @show model.pf.agent_paths\n",
    "    @show plan_best_route!(a, [(4,4), (5, 1), (1, 1), (3, 3)], model.pf;condition=:shortest)    \n",
    "    @show model.pf.agent_paths\n",
    "end"
   ]
  },
  {
   "cell_type": "code",
   "execution_count": null,
   "id": "3a50e4d8",
   "metadata": {},
   "outputs": [],
   "source": []
  },
  {
   "cell_type": "code",
   "execution_count": null,
   "id": "1c116dbe",
   "metadata": {},
   "outputs": [],
   "source": []
  },
  {
   "cell_type": "code",
   "execution_count": 36,
   "id": "4f518dda",
   "metadata": {},
   "outputs": [
    {
     "name": "stdout",
     "output_type": "stream",
     "text": [
      "position_delta2(pathfinder, from, to) = (2, 3)\n",
      "position_delta2(pathfinder, from, to) = (2, 3)\n",
      "plan_best_route2!(a, [(5, 1), (1, 1), (3, 3)], model.pf) == (1, 1) = false\n",
      "plan_best_route2!(a, [(5, 5), (5, 1), (1, 1), (3, 3)], model.pf; condition = :longest) = (5, 5)\n",
      "model.pf.agent_paths = Dict{Int64, MutableLinkedList{Tuple{Int64, Int64}}}(1 => MutableLinkedList{Tuple{Int64, Int64}}((5, 4), (5, 5)))\n",
      "plan_best_route2!(a, [(4, 4), (5, 1), (1, 1), (3, 3)], model.pf) = (4, 4)\n",
      "model.pf.agent_paths = Dict{Int64, MutableLinkedList{Tuple{Int64, Int64}}}(1 => MutableLinkedList{Tuple{Int64, Int64}}((5, 3), (4, 4)))\n"
     ]
    },
    {
     "data": {
      "text/plain": [
       "Dict{Int64, MutableLinkedList{Tuple{Int64, Int64}}} with 1 entry:\n",
       "  1 => MutableLinkedList{Tuple{Int64, Int64}}((5, 3), (4, 4))"
      ]
     },
     "execution_count": 36,
     "metadata": {},
     "output_type": "execute_result"
    }
   ],
   "source": [
    "using DataStructures\n",
    "using Agents.Pathfinding:AStar,GridCell,PriorityQueue,MutableLinkedList,GridPathfinder\n",
    "\n",
    "let    \n",
    "    ordering(cell) = cell.f\n",
    "    \n",
    "    @inline get_neighbors(cur, pathfinder::AStar{D,true}) where {D} =\n",
    "        (mod1.(cur .+ β.I, size(pathfinder.walkmap)) for β in pathfinder.neighborhood)\n",
    "    @inline get_neighbors(cur, pathfinder::AStar{D,false}) where {D} =\n",
    "        (cur .+ β.I for β in pathfinder.neighborhood)\n",
    "    @inline inbounds(n, pathfinder, closed) =\n",
    "        all(1 .<= n .<= size(pathfinder.walkmap)) && pathfinder.walkmap[n...] && n ∉ closed\n",
    "\n",
    "    Base.isempty(id::Int, pathfinder::AStar) =\n",
    "        !haskey(pathfinder.agent_paths, id) || isempty(pathfinder.agent_paths[id])    \n",
    "    \n",
    "    Path{D,T} = MutableLinkedList{NTuple{D,T}}\n",
    "\n",
    "    function position_delta2(pathfinder::GridPathfinder{D,true}, from::Dims{D}, to::Dims{D}) where {D} \n",
    "        return min.(abs.(to .- from), size(pathfinder.walkmap) .- abs.(to .- from))\n",
    "#         Δ = abs.(to .- from)\n",
    "#         Δ = any(Δ .> pathfinder.dims) ? Δ .% pathfinder.dims : Δ    \n",
    "#         return Δ\n",
    "    end\n",
    "\n",
    "    position_delta2(pathfinder::GridPathfinder{D,false}, from::Dims{D}, to::Dims{D}) where {D} =\n",
    "        abs.(to .- from)\n",
    "\n",
    "    \"\"\"\n",
    "        Pathfinding.delta_cost(pathfinder::GridPathfinder{D}, metric::M, from, to) where {M<:CostMetric}\n",
    "    Calculate an approximation for the cost of travelling from `from` to `to` (both of\n",
    "    type `NTuple{N,Int}`. Expects a return value of `Float64`.\n",
    "    \"\"\"\n",
    "    function delta_cost(\n",
    "        pathfinder::GridPathfinder{D,periodic,true},\n",
    "        metric::DirectDistance{D},\n",
    "        from::Dims{D},\n",
    "        to::Dims{D},\n",
    "    ) where {D,periodic}\n",
    "        delta = collect(position_delta2(pathfinder, from, to))\n",
    "\n",
    "        sort!(delta)\n",
    "        carry = 0\n",
    "        hdist = 0\n",
    "        for i in D:-1:1\n",
    "            hdist += metric.direction_costs[i] * (delta[D+1-i] - carry)\n",
    "            carry = delta[D+1-i]\n",
    "        end\n",
    "        return hdist\n",
    "    end\n",
    "\n",
    "    function delta_cost(\n",
    "        pathfinder::GridPathfinder{D,periodic,false},\n",
    "        metric::DirectDistance{D},\n",
    "        from::Dims{D},\n",
    "        to::Dims{D},\n",
    "    ) where {D,periodic}\n",
    "        delta = position_delta2(pathfinder, from, to)\n",
    "\n",
    "        return sum(delta) * metric.direction_costs[1]\n",
    "    end\n",
    "\n",
    "    delta_cost(\n",
    "        pathfinder::GridPathfinder{D},\n",
    "        metric::MaxDistance{D},\n",
    "        from::Dims{D},\n",
    "        to::Dims{D},\n",
    "    ) where {D} = max(position_delta2(pathfinder, from, to)...)\n",
    "\n",
    "    delta_cost(\n",
    "        pathfinder::GridPathfinder{D},\n",
    "        metric::PenaltyMap{D},\n",
    "        from::Dims{D},\n",
    "        to::Dims{D},\n",
    "    ) where {D} =\n",
    "        delta_cost(pathfinder, metric.base_metric, from, to) +\n",
    "        abs(metric.pmap[from...] - metric.pmap[to...])\n",
    "\n",
    "    delta_cost(pathfinder::GridPathfinder{D}, from::Dims{D}, to::Dims{D}) where {D} =\n",
    "        delta_cost(pathfinder, pathfinder.cost_metric, from, to)\n",
    "    \n",
    "    function find_path2(pathfinder::AStar{D}, from::Dims{D}, to::Dims{D}) where {D}\n",
    "        if !all(1 .<= from .<= size(pathfinder.walkmap)) ||\n",
    "            !all(1 .<= to .<= size(pathfinder.walkmap)) ||\n",
    "            !pathfinder.walkmap[from...] ||\n",
    "            !pathfinder.walkmap[to...]\n",
    "            return # nothing\n",
    "        end\n",
    "        parent = Dict{Dims{D},Dims{D}}()\n",
    "\n",
    "        open_list = PriorityQueue{Dims{D},GridCell}(Base.By(ordering))\n",
    "        closed_list = Set{Dims{D}}()\n",
    "\n",
    "        enqueue!(\n",
    "            open_list,\n",
    "            from,\n",
    "            GridCell(0, delta_cost(pathfinder, from, to), pathfinder.admissibility)\n",
    "        )\n",
    "\n",
    "        while !isempty(open_list)\n",
    "            cur, cell = dequeue_pair!(open_list)\n",
    "            cur == to && break\n",
    "            push!(closed_list, cur)\n",
    "\n",
    "            nbors = get_neighbors(cur, pathfinder)\n",
    "            for nbor in Iterators.filter(n -> inbounds(n, pathfinder, closed_list), nbors)\n",
    "                nbor_cell = haskey(open_list, nbor) ? open_list[nbor] : GridCell()\n",
    "                new_g_cost = cell.g + delta_cost(pathfinder, cur, nbor)\n",
    "\n",
    "                if new_g_cost < nbor_cell.g\n",
    "                    parent[nbor] = cur\n",
    "                    open_list[nbor] = GridCell(\n",
    "                        new_g_cost,\n",
    "                        delta_cost(pathfinder, nbor, to),\n",
    "                        pathfinder.admissibility,\n",
    "                    )\n",
    "                end\n",
    "            end\n",
    "        end\n",
    "\n",
    "        agent_path = Path{D,Int64}()\n",
    "        cur = to\n",
    "        while true\n",
    "            haskey(parent, cur) || break\n",
    "            pushfirst!(agent_path, cur)\n",
    "            cur = parent[cur]\n",
    "        end\n",
    "        cur == from || return # nothing\n",
    "        return agent_path\n",
    "    end    \n",
    "    function find_path(pathfinder::AStar{D}, from::Dims{D}, to::Dims{D}) where {D}\n",
    "        if !all(1 .<= from .<= size(pathfinder.walkmap)) ||\n",
    "            !all(1 .<= to .<= size(pathfinder.walkmap)) ||\n",
    "            !pathfinder.walkmap[from...] ||\n",
    "            !pathfinder.walkmap[to...]\n",
    "            return # nothing\n",
    "        end\n",
    "        parent = Dict{Dims{D},Dims{D}}()\n",
    "\n",
    "        open_list = PriorityQueue{Dims{D},GridCell}(Base.By(ordering))\n",
    "        closed_list = Set{Dims{D}}()\n",
    "\n",
    "        enqueue!(\n",
    "            open_list,\n",
    "            from,\n",
    "            GridCell(0, delta_cost(pathfinder, from, to), pathfinder.admissibility)\n",
    "        )\n",
    "\n",
    "        while !isempty(open_list)\n",
    "            cur, cell = dequeue_pair!(open_list)\n",
    "            cur == to && break\n",
    "            push!(closed_list, cur)\n",
    "\n",
    "            nbors = get_neighbors(cur, pathfinder)\n",
    "            for nbor in Iterators.filter(n -> inbounds(n, pathfinder, closed_list), nbors)\n",
    "                nbor_cell = haskey(open_list, nbor) ? open_list[nbor] : GridCell()\n",
    "                new_g_cost = cell.g + delta_cost(pathfinder, cur, nbor)\n",
    "\n",
    "                if new_g_cost < nbor_cell.g\n",
    "                    parent[nbor] = cur\n",
    "                    open_list[nbor] = GridCell(\n",
    "                        new_g_cost,\n",
    "                        delta_cost(pathfinder, nbor, to),\n",
    "                        pathfinder.admissibility,\n",
    "                    )\n",
    "                end\n",
    "            end\n",
    "        end\n",
    "\n",
    "        agent_path = Path{D,Int64}()\n",
    "        cur = to\n",
    "        while true\n",
    "            haskey(parent, cur) || break\n",
    "            pushfirst!(agent_path, cur)\n",
    "            cur = parent[cur]\n",
    "        end\n",
    "        cur == from || return # nothing\n",
    "        return agent_path\n",
    "    end    \n",
    "    function plan_best_route2!(\n",
    "        agent::A,\n",
    "        dests,\n",
    "        pathfinder::AStar{D,P,M,Int64};\n",
    "        condition::Symbol = :shortest,\n",
    "    ) where {A<:AbstractAgent,D,P,M}\n",
    "        @assert condition ∈ (:shortest, :longest)\n",
    "        compare = condition == :shortest ? (a, b) -> a < b : (a, b) -> a > b\n",
    "        best_path = Path{D,Int64}()\n",
    "        best_target = nothing\n",
    "        for target in dests\n",
    "            path = find_path2(pathfinder, agent.pos, target)\n",
    "            isnothing(path) && continue\n",
    "            if isempty(best_path) || compare(length(path), length(best_path))\n",
    "                best_path = path\n",
    "                best_target = target\n",
    "            end\n",
    "        end\n",
    "\n",
    "        isnothing(best_target) && return\n",
    "        pathfinder.agent_paths[agent.id] = best_path\n",
    "        return best_target\n",
    "    end    \n",
    "    \n",
    "    gspace = GridSpace((10, 10))\n",
    "    pathfinder = AStar(gspace)\n",
    "    from = (1,1)\n",
    "    to = (3,4)\n",
    "    @show position_delta2(pathfinder,from,to)\n",
    "    \n",
    "    gspace = GridSpace((10, 10);periodic=false)\n",
    "    pathfinder = AStar(gspace)\n",
    "    @show position_delta2(pathfinder,from,to)    \n",
    "    \n",
    "    gspace = GridSpace((5, 5))\n",
    "    pathfinder = AStar(gspace)\n",
    "    model = ABM(Agent3, gspace; properties = (pf = pathfinder,))\n",
    "    a = add_agent!((5, 2), model, 654.5)\n",
    "    a.pos = (1, 2)\n",
    "    @show plan_best_route2!(a, [(5, 1), (1, 1), (3, 3)], model.pf) == (1, 1)   \n",
    "        \n",
    "    \n",
    "#     @test a.pos == (1, 2)\n",
    "    a.pos = (1, 3)\n",
    "    @show plan_best_route2!(a, [(5,5), (5, 1), (1, 1), (3, 3)], model.pf;condition=:longest)\n",
    "    @show model.pf.agent_paths\n",
    "    a.pos = (1, 3)\n",
    "    @show plan_best_route2!(a, [(4,4), (5, 1), (1, 1), (3, 3)], model.pf)\n",
    "    @show model.pf.agent_paths\n",
    "end"
   ]
  },
  {
   "cell_type": "code",
   "execution_count": 138,
   "id": "0ff3e123",
   "metadata": {},
   "outputs": [
    {
     "name": "stdout",
     "output_type": "stream",
     "text": [
      "DirectDistance{2}(\n",
      "  direction_costs=[10, 14],\n",
      ")\n",
      "#= In[138]:21 =# @test(length(npos) == length(ans)) = Test Passed\n",
      "  Expression: length(npos) == length(ans)\n",
      "   Evaluated: 5 == 5\n",
      "#= In[138]:22 =# @test(all((x in npos for x = ans))) = Test Passed\n",
      "  Expression: all((x in npos for x = ans))\n",
      "a.id = 1\n"
     ]
    },
    {
     "data": {
      "text/plain": [
       "5×5 Matrix{Vector{Int64}}:\n",
       " []  []   []  []  []\n",
       " []  []   []  []  []\n",
       " []  []   []  []  []\n",
       " []  []   []  []  []\n",
       " []  [1]  []  []  []"
      ]
     },
     "metadata": {},
     "output_type": "display_data"
    },
    {
     "data": {
      "text/plain": [
       "5×5 CartesianIndices{2, Tuple{Base.OneTo{Int64}, Base.OneTo{Int64}}}:\n",
       " CartesianIndex(1, 1)  CartesianIndex(1, 2)  …  CartesianIndex(1, 5)\n",
       " CartesianIndex(2, 1)  CartesianIndex(2, 2)     CartesianIndex(2, 5)\n",
       " CartesianIndex(3, 1)  CartesianIndex(3, 2)     CartesianIndex(3, 5)\n",
       " CartesianIndex(4, 1)  CartesianIndex(4, 2)     CartesianIndex(4, 5)\n",
       " CartesianIndex(5, 1)  CartesianIndex(5, 2)     CartesianIndex(5, 5)"
      ]
     },
     "metadata": {},
     "output_type": "display_data"
    },
    {
     "data": {
      "text/plain": [
       "20-element Vector{CartesianIndex{2}}:\n",
       " CartesianIndex(1, 1)\n",
       " CartesianIndex(2, 1)\n",
       " CartesianIndex(3, 1)\n",
       " CartesianIndex(4, 1)\n",
       " CartesianIndex(5, 1)\n",
       " CartesianIndex(1, 2)\n",
       " CartesianIndex(2, 2)\n",
       " CartesianIndex(3, 2)\n",
       " CartesianIndex(4, 2)\n",
       " CartesianIndex(5, 2)\n",
       " CartesianIndex(1, 4)\n",
       " CartesianIndex(2, 4)\n",
       " CartesianIndex(3, 4)\n",
       " CartesianIndex(4, 4)\n",
       " CartesianIndex(5, 4)\n",
       " CartesianIndex(1, 5)\n",
       " CartesianIndex(2, 5)\n",
       " CartesianIndex(3, 5)\n",
       " CartesianIndex(4, 5)\n",
       " CartesianIndex(5, 5)"
      ]
     },
     "metadata": {},
     "output_type": "display_data"
    },
    {
     "name": "stdout",
     "output_type": "stream",
     "text": [
      "#= In[138]:27 =# @test(all((pathfinder.walkmap[random_walkable(model, model.pf)...] for _ = 1:10))) = Test Passed\n",
      "  Expression: all((pathfinder.walkmap[random_walkable(model, model.pf)...] for _ = 1:10))\n"
     ]
    },
    {
     "data": {
      "text/plain": [
       "10-element Vector{Bool}:\n",
       " 1\n",
       " 1\n",
       " 1\n",
       " 1\n",
       " 1\n",
       " 1\n",
       " 1\n",
       " 1\n",
       " 1\n",
       " 1"
      ]
     },
     "metadata": {},
     "output_type": "display_data"
    }
   ],
   "source": [
    "let\n",
    "    gspace = GridSpace((5,5))\n",
    "    pathfinder = AStar(gspace)\n",
    "    pprintln(pathfinder.cost_metric)\n",
    "    model = ABM(Agent3, gspace; properties = (pf = pathfinder,) )\n",
    "    a = add_agent!((5,2), model, 654.5)\n",
    "#     pprintln(a)\n",
    "#     pprintln(penaltymap(model.pf))\n",
    "    pmap = fill(1,5,5)\n",
    "    pathfinder = AStar(gspace; cost_metric = PenaltyMap(pmap))\n",
    "    model = ABM(Agent3, gspace;properties = (pf=pathfinder,))\n",
    "#     pprintln(model)\n",
    "#     @show penaltymap(model.pf)\n",
    "#     @show pathfinder.walkmap\n",
    "#     display( pathfinder.walkmap)\n",
    "    pathfinder.walkmap[:,3] .= false\n",
    "#     @show pathfinder.walkmap\n",
    "#     display(pathfinder.walkmap)\n",
    "    npos = collect(nearby_walkable((5,4),model, model.pf))\n",
    "    ans = [(4,4),(5,5),(1,4),(4,5),(1,5)]\n",
    "    @show @test length(npos) == length(ans)\n",
    "    @show @test all(x in npos for x in ans)\n",
    "    @show a.id\n",
    "    display(model.space.stored_ids)\n",
    "    display(CartesianIndices(model.space.stored_ids))\n",
    "    display(filter(x -> pathfinder.walkmap[x], CartesianIndices(model.space.stored_ids)))\n",
    "    @show @test all(pathfinder.walkmap[random_walkable(model, model.pf)...] for _ in 1:10)\n",
    "#     nothing\n",
    "    \n",
    "end"
   ]
  },
  {
   "cell_type": "code",
   "execution_count": 158,
   "id": "98dead24",
   "metadata": {},
   "outputs": [
    {
     "data": {
      "text/plain": [
       "Set{Tuple{Int64, Int64}}()"
      ]
     },
     "execution_count": 158,
     "metadata": {},
     "output_type": "execute_result"
    }
   ],
   "source": [
    "let\n",
    "    struct GridCell2\n",
    "        f::Int\n",
    "        g::Int\n",
    "        h::Int\n",
    "    end\n",
    "    \n",
    "    GridCell2(g::Int, h::Int, admissibility::Float64) = \n",
    "        GridCell2(round(Int, g + (1 + admissibility) * h), g, h)\n",
    "    \n",
    "    GridCell2() = GridCell2(typemax(Int),typemax(Int),typemax(Int))\n",
    "    \n",
    "    ordering(cell) = cell.f\n",
    "    \n",
    "    D = 2\n",
    "    parent = Dict{Dims{D},Dims{D}}()\n",
    "    open_list = PriorityQueue{Dims{D},GridCell2}(Base.By(ordering))\n",
    "    closed_list = Set{Dims{D}}()\n",
    "    \n",
    "    enqueue!(\n",
    "        open_list,\n",
    "        from,\n",
    "        GridCell2(0, delta_cost(pathfinder, from, to), pathfinder.admissibility)\n",
    "    )\n",
    "    \n",
    "end"
   ]
  },
  {
   "cell_type": "code",
   "execution_count": null,
   "id": "d0d81343",
   "metadata": {},
   "outputs": [],
   "source": [
    "let\n",
    "    D = 2\n",
    "    delta = (2,5)\n",
    "    carry = 0\n",
    "    hdist = 0\n",
    "    cost = (10,14)\n",
    "    # 작은 값에 큰값을, 큰값에 작은 값을 곱한다.\n",
    "    for i in D:-1:1\n",
    "        hdist += cost[i]*(delta[D+1-i]-carry)\n",
    "        carry = deltapD+1-i]\n",
    "end"
   ]
  },
  {
   "cell_type": "code",
   "execution_count": 64,
   "id": "9a318c7c",
   "metadata": {},
   "outputs": [
    {
     "data": {
      "text/plain": [
       "9-element Vector{Tuple{Int64, Int64}}:\n",
       " (-1, -1)\n",
       " (0, -1)\n",
       " (1, -1)\n",
       " (-1, 0)\n",
       " (0, 0)\n",
       " (1, 0)\n",
       " (-1, 1)\n",
       " (0, 1)\n",
       " (1, 1)"
      ]
     },
     "execution_count": 64,
     "metadata": {},
     "output_type": "execute_result"
    }
   ],
   "source": [
    "let\n",
    "    vec([Tuple(a) for a in Iterators.product([-1:1 for ϕ in 1:2]...)])\n",
    "end"
   ]
  },
  {
   "cell_type": "code",
   "execution_count": 73,
   "id": "79ac322e",
   "metadata": {},
   "outputs": [
    {
     "data": {
      "text/plain": [
       "false"
      ]
     },
     "execution_count": 73,
     "metadata": {},
     "output_type": "execute_result"
    }
   ],
   "source": [
    "let\n",
    "    ntuple(i -> 0, Val{3}())\n",
    "   Val{2}()\n",
    "end"
   ]
  },
  {
   "cell_type": "code",
   "execution_count": 86,
   "id": "fc4cf0ae",
   "metadata": {},
   "outputs": [
    {
     "data": {
      "text/plain": [
       "(2, 5)"
      ]
     },
     "execution_count": 86,
     "metadata": {},
     "output_type": "execute_result"
    }
   ],
   "source": [
    "mod1.((2,1) .+ (5,4), (5,5))"
   ]
  },
  {
   "cell_type": "code",
   "execution_count": 115,
   "id": "8a697372",
   "metadata": {},
   "outputs": [
    {
     "name": "stdout",
     "output_type": "stream",
     "text": [
      "position_delta_new((10, 1), (3, 3), (5, 5)) = (2, 2)\n",
      "position_delta((10, 1), (3, 3), (5, 5)) = (-2, 2)\n",
      "position_delta_new((1, 1), (4, 3), (5, 5)) = (3, 2)\n",
      "position_delta((1, 1), (4, 3), (5, 5)) = (2, 2)\n",
      "position_delta_new((1, 1), (3, 3), (5, 5)) = (2, 2)\n",
      "position_delta((1, 1), (3, 3), (5, 5)) = (2, 2)\n"
     ]
    },
    {
     "data": {
      "text/plain": [
       "(2, 2)"
      ]
     },
     "execution_count": 115,
     "metadata": {},
     "output_type": "execute_result"
    }
   ],
   "source": [
    "let\n",
    "    position_delta_new(from,to,walkmap_size) = mod1.(abs.(to .- from),walkmap_size)\n",
    "    position_delta(from,to,walkmap_size) = min.(abs.(to .- from), walkmap_size .- abs.(to .- from))\n",
    "    \n",
    "\n",
    "    @show position_delta_new((10,1),(3,3),(5,5))\n",
    "    @show position_delta((10,1),(3,3),(5,5))\n",
    "\n",
    "    @show position_delta_new((1,1),(4,3),(5,5))\n",
    "    @show position_delta((1,1),(4,3),(5,5))\n",
    "    \n",
    "    @show position_delta_new((1,1),(3,3),(5,5))\n",
    "    @show position_delta((1,1),(3,3),(5,5))    \n",
    "    \n",
    "end"
   ]
  },
  {
   "cell_type": "code",
   "execution_count": 160,
   "id": "81042319",
   "metadata": {},
   "outputs": [
    {
     "data": {
      "text/plain": [
       "8-element Vector{Tuple{Int64, Int64}}:\n",
       " (10, 10)\n",
       " (1, 10)\n",
       " (2, 10)\n",
       " (10, 1)\n",
       " (2, 1)\n",
       " (10, 2)\n",
       " (1, 2)\n",
       " (2, 2)"
      ]
     },
     "execution_count": 160,
     "metadata": {},
     "output_type": "execute_result"
    }
   ],
   "source": [
    "let\n",
    "    nindices = [(-1, -1), (0, -1), (1, -1), (-1, 0), (1, 0), (-1, 1), (0, 1), (1, 1)]\n",
    "    space_size = (10,10)\n",
    "    pos = (1,1)\n",
    "    [mod1.(n .+ pos, space_size) for n in nindices]\n",
    "end"
   ]
  },
  {
   "cell_type": "code",
   "execution_count": 163,
   "id": "74376e5c",
   "metadata": {},
   "outputs": [
    {
     "data": {
      "text/plain": [
       "3×3 Matrix{Tuple{Int64, Int64}}:\n",
       " (-1, -1)  (-1, 0)  (-1, 1)\n",
       " (0, -1)   (0, 0)   (0, 1)\n",
       " (1, -1)   (1, 0)   (1, 1)"
      ]
     },
     "execution_count": 163,
     "metadata": {},
     "output_type": "execute_result"
    }
   ],
   "source": [
    "let\n",
    "    collect(Iterators.product([-1:1 for _ in 1:2]...))\n",
    "end"
   ]
  },
  {
   "cell_type": "code",
   "execution_count": 191,
   "id": "8086425a",
   "metadata": {},
   "outputs": [
    {
     "data": {
      "text/plain": [
       "99-element Vector{Tuple{Int64, Int64}}:\n",
       " (1, 1)\n",
       " (2, 1)\n",
       " (3, 1)\n",
       " (4, 1)\n",
       " (5, 1)\n",
       " (6, 1)\n",
       " (7, 1)\n",
       " (8, 1)\n",
       " (9, 1)\n",
       " (10, 1)\n",
       " (1, 2)\n",
       " (2, 2)\n",
       " (3, 2)\n",
       " ⋮\n",
       " (8, 9)\n",
       " (9, 9)\n",
       " (10, 9)\n",
       " (1, 10)\n",
       " (2, 10)\n",
       " (3, 10)\n",
       " (4, 10)\n",
       " (5, 10)\n",
       " (6, 10)\n",
       " (7, 10)\n",
       " (8, 10)\n",
       " (9, 10)"
      ]
     },
     "metadata": {},
     "output_type": "display_data"
    }
   ],
   "source": [
    "let    \n",
    "    walkable_cells_in_radius(pos, r, pathfinder::AStar{D,false}) where {D} =\n",
    "        Iterators.filter(\n",
    "            x -> all(1 .<= x .<= size(pathfinder.walkmap)) &&\n",
    "                pathfinder.walkmap[x...] &&\n",
    "                sum(((x .- pos) ./ r) .^ 2) <= 1,\n",
    "            Iterators.product([(pos[i]-r[i]):(pos[i]+r[i]) for i in 1:D]...)\n",
    "        )\n",
    "    cspace = ContinuousSpace((5.,5.),periodic=false)    \n",
    "    pathfinder = AStar(cspace;walkmap=trues(10,10))\n",
    "#     typeof(pathfinder) <: AStar{2,false}\n",
    "#     pprintln(cspace)\n",
    "    pos = (3,2)\n",
    "    r = (100,100)\n",
    "    display( collect(walkable_cells_in_radius(pos,r,pathfinder)) )\n",
    "#     collect(Iterators.product([(pos[i]-r[i]):(pos[i]+r[i]) for i in 1:2]...))\n",
    "end"
   ]
  },
  {
   "cell_type": "code",
   "execution_count": null,
   "id": "b95f9a9e",
   "metadata": {},
   "outputs": [],
   "source": []
  }
 ],
 "metadata": {
  "kernelspec": {
   "display_name": "Julia 1.7.2",
   "language": "julia",
   "name": "julia-1.7"
  },
  "language_info": {
   "file_extension": ".jl",
   "mimetype": "application/julia",
   "name": "julia",
   "version": "1.7.2"
  }
 },
 "nbformat": 4,
 "nbformat_minor": 5
}
