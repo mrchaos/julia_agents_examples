{
 "cells": [
  {
   "cell_type": "code",
   "execution_count": 13,
   "id": "99e2a160",
   "metadata": {},
   "outputs": [],
   "source": [
    "using Agents\n",
    "using PrettyPrint:pprintln, pprint"
   ]
  },
  {
   "cell_type": "code",
   "execution_count": 35,
   "id": "62aa0dd0",
   "metadata": {},
   "outputs": [
    {
     "data": {
      "text/plain": [
       "show_struct (generic function with 2 methods)"
      ]
     },
     "execution_count": 35,
     "metadata": {},
     "output_type": "execute_result"
    }
   ],
   "source": [
    "show_struct(t::Type) = collect(zip(fieldnames(t),fieldtypes(t)))"
   ]
  },
  {
   "cell_type": "code",
   "execution_count": 70,
   "id": "c74d5a32",
   "metadata": {},
   "outputs": [],
   "source": [
    "@agent Person{T} GridAgent{2} begin\n",
    "    age::Int\n",
    "    moneyz::T\n",
    "end"
   ]
  },
  {
   "cell_type": "code",
   "execution_count": 37,
   "id": "6fd41a20",
   "metadata": {},
   "outputs": [
    {
     "data": {
      "text/plain": [
       "4-element Vector{Tuple{Symbol, DataType}}:\n",
       " (:id, Int64)\n",
       " (:pos, Tuple{Int64, Int64})\n",
       " (:age, Int64)\n",
       " (:moneyz, Any)"
      ]
     },
     "execution_count": 37,
     "metadata": {},
     "output_type": "execute_result"
    }
   ],
   "source": [
    "show_struct(Person)"
   ]
  },
  {
   "cell_type": "code",
   "execution_count": 61,
   "id": "27747b52",
   "metadata": {},
   "outputs": [
    {
     "ename": "LoadError",
     "evalue": "UndefVarError: T not defined",
     "output_type": "error",
     "traceback": [
      "UndefVarError: T not defined",
      "",
      "Stacktrace:",
      " [1] top-level scope",
      "   @ ~/.julia/packages/Agents/QiZZC/src/core/agents.jl:180",
      " [2] eval",
      "   @ ./boot.jl:373 [inlined]",
      " [3] include_string(mapexpr::typeof(REPL.softscope), mod::Module, code::String, filename::String)",
      "   @ Base ./loading.jl:1196"
     ]
    }
   ],
   "source": [
    "@agent Baker{T} Person{T} begin\n",
    "    breadz_per_day::T\n",
    "end"
   ]
  },
  {
   "cell_type": "code",
   "execution_count": 73,
   "id": "ff6eb26a",
   "metadata": {},
   "outputs": [
    {
     "ename": "LoadError",
     "evalue": "invalid subtyping in definition of Baker2",
     "output_type": "error",
     "traceback": [
      "invalid subtyping in definition of Baker2",
      "",
      "Stacktrace:",
      " [1] top-level scope",
      "   @ In[73]:1",
      " [2] eval",
      "   @ ./boot.jl:373 [inlined]",
      " [3] include_string(mapexpr::typeof(REPL.softscope), mod::Module, code::String, filename::String)",
      "   @ Base ./loading.jl:1196"
     ]
    }
   ],
   "source": [
    "mutable struct Baker2{T} <: Person{Int}\n",
    "    breadz_per_day::T\n",
    "end"
   ]
  },
  {
   "cell_type": "code",
   "execution_count": 72,
   "id": "ba9feef3",
   "metadata": {},
   "outputs": [
    {
     "data": {
      "text/plain": [
       "Person{Int64}"
      ]
     },
     "execution_count": 72,
     "metadata": {},
     "output_type": "execute_result"
    }
   ],
   "source": [
    "Person{Int}"
   ]
  },
  {
   "cell_type": "code",
   "execution_count": 78,
   "id": "2ced62a8",
   "metadata": {},
   "outputs": [
    {
     "ename": "LoadError",
     "evalue": "UndefVarError: T not defined",
     "output_type": "error",
     "traceback": [
      "UndefVarError: T not defined",
      "",
      "Stacktrace:",
      " [1] macro expansion",
      "   @ ~/.julia/packages/Agents/QiZZC/src/core/agents.jl:180 [inlined]",
      " [2] top-level scope",
      "   @ In[78]:6",
      " [3] eval",
      "   @ ./boot.jl:373 [inlined]",
      " [4] include_string(mapexpr::typeof(REPL.softscope), mod::Module, code::String, filename::String)",
      "   @ Base ./loading.jl:1196"
     ]
    }
   ],
   "source": [
    "let\n",
    "    abstract type Pointy{T} end\n",
    "    struct Point{T} <: Pointy{T}\n",
    "       x::T\n",
    "       y::T\n",
    "    end   \n",
    "    struct PPP{T} <: Point{T}\n",
    "    end\n",
    "end"
   ]
  },
  {
   "cell_type": "code",
   "execution_count": null,
   "id": "4a38ab76",
   "metadata": {},
   "outputs": [],
   "source": []
  }
 ],
 "metadata": {
  "kernelspec": {
   "display_name": "Julia 1.7.2",
   "language": "julia",
   "name": "julia-1.7"
  },
  "language_info": {
   "file_extension": ".jl",
   "mimetype": "application/julia",
   "name": "julia",
   "version": "1.7.2"
  }
 },
 "nbformat": 4,
 "nbformat_minor": 5
}
