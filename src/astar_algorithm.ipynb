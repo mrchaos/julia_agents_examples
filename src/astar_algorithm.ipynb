{
 "cells": [
  {
   "cell_type": "markdown",
   "id": "9c033a4f",
   "metadata": {},
   "source": [
    "# A* alorithm\n",
    "참조 :\n",
    "* https://www.redblobgames.com/pathfinding/a-star/introduction.html#breadth-first-search\n",
    "* https://www.redblobgames.com/pathfinding/a-star/implementation.html#algorithm\n",
    "* https://www.redblobgames.com/pathfinding/a-star/implementation.py\n",
    "* https://www.redblobgames.com/pathfinding/grids/algorithms.html\n",
    "https://www.redblobgames.com/pathfinding/grids/graphs.html\n",
    "* https://recall.tistory.com/40"
   ]
  },
  {
   "cell_type": "markdown",
   "id": "9e79c856",
   "metadata": {},
   "source": []
  }
 ],
 "metadata": {
  "kernelspec": {
   "display_name": "Julia 1.7.2",
   "language": "julia",
   "name": "julia-1.7"
  },
  "language_info": {
   "file_extension": ".jl",
   "mimetype": "application/julia",
   "name": "julia",
   "version": "1.7.2"
  }
 },
 "nbformat": 4,
 "nbformat_minor": 5
}
