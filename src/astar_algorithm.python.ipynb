{
 "cells": [
  {
   "cell_type": "code",
   "execution_count": 1,
   "id": "695b5576",
   "metadata": {},
   "outputs": [
    {
     "data": {
      "text/html": [
       "<style>.container { width:100% !important; }</style>"
      ],
      "text/plain": [
       "<IPython.core.display.HTML object>"
      ]
     },
     "metadata": {},
     "output_type": "display_data"
    }
   ],
   "source": [
    "from IPython.display import display, HTML\n",
    "display(HTML(\"<style>.container { width:100% !important; }</style>\"))"
   ]
  },
  {
   "cell_type": "code",
   "execution_count": 2,
   "id": "bce0713c",
   "metadata": {},
   "outputs": [],
   "source": [
    "from __future__ import annotations\n",
    "from typing import Protocol, Iterator, Tuple, TypeVar, Optional"
   ]
  },
  {
   "cell_type": "code",
   "execution_count": 88,
   "id": "b322ed83",
   "metadata": {},
   "outputs": [],
   "source": [
    "from termcolor import colored"
   ]
  },
  {
   "cell_type": "code",
   "execution_count": 170,
   "id": "151dc5d5",
   "metadata": {},
   "outputs": [],
   "source": [
    "import numpy as np"
   ]
  },
  {
   "cell_type": "code",
   "execution_count": 3,
   "id": "690c0710",
   "metadata": {},
   "outputs": [],
   "source": [
    "T = TypeVar('T')\n",
    "Location = TypeVar('Location')"
   ]
  },
  {
   "cell_type": "code",
   "execution_count": 4,
   "id": "bfc1001f",
   "metadata": {},
   "outputs": [],
   "source": [
    "class Graph(Protocol):\n",
    "    def neighbors(self, id: Location) -> list[Location]: pass\n",
    "    \n",
    "class SimpleGraph:\n",
    "    def __init__(self):\n",
    "        self.edges: dict[Location,list[Location]]={}\n",
    "    \n",
    "    def neighbors(self, id: Location) -> list[Location]:\n",
    "        return self.edges[id]\n"
   ]
  },
  {
   "cell_type": "code",
   "execution_count": 5,
   "id": "0781669a",
   "metadata": {},
   "outputs": [],
   "source": [
    "example_graph = SimpleGraph()\n",
    "example_graph.edges = {\n",
    "    'A': ['B'],\n",
    "    'B': ['C'],\n",
    "    'C': ['B', 'D', 'F'],\n",
    "    'D': ['C', 'E'],\n",
    "    'E': ['F'],\n",
    "    'F': [],\n",
    "}"
   ]
  },
  {
   "cell_type": "code",
   "execution_count": 6,
   "id": "e96a4c86",
   "metadata": {},
   "outputs": [],
   "source": [
    "import collections"
   ]
  },
  {
   "cell_type": "code",
   "execution_count": 7,
   "id": "2bdfbae1",
   "metadata": {},
   "outputs": [],
   "source": [
    "class Queue:\n",
    "    def __init__(self):\n",
    "        self.elements = collections.deque()\n",
    "    \n",
    "    def empty(self) -> bool:\n",
    "        return not self.elements\n",
    "    \n",
    "    def put(self, x: T):\n",
    "        self.elements.append(x)\n",
    "        \n",
    "    def get(self) -> T:\n",
    "        return self.elements.popleft()"
   ]
  },
  {
   "cell_type": "code",
   "execution_count": 147,
   "id": "8a7349e9",
   "metadata": {},
   "outputs": [],
   "source": [
    "# utility functions for dealing with square grids\n",
    "# id를 width로 나눈 (나머지, 몫)을 돌려준다.\n",
    "# 이는 (x,y) 좌표에 해당\n",
    "def from_id_with(id, width):\n",
    "    return (id % width, id // width)\n",
    "\n",
    "def draw_tile(graph, id, style):\n",
    "    r = \" . \"\n",
    "    if 'number' in style and id in style['number']:\n",
    "        r = \" %-2d\" % style['number'][id]\n",
    "    if 'point_to' in style and style['point_to'].get(id, None) is not None:\n",
    "        (x1, y1) = id\n",
    "        (x2, y2) = style['point_to'][id]\n",
    "        if x2 == x1 + 1: r = \" > \"\n",
    "        if x2 == x1 - 1: r = \" < \"\n",
    "        if y2 == y1 + 1: r = \" v \"\n",
    "        if y2 == y1 - 1: r = \" ^ \"\n",
    "    if 'path' in style and id in style['path']:   r = colored(\" @ \",\"green\",\"on_grey\")\n",
    "    if 'start' in style and id == style['start']: r = colored(\" A \",\"red\",\"on_yellow\")\n",
    "    if 'goal' in style and id == style['goal']:   r = colored(\" Z \",\"red\",\"on_yellow\")\n",
    "    if id in graph.walls: r = \"###\"\n",
    "    return r\n",
    "\n",
    "def draw_grid(graph, **style):\n",
    "    print(\"___\" * graph.width)\n",
    "    for y in range(graph.height):\n",
    "        for x in range(graph.width):\n",
    "            print(\"%s\" % draw_tile(graph,(x,y),style),end=\"\")\n",
    "        print()\n",
    "    print(\"~~~\" * graph.width)"
   ]
  },
  {
   "cell_type": "code",
   "execution_count": 141,
   "id": "3b920f08",
   "metadata": {},
   "outputs": [],
   "source": [
    "GridLocation = Tuple[int, int]"
   ]
  },
  {
   "cell_type": "code",
   "execution_count": 178,
   "id": "c682b467",
   "metadata": {},
   "outputs": [],
   "source": [
    "class SquareGrid:\n",
    "    def __init__(self, width: int, height: int):\n",
    "        self.width = width\n",
    "        self.height = height\n",
    "        self.walls: list[GridLocation] = []\n",
    "    \n",
    "    def in_bounds(self, id: GridLocation) -> bool:\n",
    "        (x,y) = id\n",
    "        return 0 <= x < self.width and 0 <= y < self.height\n",
    "\n",
    "    def passible(self, id: GridLocation) -> bool:\n",
    "        return id not in self.walls\n",
    "    \n",
    "    def neighbors(self, id:GridLocation) -> Iterator[GridLocation]:\n",
    "        (x,y) = id\n",
    "        neighbors = [(x+1, y), (x-1, y), (x, y-1), (x, y+1)] # E W N S\n",
    "        # see \"Ugly paths\" section for an explanation:\n",
    "#         if (x + y) % 2 == 0: neighbors.reverse() # S N W E\n",
    "        # grid 범위에 있는 이웃 grid들만 필터링\n",
    "        results = filter(self.in_bounds, neighbors)\n",
    "        # wall등 장에물에 있는 grid는 제외\n",
    "        results = filter(self.passible, results)\n",
    "        return results"
   ]
  },
  {
   "cell_type": "code",
   "execution_count": 209,
   "id": "d6ba8b4d",
   "metadata": {},
   "outputs": [],
   "source": [
    "class SquareGridNeighborOrder(SquareGrid):\n",
    "    def neighbors(self, id:GridLocation) -> list:\n",
    "        (x,y) = id\n",
    "        neighbors = [(x + dx, y + dx) for (dx, dy) in self.NEIGHBOR_ORDER]\n",
    "        results = filter(self.in_bounds, neighbors)\n",
    "        results = filter(self.passible, results)\n",
    "        return list(results)"
   ]
  },
  {
   "cell_type": "code",
   "execution_count": 182,
   "id": "8466d437",
   "metadata": {},
   "outputs": [],
   "source": [
    "class WeightedGraph(Graph):\n",
    "    def cost(self, from_id: Location, to_id: Location)  -> float: pass\n",
    "    \n",
    "class GridWithWeights(SquareGrid):\n",
    "    def __init__(self, width: int, height: int):\n",
    "        super().__init__(width, height)\n",
    "        self.weights: dict[GridLocation, float]= {}\n",
    "    \n",
    "    def cost(self, from_node: GridLocation, to_node: GridLocation) -> float:\n",
    "        # 값이 없어면 1\n",
    "        return self.weights.get(to_node, 1)"
   ]
  },
  {
   "cell_type": "code",
   "execution_count": 211,
   "id": "4e2184b8",
   "metadata": {},
   "outputs": [],
   "source": [
    "class GridWithAdjustedWeights(GridWithWeights):\n",
    "    def cost(self, from_node, to_node):\n",
    "        prev_cost = super().cost(from_node, to_node)\n",
    "        nudge = 0\n",
    "        (x1, y1) = from_node\n",
    "        (x2, y2) = to_node\n",
    "        if(x1 + y1) % 2 == 0 and x2 != x1: nudge = 1\n",
    "        if(x1 + y1) % 2 == 1 and y2 != y1: nudge = 1\n",
    "        return prev_cost + 0.001 * nudge"
   ]
  },
  {
   "cell_type": "code",
   "execution_count": 184,
   "id": "a2cab4f6",
   "metadata": {},
   "outputs": [],
   "source": [
    "import heapq"
   ]
  },
  {
   "cell_type": "code",
   "execution_count": 185,
   "id": "05e56d9e",
   "metadata": {},
   "outputs": [],
   "source": [
    "class PriorityQueue:\n",
    "    def __init__(self):\n",
    "        self.elements: list[tuple[float, T]] = []\n",
    "    \n",
    "    def empty(self) -> bool:\n",
    "        return not self.elements\n",
    "    \n",
    "    def put(self, item: T, priority: float):\n",
    "        heapq.heappush(self.elements,(priority, item))\n",
    "        \n",
    "    def get(self) -> T:\n",
    "        return heapq.heappop(self.elements)[1]"
   ]
  },
  {
   "cell_type": "markdown",
   "id": "c9aaf316",
   "metadata": {},
   "source": [
    "### 경로재구성"
   ]
  },
  {
   "cell_type": "code",
   "execution_count": 186,
   "id": "35c9ca0a",
   "metadata": {},
   "outputs": [],
   "source": [
    "def reconstruct_path(came_from: dict[Location, Location],\n",
    "                    start: Location, goal: Location) -> list[Location]:\n",
    "    current: Location = goal\n",
    "    path: list[Location] = []\n",
    "    if goal not in came_from:\n",
    "        return []\n",
    "    while current != start:\n",
    "        path.append(current)\n",
    "        current = came_from[current]\n",
    "    path.append(start)\n",
    "    path.reverse()\n",
    "    return path"
   ]
  },
  {
   "cell_type": "markdown",
   "id": "e008b0bf",
   "metadata": {},
   "source": [
    "### Breath First Search"
   ]
  },
  {
   "cell_type": "code",
   "execution_count": 187,
   "id": "5749fbb6",
   "metadata": {},
   "outputs": [],
   "source": [
    "def breadth_first_search(graph: Graph, start: Location, goal: Location, print_log: bool=False):\n",
    "    frontier = Queue()\n",
    "    frontier.put(start)\n",
    "    came_from: dict[Location, Optional[Location]] = {}\n",
    "    came_from[start] = None\n",
    "    \n",
    "    while not frontier.empty():\n",
    "        current: Location = frontier.get()\n",
    "        if print_log : print(\"  Visiting %s\" % current)\n",
    "        \n",
    "        if current == goal:\n",
    "            if print_log: print( \" Goal! %s\" % current)\n",
    "            break\n",
    "            \n",
    "        for next in graph.neighbors(current):\n",
    "            if next not in came_from:\n",
    "                frontier.put(next)\n",
    "                came_from[next] = current\n",
    "    return came_from"
   ]
  },
  {
   "cell_type": "markdown",
   "id": "f7ba8f63",
   "metadata": {},
   "source": [
    "### Dijkstra Search"
   ]
  },
  {
   "cell_type": "code",
   "execution_count": 188,
   "id": "53e5d227",
   "metadata": {},
   "outputs": [],
   "source": [
    "def dijkstra_search(graph: WeightedGraph, start: Location, goal: Location):\n",
    "    frontier = PriorityQueue()\n",
    "    frontier.put(start,0)\n",
    "    came_from: dict[Location, Optional[Location]] = {}\n",
    "    cost_so_far: dict[Location, float] = {}\n",
    "    came_from[start] = None\n",
    "    cost_so_far[start] = 0\n",
    "    \n",
    "    while not frontier.empty():\n",
    "        current: Location = frontier.get()\n",
    "        \n",
    "        if current == goal:\n",
    "            break\n",
    "        \n",
    "        for next in graph.neighbors(current):\n",
    "            new_cost = cost_so_far[current] + graph.cost(current, next)\n",
    "            if next not in cost_so_far or new_cost < cost_so_far[next]:\n",
    "                cost_so_far[next] = new_cost\n",
    "                priority = new_cost\n",
    "                frontier.put(next, priority)\n",
    "                came_from[next] = current\n",
    "    \n",
    "    return came_from, cost_so_far\n",
    "    "
   ]
  },
  {
   "cell_type": "markdown",
   "id": "ce8ac6ed",
   "metadata": {},
   "source": [
    "### A* Search"
   ]
  },
  {
   "cell_type": "code",
   "execution_count": 189,
   "id": "210b5a11",
   "metadata": {},
   "outputs": [],
   "source": [
    "# Manhattan distance\n",
    "def heuristic(a: GridLocation, b: GridLocation) -> float:\n",
    "    (x1, y1) = a\n",
    "    (x2, y2) = b\n",
    "    return abs(x1 - x2) + abs(y1 - y2)"
   ]
  },
  {
   "cell_type": "code",
   "execution_count": 190,
   "id": "741f8d2f",
   "metadata": {},
   "outputs": [],
   "source": [
    "def a_start_search(graph: WeightedGraph, start: Location, goal: Location):\n",
    "    frontier = PriorityQueue()\n",
    "    frontier.put(start, 0)\n",
    "    came_from: dict[Location, Optional[Location]] = {}\n",
    "    cost_so_far: dict[Location, float] = {}\n",
    "    came_from[start] = None\n",
    "    cost_so_far[start] = 0\n",
    "    \n",
    "    while not frontier.empty():\n",
    "        current: Location = frontier.get()\n",
    "            \n",
    "        if current == goal:\n",
    "            break\n",
    "            \n",
    "        for next in graph.neighbors(current):\n",
    "            new_cost = cost_so_far[current] + graph.cost(current, next)\n",
    "            if next not in cost_so_far or new_cost < cost_so_far[next]:\n",
    "                cost_so_far[next] = new_cost\n",
    "                priority = new_cost + heuristic(next, goal)\n",
    "                frontier.put(next, priority)\n",
    "                came_from[next] = current\n",
    "    return came_from, cost_so_far"
   ]
  },
  {
   "cell_type": "markdown",
   "id": "0e1926a5",
   "metadata": {},
   "source": [
    "### Example : Simple Graph"
   ]
  },
  {
   "cell_type": "code",
   "execution_count": 191,
   "id": "8ed17377",
   "metadata": {},
   "outputs": [],
   "source": [
    "example_graph = SimpleGraph()\n",
    "example_graph.edges = {\n",
    "    'A': ['B'],\n",
    "    'B': ['C'],\n",
    "    'C': ['B', 'D', 'F'],\n",
    "    'D': ['C', 'E'],\n",
    "    'E': ['F'],\n",
    "    'F': [],\n",
    "}"
   ]
  },
  {
   "cell_type": "code",
   "execution_count": 192,
   "id": "ee6bb08a",
   "metadata": {},
   "outputs": [
    {
     "name": "stdout",
     "output_type": "stream",
     "text": [
      "Reachable from A:\n"
     ]
    },
    {
     "data": {
      "text/plain": [
       "{'A': None, 'B': 'A', 'C': 'B', 'D': 'C', 'F': 'C', 'E': 'D'}"
      ]
     },
     "execution_count": 192,
     "metadata": {},
     "output_type": "execute_result"
    }
   ],
   "source": [
    "print('Reachable from A:')\n",
    "breadth_first_search(example_graph, 'A', 'F')"
   ]
  },
  {
   "cell_type": "code",
   "execution_count": 193,
   "id": "206c3849",
   "metadata": {},
   "outputs": [
    {
     "name": "stdout",
     "output_type": "stream",
     "text": [
      "Reachable from E:\n",
      "  Visiting D\n",
      "  Visiting C\n",
      "  Visiting E\n",
      "  Visiting B\n",
      " Goal! B\n"
     ]
    },
    {
     "data": {
      "text/plain": [
       "{'D': None, 'C': 'D', 'E': 'D', 'B': 'C', 'F': 'C'}"
      ]
     },
     "execution_count": 193,
     "metadata": {},
     "output_type": "execute_result"
    }
   ],
   "source": [
    "print('Reachable from E:')\n",
    "breadth_first_search(example_graph, 'D', 'B', print_log=True)"
   ]
  },
  {
   "cell_type": "markdown",
   "id": "90899e8c",
   "metadata": {},
   "source": [
    "### Example : Grid"
   ]
  },
  {
   "cell_type": "markdown",
   "id": "988654c1",
   "metadata": {},
   "source": [
    "#### 입력데이터 : DIAGRAM1_WALLS"
   ]
  },
  {
   "cell_type": "code",
   "execution_count": 194,
   "id": "d2e712e3",
   "metadata": {},
   "outputs": [],
   "source": [
    "# data frin main article\n",
    "DIAGRAM1_WALLS = [from_id_with(id, width=30) for id in [\n",
    "    21,22,51,52,81,82,93,94,111,112,123,124,133,134,141,142,\n",
    "    153,154,163,164,171,172,173,174,175,183,184,193,194,201,\n",
    "    202,203,204,205,213,214,223,224,243,244,253,254,273,274,\n",
    "    283,284,303,304,313,314,333,334,343,344,373,374,403,404,\n",
    "    433,434]]"
   ]
  },
  {
   "cell_type": "markdown",
   "id": "bef4c00b",
   "metadata": {},
   "source": [
    "#### Square grid display"
   ]
  },
  {
   "cell_type": "code",
   "execution_count": 195,
   "id": "1415a6fa",
   "metadata": {},
   "outputs": [
    {
     "name": "stdout",
     "output_type": "stream",
     "text": [
      "__________________________________________________________________________________________\n",
      " .  .  .  .  .  .  .  .  .  .  .  .  .  .  .  .  .  .  .  .  . ###### .  .  .  .  .  .  . \n",
      " .  .  .  .  .  .  .  .  .  .  .  .  .  .  .  .  .  .  .  .  . ###### .  .  .  .  .  .  . \n",
      " .  .  .  .  .  .  .  .  .  .  .  .  .  .  .  .  .  .  .  .  . ###### .  .  .  .  .  .  . \n",
      " .  .  . ###### .  .  .  .  .  .  .  .  .  .  .  .  .  .  .  . ###### .  .  .  .  .  .  . \n",
      " .  .  . ###### .  .  .  .  .  .  .  . ###### .  .  .  .  .  . ###### .  .  .  .  .  .  . \n",
      " .  .  . ###### .  .  .  .  .  .  .  . ###### .  .  .  .  .  . ############### .  .  .  . \n",
      " .  .  . ###### .  .  .  .  .  .  .  . ###### .  .  .  .  .  . ############### .  .  .  . \n",
      " .  .  . ###### .  .  .  .  .  .  .  . ###### .  .  .  .  .  .  .  .  .  .  .  .  .  .  . \n",
      " .  .  . ###### .  .  .  .  .  .  .  . ###### .  .  .  .  .  .  .  .  .  .  .  .  .  .  . \n",
      " .  .  . ###### .  .  .  .  .  .  .  . ###### .  .  .  .  .  .  .  .  .  .  .  .  .  .  . \n",
      " .  .  . ###### .  .  .  .  .  .  .  . ###### .  .  .  .  .  .  .  .  .  .  .  .  .  .  . \n",
      " .  .  . ###### .  .  .  .  .  .  .  . ###### .  .  .  .  .  .  .  .  .  .  .  .  .  .  . \n",
      " .  .  .  .  .  .  .  .  .  .  .  .  . ###### .  .  .  .  .  .  .  .  .  .  .  .  .  .  . \n",
      " .  .  .  .  .  .  .  .  .  .  .  .  . ###### .  .  .  .  .  .  .  .  .  .  .  .  .  .  . \n",
      " .  .  .  .  .  .  .  .  .  .  .  .  . ###### .  .  .  .  .  .  .  .  .  .  .  .  .  .  . \n",
      "~~~~~~~~~~~~~~~~~~~~~~~~~~~~~~~~~~~~~~~~~~~~~~~~~~~~~~~~~~~~~~~~~~~~~~~~~~~~~~~~~~~~~~~~~~\n"
     ]
    }
   ],
   "source": [
    "g = SquareGrid(30,15)\n",
    "g.walls = DIAGRAM1_WALLS\n",
    "draw_grid(g)"
   ]
  },
  {
   "cell_type": "markdown",
   "id": "c1c5964e",
   "metadata": {},
   "source": [
    "### Example : Breadth Search"
   ]
  },
  {
   "cell_type": "code",
   "execution_count": 196,
   "id": "da163118",
   "metadata": {},
   "outputs": [
    {
     "name": "stdout",
     "output_type": "stream",
     "text": [
      "__________________________________________________________________________________________\n",
      " v  v  v  v  v  v  v  v  v  v  v  v  v  v  v  v  v  v  v  v  v ###### v  v  v  v  v  v  v \n",
      " v  v  v  v  v  v  v  v  v  v  v  v  v  v  v  v  v  v  v  v  v ###### v  v  v  v  v  v  v \n",
      " >  >  >  >  >  v  v  v  v  v  v  v  v  v  v  v  v  v  v  v  v ###### v  v  v  v  v  v  v \n",
      " ^  ^  ^ ###### v  v  v  v  v  v  v  v  <  <  <  <  <  <  <  < ###### v  v  v  v  v  v  v \n",
      " ^  ^  ^ ###### v  v  v  v  v  v  v  v ###### ^  ^  ^  ^  ^  ^ ###### >  >  >  v  v  v  v \n",
      " ^  ^  ^ ###### v  v  v  v  v  v  v  v ###### ^  ^  ^  ^  ^  ^ ############### v  v  v  v \n",
      " ^  ^  ^ ###### v  v  v  v  v  v  v  v ###### ^  ^  ^  ^  ^  ^ ############### v  v  v  v \n",
      " ^  ^  ^ ###### >  >  > \u001b[43m\u001b[31m A \u001b[0m <  <  <  < ###### ^  ^  ^  ^  ^  ^  <  <  <  <  <  <  <  <  < \n",
      " v  v  v ###### ^  ^  ^  ^  ^  ^  ^  ^ ###### ^  ^  ^  ^  ^  ^  ^  ^  ^  ^  ^  ^  ^  ^  ^ \n",
      " v  v  v ###### ^  ^  ^  ^  ^  ^  ^  ^ ###### ^  ^  ^  ^  ^  ^  ^  ^  ^  ^  ^  ^  ^  ^  ^ \n",
      " v  v  v ###### ^  ^  ^  ^  ^  ^  ^  ^ ###### ^  ^  ^  ^  ^  ^  ^  ^  ^  ^  ^  ^  ^  ^  ^ \n",
      " v  v  v ###### ^  ^  ^  ^  ^  ^  ^  ^ ###### ^  ^  ^  ^  ^  ^  ^  ^  ^  ^  ^  ^  ^  ^  ^ \n",
      " >  >  >  >  >  ^  ^  ^  ^  ^  ^  ^  ^ ###### ^  ^  ^  ^  ^  ^  ^  ^  ^  ^  ^  ^  ^  ^  ^ \n",
      " ^  ^  ^  ^  ^  ^  ^  ^  ^  ^  ^  ^  ^ ###### ^  ^  ^  ^  ^  ^  ^  ^  ^  ^  ^  ^  ^  ^  ^ \n",
      " ^  ^  ^  ^  ^  ^  ^  ^  ^  ^  ^  ^  ^ ###### ^  ^  ^  ^  ^  ^  ^  ^  ^  ^  ^  ^  ^  ^  ^ \n",
      "~~~~~~~~~~~~~~~~~~~~~~~~~~~~~~~~~~~~~~~~~~~~~~~~~~~~~~~~~~~~~~~~~~~~~~~~~~~~~~~~~~~~~~~~~~\n"
     ]
    }
   ],
   "source": [
    "g = SquareGrid(30,15)\n",
    "g.walls = DIAGRAM1_WALLS\n",
    "start =(8,7)\n",
    "goal = None\n",
    "parents = breadth_first_search(g,start,goal)\n",
    "draw_grid(g, point_to=parents,start=start, goal=goal)"
   ]
  },
  {
   "cell_type": "code",
   "execution_count": 219,
   "id": "4ec8ee02",
   "metadata": {},
   "outputs": [
    {
     "name": "stdout",
     "output_type": "stream",
     "text": [
      "__________________________________________________________________________________________\n",
      " v  v  v  v  v  v  v  v  v  v  v  v  v  v  v  v  v  v  v  v  v ###### .  .  v  v  v  v  . \n",
      " v  v  v  v  v  v  v  v  v  v  v  v  v  v  v  v  v  v  v  v  v ###### .  v  v  v  v  v  v \n",
      " v  v \u001b[40m\u001b[32m @ \u001b[0m\u001b[40m\u001b[32m @ \u001b[0m\u001b[40m\u001b[32m @ \u001b[0m\u001b[40m\u001b[32m @ \u001b[0m\u001b[40m\u001b[32m @ \u001b[0m\u001b[40m\u001b[32m @ \u001b[0m\u001b[40m\u001b[32m @ \u001b[0m\u001b[40m\u001b[32m @ \u001b[0m\u001b[40m\u001b[32m @ \u001b[0m\u001b[40m\u001b[32m @ \u001b[0m\u001b[40m\u001b[32m @ \u001b[0m\u001b[40m\u001b[32m @ \u001b[0m\u001b[40m\u001b[32m @ \u001b[0m\u001b[40m\u001b[32m @ \u001b[0m\u001b[40m\u001b[32m @ \u001b[0m\u001b[40m\u001b[32m @ \u001b[0m\u001b[40m\u001b[32m @ \u001b[0m\u001b[40m\u001b[32m @ \u001b[0m\u001b[40m\u001b[32m @ \u001b[0m######\u001b[43m\u001b[31m Z \u001b[0m v  v  v  v  v  v \n",
      " v  v \u001b[40m\u001b[32m @ \u001b[0m###### ^  ^  ^  ^  ^  ^  ^  ^  ^  ^  ^  ^  ^  ^  ^ \u001b[40m\u001b[32m @ \u001b[0m######\u001b[40m\u001b[32m @ \u001b[0m v  v  v  v  v  v \n",
      " v  v \u001b[40m\u001b[32m @ \u001b[0m###### ^  ^  ^  ^  ^  ^  ^  ^ ###### ^  ^  ^  ^  ^ \u001b[40m\u001b[32m @ \u001b[0m######\u001b[40m\u001b[32m @ \u001b[0m\u001b[40m\u001b[32m @ \u001b[0m\u001b[40m\u001b[32m @ \u001b[0m\u001b[40m\u001b[32m @ \u001b[0m v  v  v \n",
      " v  v \u001b[40m\u001b[32m @ \u001b[0m###### ^  ^  ^  ^  ^  ^  ^  ^ ###### ^  ^  ^  ^  ^ \u001b[40m\u001b[32m @ \u001b[0m###############\u001b[40m\u001b[32m @ \u001b[0m v  v  v \n",
      " v  v \u001b[40m\u001b[32m @ \u001b[0m###### v  v  v  v  v  v  v  v ###### ^  ^  ^  ^  ^ \u001b[40m\u001b[32m @ \u001b[0m###############\u001b[40m\u001b[32m @ \u001b[0m v  v  v \n",
      " v  v \u001b[40m\u001b[32m @ \u001b[0m###### v  v  v  v  v  v  v  v ###### ^  ^  ^  ^  ^ \u001b[40m\u001b[32m @ \u001b[0m\u001b[40m\u001b[32m @ \u001b[0m\u001b[40m\u001b[32m @ \u001b[0m\u001b[40m\u001b[32m @ \u001b[0m\u001b[40m\u001b[32m @ \u001b[0m\u001b[40m\u001b[32m @ \u001b[0m\u001b[40m\u001b[32m @ \u001b[0m <  <  < \n",
      " v  v \u001b[40m\u001b[32m @ \u001b[0m###### v  v  v  v  v  v  v  v ###### ^  ^  ^  ^  ^  ^  ^  ^  ^  ^  ^  ^  ^  ^  ^ \n",
      " > \u001b[43m\u001b[31m A \u001b[0m\u001b[40m\u001b[32m @ \u001b[0m###### v  v  v  v  v  v  v  v ###### ^  ^  ^  ^  ^  ^  ^  ^  ^  ^  ^  ^  ^  ^  ^ \n",
      " ^  ^  ^ ###### v  v  v  v  v  v  v  v ###### ^  ^  ^  ^  ^  ^  ^  ^  ^  ^  ^  ^  ^  ^  ^ \n",
      " ^  ^  ^ ###### v  v  v  v  v  v  v  v ###### ^  ^  ^  ^  ^  ^  ^  ^  ^  ^  ^  ^  ^  ^  ^ \n",
      " ^  ^  ^  <  <  <  <  <  <  <  <  <  < ###### ^  ^  ^  ^  ^  ^  ^  ^  ^  ^  ^  ^  ^  ^  ^ \n",
      " ^  ^  ^  ^  ^  ^  ^  ^  ^  ^  ^  ^  ^ ###### ^  ^  ^  ^  ^  ^  ^  ^  ^  ^  ^  ^  ^  ^  ^ \n",
      " ^  ^  ^  ^  ^  ^  ^  ^  ^  ^  ^  ^  ^ ###### ^  ^  ^  ^  ^  ^  ^  ^  ^  ^  ^  ^  ^  ^  . \n",
      "~~~~~~~~~~~~~~~~~~~~~~~~~~~~~~~~~~~~~~~~~~~~~~~~~~~~~~~~~~~~~~~~~~~~~~~~~~~~~~~~~~~~~~~~~~\n"
     ]
    }
   ],
   "source": [
    "g = SquareGrid(30, 15)\n",
    "g.walls = DIAGRAM1_WALLS\n",
    "\n",
    "start = (1, 9)\n",
    "goal = (23, 2)\n",
    "came_from = breadth_first_search(g, start, goal)\n",
    "draw_grid(g, path=reconstruct_path(came_from, start=start, goal=goal),\n",
    "         point_to=came_from, start=start, goal= goal)"
   ]
  },
  {
   "cell_type": "markdown",
   "id": "e3b25cb5",
   "metadata": {},
   "source": [
    "### Example : Dijkstra Search - constant weight : cost = 1"
   ]
  },
  {
   "cell_type": "code",
   "execution_count": 217,
   "id": "028b3d75",
   "metadata": {},
   "outputs": [
    {
     "name": "stdout",
     "output_type": "stream",
     "text": [
      "__________________________________________________________________________________________\n",
      " v  v  v  v  v  v  v  v  v  v  v  v  v  v  v  v  v  v  v  v  v ###### .  .  .  .  .  .  . \n",
      " v  v  v  v  v  v  v  v  v  v  v  v  v  v  v  v  v  v  v  v  v ###### .  .  .  .  .  .  . \n",
      " > \u001b[40m\u001b[32m @ \u001b[0m\u001b[40m\u001b[32m @ \u001b[0m\u001b[40m\u001b[32m @ \u001b[0m\u001b[40m\u001b[32m @ \u001b[0m\u001b[40m\u001b[32m @ \u001b[0m\u001b[40m\u001b[32m @ \u001b[0m\u001b[40m\u001b[32m @ \u001b[0m\u001b[40m\u001b[32m @ \u001b[0m\u001b[40m\u001b[32m @ \u001b[0m\u001b[40m\u001b[32m @ \u001b[0m\u001b[40m\u001b[32m @ \u001b[0m\u001b[40m\u001b[32m @ \u001b[0m\u001b[40m\u001b[32m @ \u001b[0m\u001b[40m\u001b[32m @ \u001b[0m\u001b[40m\u001b[32m @ \u001b[0m\u001b[40m\u001b[32m @ \u001b[0m\u001b[40m\u001b[32m @ \u001b[0m\u001b[40m\u001b[32m @ \u001b[0m\u001b[40m\u001b[32m @ \u001b[0m\u001b[40m\u001b[32m @ \u001b[0m######\u001b[43m\u001b[31m Z \u001b[0m .  .  .  .  .  . \n",
      " > \u001b[40m\u001b[32m @ \u001b[0m < ###### ^  ^  ^  ^  ^  ^  ^  ^  ^  ^  ^  ^  ^  ^  ^ \u001b[40m\u001b[32m @ \u001b[0m######\u001b[40m\u001b[32m @ \u001b[0m v  v  v  .  .  . \n",
      " > \u001b[40m\u001b[32m @ \u001b[0m < ###### ^  ^  ^  ^  ^  ^  ^  ^ ###### ^  ^  ^  ^  ^ \u001b[40m\u001b[32m @ \u001b[0m######\u001b[40m\u001b[32m @ \u001b[0m\u001b[40m\u001b[32m @ \u001b[0m\u001b[40m\u001b[32m @ \u001b[0m\u001b[40m\u001b[32m @ \u001b[0m <  .  . \n",
      " > \u001b[40m\u001b[32m @ \u001b[0m < ###### ^  ^  ^  ^  ^  ^  ^  ^ ###### ^  ^  ^  ^  ^ \u001b[40m\u001b[32m @ \u001b[0m###############\u001b[40m\u001b[32m @ \u001b[0m <  .  . \n",
      " > \u001b[40m\u001b[32m @ \u001b[0m < ###### v  <  <  <  <  <  <  < ###### ^  ^  ^  ^  ^ \u001b[40m\u001b[32m @ \u001b[0m###############\u001b[40m\u001b[32m @ \u001b[0m <  .  . \n",
      " > \u001b[40m\u001b[32m @ \u001b[0m < ###### v  <  <  <  <  <  <  < ###### ^  ^  ^  ^  ^ \u001b[40m\u001b[32m @ \u001b[0m\u001b[40m\u001b[32m @ \u001b[0m\u001b[40m\u001b[32m @ \u001b[0m\u001b[40m\u001b[32m @ \u001b[0m\u001b[40m\u001b[32m @ \u001b[0m\u001b[40m\u001b[32m @ \u001b[0m\u001b[40m\u001b[32m @ \u001b[0m <  .  . \n",
      " > \u001b[40m\u001b[32m @ \u001b[0m < ###### v  <  <  <  <  <  <  < ###### ^  ^  ^  ^  ^  ^  ^  ^  ^  <  <  <  .  .  . \n",
      " > \u001b[43m\u001b[31m A \u001b[0m < ###### v  <  <  <  <  <  <  < ###### ^  ^  ^  ^  ^  ^  ^  ^  ^  <  <  .  .  .  . \n",
      " ^  ^  ^ ###### v  <  <  <  <  <  <  < ###### ^  ^  ^  ^  ^  ^  ^  ^  ^  <  .  .  .  .  . \n",
      " ^  ^  ^ ###### v  <  <  <  <  <  <  < ###### ^  ^  ^  ^  ^  ^  ^  ^  ^  .  .  .  .  .  . \n",
      " ^  ^  ^  <  <  <  <  <  <  <  <  <  < ###### .  .  .  .  .  .  .  .  .  .  .  .  .  .  . \n",
      " ^  ^  ^  ^  ^  ^  ^  ^  ^  ^  ^  ^  ^ ###### .  .  .  .  .  .  .  .  .  .  .  .  .  .  . \n",
      " ^  ^  ^  ^  ^  ^  ^  ^  ^  ^  ^  ^  ^ ###### .  .  .  .  .  .  .  .  .  .  .  .  .  .  . \n",
      "~~~~~~~~~~~~~~~~~~~~~~~~~~~~~~~~~~~~~~~~~~~~~~~~~~~~~~~~~~~~~~~~~~~~~~~~~~~~~~~~~~~~~~~~~~\n"
     ]
    }
   ],
   "source": [
    "g = GridWithWeights(30, 15)\n",
    "g.walls = DIAGRAM1_WALLS\n",
    "\n",
    "start = (1, 9)\n",
    "goal = (23, 2)\n",
    "draw_grid(g, path=reconstruct_path(came_from, start=start, goal=goal),\n",
    "         point_to=came_from, start=start, goal=goal)"
   ]
  },
  {
   "cell_type": "markdown",
   "id": "dad991e4",
   "metadata": {},
   "source": [
    "### Example : Dijkstra Search - weighted : cost = 좌표에 따라 다름"
   ]
  },
  {
   "cell_type": "markdown",
   "id": "d7aa1904",
   "metadata": {},
   "source": [
    "#### 입력 데이터 :diagram4"
   ]
  },
  {
   "cell_type": "code",
   "execution_count": 201,
   "id": "596343f6",
   "metadata": {},
   "outputs": [],
   "source": [
    "diagram4 = GridWithWeights(10,10)\n",
    "diagram4.walls = [(1, 7), (1, 8), (2, 7), (2, 8), (3, 7), (3, 8)]\n",
    "diagram4.weights = {loc: 5 for loc in [(3, 4), (3, 5), (4, 1), (4, 2),\n",
    "                                       (4, 3), (4, 4), (4, 5), (4, 6),\n",
    "                                       (4, 7), (4, 8), (5, 1), (5, 2),\n",
    "                                       (5, 3), (5, 4), (5, 5), (5, 6),\n",
    "                                       (5, 7), (5, 8), (6, 2), (6, 3),\n",
    "                                       (6, 4), (6, 5), (6, 6), (6, 7),\n",
    "                                       (7, 3), (7, 4), (7, 5)]}"
   ]
  },
  {
   "cell_type": "code",
   "execution_count": 202,
   "id": "9e7d1656",
   "metadata": {},
   "outputs": [
    {
     "name": "stdout",
     "output_type": "stream",
     "text": [
      "______________________________\n",
      " v  v  <  <  <  <  <  <  <  < \n",
      " v  v  <  <  <  ^  ^  <  <  < \n",
      " v  v  <  <  <  <  ^  ^  <  < \n",
      " v  v  <  <  <  <  <  ^ \u001b[43m\u001b[31m Z \u001b[0m . \n",
      " > \u001b[43m\u001b[31m A \u001b[0m <  <  <  <  .  .  .  . \n",
      " ^  ^  <  <  <  <  .  .  .  . \n",
      " ^  ^  <  <  <  <  <  .  .  . \n",
      " ^ ######### ^  <  v  v  .  . \n",
      " ^ ######### v  v  v  <  <  . \n",
      " ^  <  <  <  <  <  <  <  <  . \n",
      "~~~~~~~~~~~~~~~~~~~~~~~~~~~~~~\n",
      "\n",
      "______________________________\n",
      " . \u001b[40m\u001b[32m @ \u001b[0m\u001b[40m\u001b[32m @ \u001b[0m\u001b[40m\u001b[32m @ \u001b[0m\u001b[40m\u001b[32m @ \u001b[0m\u001b[40m\u001b[32m @ \u001b[0m\u001b[40m\u001b[32m @ \u001b[0m .  .  . \n",
      " . \u001b[40m\u001b[32m @ \u001b[0m .  .  .  . \u001b[40m\u001b[32m @ \u001b[0m\u001b[40m\u001b[32m @ \u001b[0m .  . \n",
      " . \u001b[40m\u001b[32m @ \u001b[0m .  .  .  .  . \u001b[40m\u001b[32m @ \u001b[0m\u001b[40m\u001b[32m @ \u001b[0m . \n",
      " . \u001b[40m\u001b[32m @ \u001b[0m .  .  .  .  .  . \u001b[40m\u001b[32m @ \u001b[0m . \n",
      " . \u001b[40m\u001b[32m @ \u001b[0m .  .  .  .  .  .  .  . \n",
      " .  .  .  .  .  .  .  .  .  . \n",
      " .  .  .  .  .  .  .  .  .  . \n",
      " . ######### .  .  .  .  .  . \n",
      " . ######### .  .  .  .  .  . \n",
      " .  .  .  .  .  .  .  .  .  . \n",
      "~~~~~~~~~~~~~~~~~~~~~~~~~~~~~~\n"
     ]
    }
   ],
   "source": [
    "start, goal = (1,4),(8,3)\n",
    "came_from, cost_so_far = dijkstra_search(diagram4, start, goal)\n",
    "draw_grid(diagram4, point_to = came_from, start=start, goal=goal)\n",
    "print()\n",
    "draw_grid(diagram4, path=reconstruct_path(came_from, start=start, goal=goal))"
   ]
  },
  {
   "cell_type": "markdown",
   "id": "ff9e26e6",
   "metadata": {},
   "source": [
    "### Example : Dijkstra Search - 경로 없음 (Goal을 찾지 못한 경우)"
   ]
  },
  {
   "cell_type": "code",
   "execution_count": 203,
   "id": "8d474811",
   "metadata": {},
   "outputs": [
    {
     "name": "stdout",
     "output_type": "stream",
     "text": [
      "______________________________\n",
      " v  v  <  <  < ### .  .  .  . \n",
      " v  v  <  <  < ### .  .  .  . \n",
      " v  v  <  <  < ### .  .  .  . \n",
      " v  v  <  <  < ### .  . \u001b[43m\u001b[31m Z \u001b[0m . \n",
      " > \u001b[43m\u001b[31m A \u001b[0m <  <  < ### .  .  .  . \n",
      " ^  ^  <  <  < ### .  .  .  . \n",
      " ^  ^  <  <  < ### .  .  .  . \n",
      " ^  ^  <  <  < ### .  .  .  . \n",
      " ^  ^  <  <  < ### .  .  .  . \n",
      " ^  ^  <  <  < ### .  .  .  . \n",
      "~~~~~~~~~~~~~~~~~~~~~~~~~~~~~~\n"
     ]
    }
   ],
   "source": [
    "diagram_nopath = GridWithWeights(10, 10)\n",
    "diagram_nopath.walls = [(5, row) for row in range(10)]\n",
    "\n",
    "start, goal = (1, 4), (8, 3)\n",
    "came_from, cost_so_far = dijkstra_search(diagram_nopath, start, goal)\n",
    "draw_grid(diagram_nopath, point_to=came_from, start=start, goal=goal)"
   ]
  },
  {
   "cell_type": "markdown",
   "id": "b80792d4",
   "metadata": {},
   "source": [
    "### Example : Dijkstra - Distance fields"
   ]
  },
  {
   "cell_type": "code",
   "execution_count": 204,
   "id": "2ace483d",
   "metadata": {},
   "outputs": [
    {
     "name": "stdout",
     "output_type": "stream",
     "text": [
      "______________________________\n",
      " 5  4  5  6  7  8  9  10 11 12\n",
      " 4  3  4  5  10 13 10 11 12 13\n",
      " 3  2  3  4  9  14 15 12 13 14\n",
      " 2  1  2  3  8  13 18 17 14 15\n",
      " 1 \u001b[43m\u001b[31m A \u001b[0m 1  6  11 16 21 20 15 16\n",
      " 2  1  2  7  12 17 22 21 16 17\n",
      " 3  2  3  4  9  14 19 16 17 18\n",
      " 4 ######### 14 19 18 15 16 17\n",
      " 5 ######### 15 16 13 14 15 16\n",
      " 6  7  8  9  10 11 12 13 14 15\n",
      "~~~~~~~~~~~~~~~~~~~~~~~~~~~~~~\n"
     ]
    }
   ],
   "source": [
    "start, goal = (1, 4), None\n",
    "came_from, cost_so_far = dijkstra_search(diagram4, start, goal)\n",
    "draw_grid(diagram4, number=cost_so_far, start=start)"
   ]
  },
  {
   "cell_type": "markdown",
   "id": "e679766f",
   "metadata": {},
   "source": [
    "### Example: A* Search"
   ]
  },
  {
   "cell_type": "code",
   "execution_count": 205,
   "id": "16613758",
   "metadata": {},
   "outputs": [
    {
     "name": "stdout",
     "output_type": "stream",
     "text": [
      "______________________________\n",
      " 5  4  5  6  7  8  9  10 11 12\n",
      " 4  3  4  5  10 13 10 11 12 13\n",
      " 3  2  3  4  9  14 15 12 13 14\n",
      " 2  1  2  3  8  13 .  17 14 . \n",
      " 1 \u001b[43m\u001b[31m A \u001b[0m 1  6  11 .  .  .  .  . \n",
      " 2  1  2  7  12 .  .  .  .  . \n",
      " 3  2  3  4  9  .  .  .  .  . \n",
      " 4 ######### .  .  .  .  .  . \n",
      " . ######### .  .  .  .  .  . \n",
      " .  .  .  .  .  .  .  .  .  . \n",
      "~~~~~~~~~~~~~~~~~~~~~~~~~~~~~~\n"
     ]
    }
   ],
   "source": [
    "start, goal = (1,4), (8,3)\n",
    "came_from, cost_so_far = a_start_search(diagram4, start, goal)\n",
    "draw_grid(diagram4, number=cost_so_far, start=start)"
   ]
  },
  {
   "cell_type": "code",
   "execution_count": 206,
   "id": "221d6e3a",
   "metadata": {},
   "outputs": [
    {
     "name": "stdout",
     "output_type": "stream",
     "text": [
      "______________________________\n",
      " v  v  v  v  <  <  <  <  <  < \n",
      " v  v  v  v  <  ^  ^  <  <  < \n",
      " v  v  v  v  <  <  ^  ^  <  < \n",
      " >  v  <  <  <  <  .  ^ \u001b[43m\u001b[31m Z \u001b[0m . \n",
      " > \u001b[43m\u001b[31m A \u001b[0m <  <  <  .  .  .  .  . \n",
      " ^  ^  ^  <  <  .  .  .  .  . \n",
      " ^  ^  ^  <  <  .  .  .  .  . \n",
      " ^ ######### .  .  .  .  .  . \n",
      " . ######### .  .  .  .  .  . \n",
      " .  .  .  .  .  .  .  .  .  . \n",
      "~~~~~~~~~~~~~~~~~~~~~~~~~~~~~~\n",
      "\n",
      "______________________________\n",
      " .  .  . \u001b[40m\u001b[32m @ \u001b[0m\u001b[40m\u001b[32m @ \u001b[0m\u001b[40m\u001b[32m @ \u001b[0m\u001b[40m\u001b[32m @ \u001b[0m .  .  . \n",
      " .  .  . \u001b[40m\u001b[32m @ \u001b[0m .  . \u001b[40m\u001b[32m @ \u001b[0m\u001b[40m\u001b[32m @ \u001b[0m .  . \n",
      " .  .  . \u001b[40m\u001b[32m @ \u001b[0m .  .  . \u001b[40m\u001b[32m @ \u001b[0m\u001b[40m\u001b[32m @ \u001b[0m . \n",
      " . \u001b[40m\u001b[32m @ \u001b[0m\u001b[40m\u001b[32m @ \u001b[0m\u001b[40m\u001b[32m @ \u001b[0m .  .  .  . \u001b[40m\u001b[32m @ \u001b[0m . \n",
      " . \u001b[40m\u001b[32m @ \u001b[0m .  .  .  .  .  .  .  . \n",
      " .  .  .  .  .  .  .  .  .  . \n",
      " .  .  .  .  .  .  .  .  .  . \n",
      " . ######### .  .  .  .  .  . \n",
      " . ######### .  .  .  .  .  . \n",
      " .  .  .  .  .  .  .  .  .  . \n",
      "~~~~~~~~~~~~~~~~~~~~~~~~~~~~~~\n"
     ]
    }
   ],
   "source": [
    "draw_grid(diagram4, point_to = came_from, start=start, goal=goal)\n",
    "print()\n",
    "draw_grid(diagram4, path =  reconstruct_path(came_from, start=start, goal=goal))"
   ]
  },
  {
   "cell_type": "code",
   "execution_count": 215,
   "id": "10b73f62",
   "metadata": {},
   "outputs": [
    {
     "name": "stdout",
     "output_type": "stream",
     "text": [
      "__________________________________________________________________________________________\n",
      " v  v  v  v  v  v  v  v  v  v  v  v  v  v  v  v  v  v  v  v  v ###### .  .  .  .  .  .  . \n",
      " v  v  v  v  v  v  v  v  v  v  v  v  v  v  v  v  v  v  v  v  v ###### .  .  .  .  .  .  . \n",
      " > \u001b[40m\u001b[32m @ \u001b[0m\u001b[40m\u001b[32m @ \u001b[0m\u001b[40m\u001b[32m @ \u001b[0m\u001b[40m\u001b[32m @ \u001b[0m\u001b[40m\u001b[32m @ \u001b[0m\u001b[40m\u001b[32m @ \u001b[0m\u001b[40m\u001b[32m @ \u001b[0m\u001b[40m\u001b[32m @ \u001b[0m\u001b[40m\u001b[32m @ \u001b[0m\u001b[40m\u001b[32m @ \u001b[0m\u001b[40m\u001b[32m @ \u001b[0m\u001b[40m\u001b[32m @ \u001b[0m\u001b[40m\u001b[32m @ \u001b[0m\u001b[40m\u001b[32m @ \u001b[0m\u001b[40m\u001b[32m @ \u001b[0m\u001b[40m\u001b[32m @ \u001b[0m\u001b[40m\u001b[32m @ \u001b[0m\u001b[40m\u001b[32m @ \u001b[0m\u001b[40m\u001b[32m @ \u001b[0m\u001b[40m\u001b[32m @ \u001b[0m######\u001b[43m\u001b[31m Z \u001b[0m .  .  .  .  .  . \n",
      " > \u001b[40m\u001b[32m @ \u001b[0m < ###### ^  ^  ^  ^  ^  ^  ^  ^  ^  ^  ^  ^  ^  ^  ^ \u001b[40m\u001b[32m @ \u001b[0m######\u001b[40m\u001b[32m @ \u001b[0m v  v  v  .  .  . \n",
      " > \u001b[40m\u001b[32m @ \u001b[0m < ###### ^  ^  ^  ^  ^  ^  ^  ^ ###### ^  ^  ^  ^  ^ \u001b[40m\u001b[32m @ \u001b[0m######\u001b[40m\u001b[32m @ \u001b[0m\u001b[40m\u001b[32m @ \u001b[0m\u001b[40m\u001b[32m @ \u001b[0m\u001b[40m\u001b[32m @ \u001b[0m <  .  . \n",
      " > \u001b[40m\u001b[32m @ \u001b[0m < ###### ^  ^  ^  ^  ^  ^  ^  ^ ###### ^  ^  ^  ^  ^ \u001b[40m\u001b[32m @ \u001b[0m###############\u001b[40m\u001b[32m @ \u001b[0m <  .  . \n",
      " > \u001b[40m\u001b[32m @ \u001b[0m < ###### v  <  <  <  <  <  <  < ###### ^  ^  ^  ^  ^ \u001b[40m\u001b[32m @ \u001b[0m###############\u001b[40m\u001b[32m @ \u001b[0m <  .  . \n",
      " > \u001b[40m\u001b[32m @ \u001b[0m < ###### v  <  <  <  <  <  <  < ###### ^  ^  ^  ^  ^ \u001b[40m\u001b[32m @ \u001b[0m\u001b[40m\u001b[32m @ \u001b[0m\u001b[40m\u001b[32m @ \u001b[0m\u001b[40m\u001b[32m @ \u001b[0m\u001b[40m\u001b[32m @ \u001b[0m\u001b[40m\u001b[32m @ \u001b[0m\u001b[40m\u001b[32m @ \u001b[0m <  .  . \n",
      " > \u001b[40m\u001b[32m @ \u001b[0m < ###### v  <  <  <  <  <  <  < ###### ^  ^  ^  ^  ^  ^  ^  ^  ^  <  <  <  .  .  . \n",
      " > \u001b[43m\u001b[31m A \u001b[0m < ###### v  <  <  <  <  <  <  < ###### ^  ^  ^  ^  ^  ^  ^  ^  ^  <  <  .  .  .  . \n",
      " ^  ^  ^ ###### v  <  <  <  <  <  <  < ###### ^  ^  ^  ^  ^  ^  ^  ^  ^  <  .  .  .  .  . \n",
      " ^  ^  ^ ###### v  <  <  <  <  <  <  < ###### ^  ^  ^  ^  ^  ^  ^  ^  ^  .  .  .  .  .  . \n",
      " ^  ^  ^  <  <  <  <  <  <  <  <  <  < ###### .  .  .  .  .  .  .  .  .  .  .  .  .  .  . \n",
      " ^  ^  ^  ^  ^  ^  ^  ^  ^  ^  ^  ^  ^ ###### .  .  .  .  .  .  .  .  .  .  .  .  .  .  . \n",
      " ^  ^  ^  ^  ^  ^  ^  ^  ^  ^  ^  ^  ^ ###### .  .  .  .  .  .  .  .  .  .  .  .  .  .  . \n",
      "~~~~~~~~~~~~~~~~~~~~~~~~~~~~~~~~~~~~~~~~~~~~~~~~~~~~~~~~~~~~~~~~~~~~~~~~~~~~~~~~~~~~~~~~~~\n"
     ]
    }
   ],
   "source": [
    "start = (1, 9)\n",
    "goal = (23, 2)\n",
    "came_from, cost_so_far = a_start_search(g, start, goal)\n",
    "draw_grid(g, path=reconstruct_path(came_from, start=start, goal=goal),\n",
    "         point_to=came_from, start=start, goal=goal)"
   ]
  },
  {
   "cell_type": "code",
   "execution_count": 208,
   "id": "84774dd0",
   "metadata": {},
   "outputs": [
    {
     "name": "stdout",
     "output_type": "stream",
     "text": [
      "__________________________________________________________________________________________\n",
      " 10 9  10 11 12 13 14 15 16 17 18 19 20 21 22 23 24 25 26 27 28###### .  .  .  .  .  .  . \n",
      " 9  8  9  10 11 12 13 14 15 16 17 18 19 20 21 22 23 24 25 26 27###### .  .  .  .  .  .  . \n",
      " 8  7  8  9  10 11 12 13 14 15 16 17 18 19 20 21 22 23 24 25 26######\u001b[43m\u001b[31m Z \u001b[0m .  .  .  .  .  . \n",
      " 7  6  7 ###### 12 13 14 15 16 17 18 19 20 21 22 23 24 25 26 27###### 44 43 42 41 .  .  . \n",
      " 6  5  6 ###### 13 14 15 16 17 18 19 20###### 23 24 25 26 27 28###### 43 42 41 40 41 .  . \n",
      " 5  4  5 ###### 14 15 16 17 18 19 20 21###### 24 25 26 27 28 29############### 39 40 .  . \n",
      " 4  3  4 ###### 13 14 15 16 17 18 19 20###### 25 26 27 28 29 30############### 38 39 .  . \n",
      " 3  2  3 ###### 12 13 14 15 16 17 18 19###### 26 27 28 29 30 31 32 33 34 35 36 37 38 .  . \n",
      " 2  1  2 ###### 11 12 13 14 15 16 17 18###### 27 28 29 30 31 32 33 34 35 36 37 38 .  .  . \n",
      " 1 \u001b[43m\u001b[31m A \u001b[0m 1 ###### 10 11 12 13 14 15 16 17###### 28 29 30 31 32 33 34 35 36 37 38 .  .  .  . \n",
      " 2  1  2 ###### 9  10 11 12 13 14 15 16###### 29 30 31 32 33 34 35 36 37 38 .  .  .  .  . \n",
      " 3  2  3 ###### 8  9  10 11 12 13 14 15###### 30 31 32 33 34 35 36 37 38 .  .  .  .  .  . \n",
      " 4  3  4  5  6  7  8  9  10 11 12 13 14###### .  .  .  .  .  .  .  .  .  .  .  .  .  .  . \n",
      " 5  4  5  6  7  8  9  10 11 12 13 14 15###### .  .  .  .  .  .  .  .  .  .  .  .  .  .  . \n",
      " 6  5  6  7  8  9  10 11 12 13 14 15 16###### .  .  .  .  .  .  .  .  .  .  .  .  .  .  . \n",
      "~~~~~~~~~~~~~~~~~~~~~~~~~~~~~~~~~~~~~~~~~~~~~~~~~~~~~~~~~~~~~~~~~~~~~~~~~~~~~~~~~~~~~~~~~~\n"
     ]
    }
   ],
   "source": [
    "draw_grid(g, number=cost_so_far, start=start, goal=goal)"
   ]
  },
  {
   "cell_type": "markdown",
   "id": "cf5f074a",
   "metadata": {},
   "source": [
    "#### Example : Test with custom order"
   ]
  },
  {
   "cell_type": "code",
   "execution_count": 221,
   "id": "bf0d52e5",
   "metadata": {},
   "outputs": [],
   "source": [
    "def test_with_custom_order(neighbor_order):\n",
    "    if neighbor_order:\n",
    "        g = SquareGridNeighborOrder(30, 15)\n",
    "        g.NEIGHBOR_ORDER = neighbor_order\n",
    "    else:\n",
    "        g = SquareGrid(30,15)\n",
    "        \n",
    "    g.walls = DIAGRAM1_WALLS\n",
    "    start, goal = (8,7),(27,2)\n",
    "    came_from = breadth_first_search(g, start, goal)\n",
    "    draw_grid(g, path=reconstruct_path(came_from, start=start, goal=goal),\n",
    "             point_to = came_from, start=start, goal=goal)"
   ]
  },
  {
   "cell_type": "code",
   "execution_count": 222,
   "id": "d5c28bfe",
   "metadata": {},
   "outputs": [
    {
     "name": "stdout",
     "output_type": "stream",
     "text": [
      "__________________________________________________________________________________________\n",
      " v  v  v  v  v  v  v  v  v  v  v  v  v  v  v  v  v  v  v  v  v ###### .  .  .  .  .  .  . \n",
      " v  v  v  v  v  v  v  v  v  v  v  v  v  v  v  v  v  v  v  v  v ###### .  .  .  v  .  .  . \n",
      " >  >  >  >  >  v  v  v  v  v  v  v  v  v  v  v  v  v  v  v  v ###### .  .  v  v \u001b[43m\u001b[31m Z \u001b[0m v  . \n",
      " ^  ^  ^ ###### v  v  v  v  v  v  v \u001b[40m\u001b[32m @ \u001b[0m\u001b[40m\u001b[32m @ \u001b[0m\u001b[40m\u001b[32m @ \u001b[0m\u001b[40m\u001b[32m @ \u001b[0m\u001b[40m\u001b[32m @ \u001b[0m\u001b[40m\u001b[32m @ \u001b[0m\u001b[40m\u001b[32m @ \u001b[0m\u001b[40m\u001b[32m @ \u001b[0m\u001b[40m\u001b[32m @ \u001b[0m###### .  v  v  v \u001b[40m\u001b[32m @ \u001b[0m v  v \n",
      " ^  ^  ^ ###### v  v  v  v  v  v  v \u001b[40m\u001b[32m @ \u001b[0m###### ^  ^  ^  ^  ^ \u001b[40m\u001b[32m @ \u001b[0m###### >  >  >  v \u001b[40m\u001b[32m @ \u001b[0m v  v \n",
      " ^  ^  ^ ###### v  v  v  v  v  v  v \u001b[40m\u001b[32m @ \u001b[0m###### ^  ^  ^  ^  ^ \u001b[40m\u001b[32m @ \u001b[0m############### v \u001b[40m\u001b[32m @ \u001b[0m v  v \n",
      " ^  ^  ^ ###### v  v  v  v  v  v  v \u001b[40m\u001b[32m @ \u001b[0m###### ^  ^  ^  ^  ^ \u001b[40m\u001b[32m @ \u001b[0m############### v \u001b[40m\u001b[32m @ \u001b[0m v  v \n",
      " ^  ^  ^ ###### >  >  > \u001b[43m\u001b[31m A \u001b[0m\u001b[40m\u001b[32m @ \u001b[0m\u001b[40m\u001b[32m @ \u001b[0m\u001b[40m\u001b[32m @ \u001b[0m\u001b[40m\u001b[32m @ \u001b[0m###### ^  ^  ^  ^  ^ \u001b[40m\u001b[32m @ \u001b[0m\u001b[40m\u001b[32m @ \u001b[0m\u001b[40m\u001b[32m @ \u001b[0m\u001b[40m\u001b[32m @ \u001b[0m\u001b[40m\u001b[32m @ \u001b[0m\u001b[40m\u001b[32m @ \u001b[0m\u001b[40m\u001b[32m @ \u001b[0m\u001b[40m\u001b[32m @ \u001b[0m <  < \n",
      " v  v  v ###### ^  ^  ^  ^  ^  ^  ^  ^ ###### ^  ^  ^  ^  ^  ^  ^  ^  ^  ^  ^  ^  ^  ^  ^ \n",
      " v  v  v ###### ^  ^  ^  ^  ^  ^  ^  ^ ###### ^  ^  ^  ^  ^  ^  ^  ^  ^  ^  ^  ^  ^  ^  ^ \n",
      " v  v  v ###### ^  ^  ^  ^  ^  ^  ^  ^ ###### ^  ^  ^  ^  ^  ^  ^  ^  ^  ^  ^  ^  ^  ^  ^ \n",
      " v  v  v ###### ^  ^  ^  ^  ^  ^  ^  ^ ###### ^  ^  ^  ^  ^  ^  ^  ^  ^  ^  ^  ^  ^  ^  ^ \n",
      " >  >  >  >  >  ^  ^  ^  ^  ^  ^  ^  ^ ###### ^  ^  ^  ^  ^  ^  ^  ^  ^  ^  ^  ^  ^  ^  . \n",
      " ^  ^  ^  ^  ^  ^  ^  ^  ^  ^  ^  ^  ^ ###### ^  ^  ^  ^  ^  ^  ^  ^  ^  ^  ^  ^  .  .  . \n",
      " ^  ^  ^  ^  ^  ^  ^  ^  ^  ^  ^  ^  ^ ###### ^  ^  ^  ^  ^  ^  ^  ^  ^  ^  ^  .  .  .  . \n",
      "~~~~~~~~~~~~~~~~~~~~~~~~~~~~~~~~~~~~~~~~~~~~~~~~~~~~~~~~~~~~~~~~~~~~~~~~~~~~~~~~~~~~~~~~~~\n"
     ]
    }
   ],
   "source": [
    "test_with_custom_order([])"
   ]
  },
  {
   "cell_type": "code",
   "execution_count": 224,
   "id": "83a3b097",
   "metadata": {},
   "outputs": [
    {
     "name": "stdout",
     "output_type": "stream",
     "text": [
      "__________________________________________________________________________________________\n",
      " .  .  .  .  .  .  .  .  .  .  .  .  .  .  .  .  .  .  .  .  . ###### .  .  .  .  .  .  . \n",
      " .  .  .  .  .  .  .  .  .  .  .  .  .  .  .  .  .  .  .  .  . ###### .  .  .  .  .  .  . \n",
      " .  .  .  .  .  .  .  .  .  .  .  .  .  .  .  .  .  .  .  .  . ###### .  .  .  . \u001b[43m\u001b[31m Z \u001b[0m .  . \n",
      " .  .  . ###### .  .  .  .  .  .  .  .  .  .  .  .  .  .  .  . ###### .  .  .  .  .  .  . \n",
      " .  .  . ###### v  .  .  .  .  .  .  . ###### .  .  .  .  .  . ###### .  .  .  .  .  .  . \n",
      " .  .  . ###### .  v  .  .  .  .  .  . ###### .  .  .  .  .  . ############### .  .  .  . \n",
      " .  .  . ###### .  .  v  .  .  .  .  . ###### .  .  .  .  .  . ############### .  .  .  . \n",
      " .  .  . ###### .  .  . \u001b[43m\u001b[31m A \u001b[0m .  .  .  . ###### .  .  .  .  .  .  .  .  .  .  .  .  .  .  . \n",
      " .  .  . ###### .  .  .  .  ^  .  .  . ###### .  .  .  .  .  .  .  .  .  .  .  .  .  .  . \n",
      " .  .  . ###### .  .  .  .  .  ^  .  . ###### .  .  .  .  .  .  .  .  .  .  .  .  .  .  . \n",
      " .  .  . ###### .  .  .  .  .  .  ^  . ###### .  .  .  .  .  .  .  .  .  .  .  .  .  .  . \n",
      " .  .  . ###### .  .  .  .  .  .  .  ^ ###### .  .  .  .  .  .  .  .  .  .  .  .  .  .  . \n",
      " .  .  .  .  .  .  .  .  .  .  .  .  . ###### .  .  .  .  .  .  .  .  .  .  .  .  .  .  . \n",
      " .  .  .  .  .  .  .  .  .  .  .  .  . ###### .  .  .  .  .  .  .  .  .  .  .  .  .  .  . \n",
      " .  .  .  .  .  .  .  .  .  .  .  .  . ###### .  .  .  .  .  .  .  .  .  .  .  .  .  .  . \n",
      "~~~~~~~~~~~~~~~~~~~~~~~~~~~~~~~~~~~~~~~~~~~~~~~~~~~~~~~~~~~~~~~~~~~~~~~~~~~~~~~~~~~~~~~~~~\n"
     ]
    }
   ],
   "source": [
    "# 이것은 에러인데 다시 살펴 볼것\n",
    "test_with_custom_order([(+1,0),(0,-1),(-1,0),(0,+1)])"
   ]
  },
  {
   "cell_type": "code",
   "execution_count": null,
   "id": "67336e78",
   "metadata": {},
   "outputs": [],
   "source": []
  },
  {
   "cell_type": "code",
   "execution_count": null,
   "id": "ed7ea215",
   "metadata": {},
   "outputs": [],
   "source": []
  },
  {
   "cell_type": "code",
   "execution_count": null,
   "id": "badce5a7",
   "metadata": {},
   "outputs": [],
   "source": []
  }
 ],
 "metadata": {
  "kernelspec": {
   "display_name": "Python 3 (ipykernel)",
   "language": "python",
   "name": "python3"
  },
  "language_info": {
   "codemirror_mode": {
    "name": "ipython",
    "version": 3
   },
   "file_extension": ".py",
   "mimetype": "text/x-python",
   "name": "python",
   "nbconvert_exporter": "python",
   "pygments_lexer": "ipython3",
   "version": "3.9.12"
  }
 },
 "nbformat": 4,
 "nbformat_minor": 5
}
