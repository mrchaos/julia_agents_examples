{
 "cells": [
  {
   "cell_type": "code",
   "execution_count": 1,
   "id": "769d4a9e",
   "metadata": {},
   "outputs": [
    {
     "data": {
      "text/plain": [
       "\"localhost:12.0\""
      ]
     },
     "execution_count": 1,
     "metadata": {},
     "output_type": "execute_result"
    }
   ],
   "source": [
    "ENV[\"DISPLAY\"]=\"localhost:12.0\""
   ]
  },
  {
   "cell_type": "code",
   "execution_count": 2,
   "id": "35d0a84a",
   "metadata": {},
   "outputs": [],
   "source": [
    "using GLMakie\n",
    "GLMakie.activate!()\n",
    "using Random\n",
    "using Random:seed!"
   ]
  },
  {
   "cell_type": "code",
   "execution_count": 3,
   "id": "510131e0",
   "metadata": {},
   "outputs": [
    {
     "data": {
      "text/plain": [
       "lines_in_3D (generic function with 1 method)"
      ]
     },
     "execution_count": 3,
     "metadata": {},
     "output_type": "execute_result"
    }
   ],
   "source": [
    "function lines_in_3D()\n",
    "    seed!(123)\n",
    "    n = 10\n",
    "    x, y, z = randn(n), randn(n), randn(n)\n",
    "    fig = Figure(; resolution=(1200, 500))\n",
    "    ax1 = Axis3(fig[1, 1]; aspect=(1, 1, 1), perspectiveness=0.5)\n",
    "    ax2 = Axis3(fig[1, 2]; aspect=(1, 1, 1), perspectiveness=0.5)\n",
    "    ax3 = Axis3(fig[1, 3]; aspect=:data, perspectiveness=0.5)\n",
    "    lines!(ax1, x, y, z; color=1:n, linewidth=3)\n",
    "    scatterlines!(ax2, x, y, z; markersize=15)\n",
    "    hm = meshscatter!(ax3, x, y, z; markersize=0.2, color=1:n)\n",
    "    lines!(ax3, x, y, z; color=1:n)\n",
    "    Colorbar(fig[2, 1], hm; label=\"values\", height=15, vertical=false,\n",
    "        flipaxis=false, ticksize=15, tickalign=1, width=Relative(3.55 / 4))\n",
    "    return fig\n",
    "end"
   ]
  },
  {
   "cell_type": "code",
   "execution_count": 4,
   "id": "0724ae3d",
   "metadata": {},
   "outputs": [
    {
     "data": {
      "text/plain": [
       "GLMakie.Screen(...)"
      ]
     },
     "execution_count": 4,
     "metadata": {},
     "output_type": "execute_result"
    }
   ],
   "source": [
    "display(lines_in_3D())"
   ]
  },
  {
   "cell_type": "code",
   "execution_count": null,
   "id": "78ac06bd",
   "metadata": {},
   "outputs": [],
   "source": []
  }
 ],
 "metadata": {
  "kernelspec": {
   "display_name": "Julia 1.7.2",
   "language": "julia",
   "name": "julia-1.7"
  },
  "language_info": {
   "file_extension": ".jl",
   "mimetype": "application/julia",
   "name": "julia",
   "version": "1.7.2"
  }
 },
 "nbformat": 4,
 "nbformat_minor": 5
}
