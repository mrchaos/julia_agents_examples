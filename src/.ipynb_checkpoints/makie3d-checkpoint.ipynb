{
 "cells": [
  {
   "cell_type": "code",
   "execution_count": 7,
   "id": "ac9d7035",
   "metadata": {},
   "outputs": [
    {
     "data": {
      "text/plain": [
       "\"localhost:12.0\""
      ]
     },
     "execution_count": 7,
     "metadata": {},
     "output_type": "execute_result"
    }
   ],
   "source": [
    "ENV[\"DISPLAY\"]=\"localhost:12.0\""
   ]
  },
  {
   "cell_type": "code",
   "execution_count": 8,
   "id": "35d0a84a",
   "metadata": {},
   "outputs": [],
   "source": [
    "using GLMakie\n",
    "using Random\n",
    "using Random:seed!\n",
    "GLMakie.activate!()"
   ]
  },
  {
   "cell_type": "code",
   "execution_count": 9,
   "id": "510131e0",
   "metadata": {},
   "outputs": [
    {
     "data": {
      "text/plain": [
       "lines_in_3D (generic function with 1 method)"
      ]
     },
     "execution_count": 9,
     "metadata": {},
     "output_type": "execute_result"
    }
   ],
   "source": [
    "function lines_in_3D()\n",
    "    seed!(123)\n",
    "    n = 10\n",
    "    x, y, z = randn(n), randn(n), randn(n)\n",
    "    fig = Figure(; resolution=(1200, 500))\n",
    "    ax1 = Axis3(fig[1, 1]; aspect=(1, 1, 1), perspectiveness=0.5)\n",
    "    ax2 = Axis3(fig[1, 2]; aspect=(1, 1, 1), perspectiveness=0.5)\n",
    "    ax3 = Axis3(fig[1, 3]; aspect=:data, perspectiveness=0.5)\n",
    "    lines!(ax1, x, y, z; color=1:n, linewidth=3)\n",
    "    scatterlines!(ax2, x, y, z; markersize=15)\n",
    "    hm = meshscatter!(ax3, x, y, z; markersize=0.2, color=1:n)\n",
    "    lines!(ax3, x, y, z; color=1:n)\n",
    "    Colorbar(fig[2, 1], hm; label=\"values\", height=15, vertical=false,\n",
    "        flipaxis=false, ticksize=15, tickalign=1, width=Relative(3.55 / 4))\n",
    "    return fig\n",
    "end"
   ]
  },
  {
   "cell_type": "code",
   "execution_count": 10,
   "id": "0724ae3d",
   "metadata": {},
   "outputs": [
    {
     "name": "stderr",
     "output_type": "stream",
     "text": [
      "┌ Warning:     GLFW couldn't create an OpenGL window.\n",
      "│     This likely means, you don't have an OpenGL capable Graphic Card,\n",
      "│     or you don't have an OpenGL 3.3 capable video driver installed.\n",
      "│     Have a look at the troubleshooting section in the GLMakie readme:\n",
      "│     https://github.com/JuliaPlots/Makie.jl/tree/master/GLMakie#troubleshooting-opengl.\n",
      "└ @ GLMakie /home/shpark/.julia/packages/GLMakie/K6iJk/src/screen.jl:391\n"
     ]
    },
    {
     "ename": "LoadError",
     "evalue": "GLFWError (NOT_INITIALIZED): The GLFW library is not initialized",
     "output_type": "error",
     "traceback": [
      "GLFWError (NOT_INITIALIZED): The GLFW library is not initialized",
      "",
      "Stacktrace:",
      "  [1] _ErrorCallbackWrapper(code::Int32, description::Cstring)",
      "    @ GLFW ~/.julia/packages/GLFW/BWxfF/src/callback.jl:43",
      "  [2] WindowHint",
      "    @ ~/.julia/packages/GLFW/BWxfF/src/glfw3.jl:492 [inlined]",
      "  [3] GLFW.Window(; name::String, resolution::Tuple{Int64, Int64}, debugging::Bool, major::Int64, minor::Int64, windowhints::Vector{Tuple{UInt32, Integer}}, contexthints::Vector{Tuple{UInt32, Integer}}, visible::Bool, focus::Bool, fullscreen::Bool, monitor::Nothing, share::GLFW.Window)",
      "    @ GLFW ~/.julia/packages/GLFW/BWxfF/src/glfw3.jl:316",
      "  [4] GLMakie.Screen(; resolution::Tuple{Int64, Int64}, visible::Bool, title::String, start_renderloop::Bool, kw_args::Base.Pairs{Symbol, Union{}, Tuple{}, NamedTuple{(), Tuple{}}})",
      "    @ GLMakie ~/.julia/packages/GLMakie/K6iJk/src/screen.jl:383",
      "  [5] singleton_screen(resolution::Tuple{Int64, Int64}; visible::Bool, start_renderloop::Bool)",
      "    @ GLMakie ~/.julia/packages/GLMakie/K6iJk/src/screen.jl:166",
      "  [6] backend_display(::GLMakie.GLBackend, scene::Scene; start_renderloop::Bool, visible::Bool, connect::Bool)",
      "    @ GLMakie ~/.julia/packages/GLMakie/K6iJk/src/display.jl:2",
      "  [7] backend_display",
      "    @ ~/.julia/packages/GLMakie/K6iJk/src/display.jl:2 [inlined]",
      "  [8] backend_display(s::Figure; kw::Base.Pairs{Symbol, Union{}, Tuple{}, NamedTuple{(), Tuple{}}})",
      "    @ Makie ~/.julia/packages/Makie/Ppzqh/src/display.jl:51",
      "  [9] backend_display",
      "    @ ~/.julia/packages/Makie/Ppzqh/src/display.jl:50 [inlined]",
      " [10] #display#932",
      "    @ ~/.julia/packages/Makie/Ppzqh/src/display.jl:72 [inlined]",
      " [11] display(fig::Figure)",
      "    @ Makie ~/.julia/packages/Makie/Ppzqh/src/display.jl:67",
      " [12] top-level scope",
      "    @ In[10]:1",
      " [13] eval",
      "    @ ./boot.jl:373 [inlined]",
      " [14] include_string(mapexpr::typeof(REPL.softscope), mod::Module, code::String, filename::String)",
      "    @ Base ./loading.jl:1196"
     ]
    }
   ],
   "source": [
    "display(lines_in_3D())"
   ]
  },
  {
   "cell_type": "code",
   "execution_count": null,
   "id": "78ac06bd",
   "metadata": {},
   "outputs": [],
   "source": []
  }
 ],
 "metadata": {
  "kernelspec": {
   "display_name": "Julia 1.7.2",
   "language": "julia",
   "name": "julia-1.7"
  },
  "language_info": {
   "file_extension": ".jl",
   "mimetype": "application/julia",
   "name": "julia",
   "version": "1.7.2"
  }
 },
 "nbformat": 4,
 "nbformat_minor": 5
}
