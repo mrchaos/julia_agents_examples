{
 "cells": [
  {
   "cell_type": "markdown",
   "id": "e691e578",
   "metadata": {},
   "source": [
    "# Flock\n",
    "\n",
    "참조 : <a href=\"http://www.red3d.com/cwr/boids/\" target=\"_blank\">http://www.red3d.com/cwr/boids/</a>\n",
    "\n",
    "flock model은 새들이 3개의 단순한 규칙에 따라 행동 할 때 무리짓기 행동(flocking behavior)이 창발하는 것을 설명한다.\n",
    "\n",
    "규칙\n",
    "\n",
    "* 1) Separation : 다른 새들과 충돌을 피하면서 최소거리를 유지한다. (분산)\n",
    "* 2) Cohesion   : 이웃한 새들의 평균 위치를 향해 날아 간다.(응집)\n",
    "* 3) Alignment  : 이웃한 새들의 평균 방향으로 날아 간다. (정렬)\n",
    "\n",
    " 소스 : <a href=\"https://github.com/mrchaos/julia_agents_examples\" target=\"_blank\">https://github.com/mrchaos/julia_agents_examples</a>\n",
    " \n",
    " ## 동작 환경\n",
    "- Julia   : v1.7.2\n",
    "- Agents  : v5.5.0\n",
    "- InteractiveDynamics : v0.21.11\n",
    "- GLMakie : v0.6.13\n",
    "- CairoMakie : v0.8.13\n",
    "\n",
    "\n",
    "\n",
    "- GLMakie를 사용하고 싶은 경우 설정에 대해서는 <a href=\"https://julialang.kr/?p=3684\" target=\"_blank\">https://julialang.kr/?p=3684</a> 를 참조"
   ]
  },
  {
   "cell_type": "code",
   "execution_count": 1,
   "id": "2cf94f37",
   "metadata": {},
   "outputs": [],
   "source": [
    "using Agents\n",
    "using LinearAlgebra\n",
    "using Random"
   ]
  },
  {
   "cell_type": "markdown",
   "id": "2abfc259",
   "metadata": {},
   "source": [
    "### Define the core structure\n",
    "\n",
    "* The fields `id` and `pos`, which are required for agents on [`ContinuousSpace`](@ref),are part of the struct. \n",
    "* The field `vel`, which is also added by using [`ContinuousAgent`](@ref) is required for using [`move_agent!`](@ref) in `ContinuousSpace` with a time-stepping method.\n",
    "* `speed` defines how far the bird travels in the direction defined by `vel` per `step`.\n",
    "* `seperation` defines the minimum distance a bird must maintain from its neighbors.\n",
    "* `visual_distance` refers to the distance a bird can see and defines a radius of neighboring birds.\n",
    "* The contribution of each rule defined above recieves an importance weight: \n",
    "* `cohere_factor` is the importance of maintaining the average position of neighbors,\n",
    "* `match_factor` is the importance of matching the average trajectory of neighboring birds, and \n",
    "* `separate_factor` is the importance of maining the minimum distance from neighboring birds."
   ]
  },
  {
   "cell_type": "code",
   "execution_count": 2,
   "id": "b1b1183d",
   "metadata": {},
   "outputs": [],
   "source": [
    "@agent Bird ContinuousAgent{2} begin\n",
    "    speed::Float64\n",
    "    cohere_factor::Float64\n",
    "    separation::Float64\n",
    "    separate_factor::Float64\n",
    "    match_factor::Float64\n",
    "    visual_distance::Float64\n",
    "end"
   ]
  },
  {
   "cell_type": "code",
   "execution_count": 3,
   "id": "e066338a",
   "metadata": {},
   "outputs": [
    {
     "data": {
      "text/plain": [
       "(:id, :pos, :vel, :speed, :cohere_factor, :separation, :separate_factor, :match_factor, :visual_distance)"
      ]
     },
     "execution_count": 3,
     "metadata": {},
     "output_type": "execute_result"
    }
   ],
   "source": [
    "fieldnames(Bird)"
   ]
  },
  {
   "cell_type": "markdown",
   "id": "52a23d93",
   "metadata": {},
   "source": [
    "### Initialize Model"
   ]
  },
  {
   "cell_type": "code",
   "execution_count": 4,
   "id": "22b1d9ed",
   "metadata": {},
   "outputs": [
    {
     "data": {
      "text/plain": [
       "(:agents, :space, :scheduler, :properties, :rng, :maxid)"
      ]
     },
     "execution_count": 4,
     "metadata": {},
     "output_type": "execute_result"
    }
   ],
   "source": [
    "fieldnames(ABM)"
   ]
  },
  {
   "cell_type": "code",
   "execution_count": 42,
   "id": "734614ba",
   "metadata": {},
   "outputs": [
    {
     "data": {
      "text/plain": [
       "initialize_model (generic function with 9 methods)"
      ]
     },
     "execution_count": 42,
     "metadata": {},
     "output_type": "execute_result"
    }
   ],
   "source": [
    "function initialize_model(\n",
    "        n_birds = 100,  # bird 수\n",
    "        speed = 1.0,# 1 step당 속력 (방향은 vel에 정의된곳)\n",
    "        cohere_factor = 0.25, # 이웃 새들의 평균 위치를 유지하는 중요성\n",
    "        separation = 4.0, # 이웃 새들과 떨어져 있어야 하는 최소 거리\n",
    "        separate_factor = 0.25, # 이웃 새들과의 최소거리를 유지하는 중요성\n",
    "        match_factor = 0.01, #  이웃 새들의 평균 궤적 일치의 중요성\n",
    "        visual_distance = 5.0, # 새가 볼 수 있는 거리를 나타내며 이웃 새의 반경을 정의\n",
    "        extent = (100,100),\n",
    "    )\n",
    "    \n",
    "    # ContinuousSpace(extent;spacing = minimum(extent)/20.0,update_vel! = no_vel_update,periodic = true)\n",
    "    # continuous space 에서 periodic=true로 설정해야 move_agent!시 문제가 발생하지 않음\n",
    "    space2d = ContinuousSpace(extent;spacing= visual_distance/1.5)\n",
    "    \n",
    "    # AgentBasedModel(Bird,space::S = nothing; scheduler::F = Schedulers.fastest, \n",
    "    #    properties::P = nothing, rng::R = Random.default_rng(), warn = true)\n",
    "    model = ABM(Bird, space2d; scheduler = Schedulers.Randomly())\n",
    "    \n",
    "    for _ in 1:n_birds\n",
    "        vel = Tuple(rand(model.rng, 2)*2 .- 1) #  -1 < vel < 1\n",
    "        add_agent!(model,\n",
    "            vel,\n",
    "            speed,\n",
    "            cohere_factor,\n",
    "            separation,\n",
    "            separate_factor,\n",
    "            match_factor,\n",
    "            visual_distance,            \n",
    "        )\n",
    "    end\n",
    "    return model\n",
    "end"
   ]
  },
  {
   "cell_type": "code",
   "execution_count": 43,
   "id": "c1ffc68d",
   "metadata": {},
   "outputs": [
    {
     "data": {
      "text/plain": [
       "AgentBasedModel with 100 agents of type Bird\n",
       " space: periodic continuous space with (100.0, 100.0) extent and spacing=3.3333333333333335\n",
       " scheduler: Agents.Schedulers.Randomly"
      ]
     },
     "execution_count": 43,
     "metadata": {},
     "output_type": "execute_result"
    }
   ],
   "source": [
    "model = initialize_model()"
   ]
  },
  {
   "cell_type": "code",
   "execution_count": 28,
   "id": "99533f87",
   "metadata": {},
   "outputs": [
    {
     "data": {
      "text/plain": [
       "(:id, :pos, :vel, :speed, :cohere_factor, :separation, :separate_factor, :match_factor, :visual_distance)"
      ]
     },
     "execution_count": 28,
     "metadata": {},
     "output_type": "execute_result"
    }
   ],
   "source": [
    "fieldnames(typeof(model[1]))"
   ]
  },
  {
   "cell_type": "code",
   "execution_count": 29,
   "id": "f2ca55d7",
   "metadata": {},
   "outputs": [
    {
     "data": {
      "text/plain": [
       "Bird(1, (23.56362487314364, 90.57192815066982), (-0.6658858053238472, 0.7237178099195558), 1.0, 0.25, 4.0, 0.25, 0.01, 5.0)"
      ]
     },
     "execution_count": 29,
     "metadata": {},
     "output_type": "execute_result"
    }
   ],
   "source": [
    "model[1]"
   ]
  },
  {
   "cell_type": "code",
   "execution_count": 30,
   "id": "cbc2f936",
   "metadata": {},
   "outputs": [
    {
     "data": {
      "text/plain": [
       "Bird(1, (23.56362487314364, 90.57192815066982), (-0.6658858053238472, 0.7237178099195558), 1.0, 0.25, 4.0, 0.25, 0.01, 5.0)"
      ]
     },
     "execution_count": 30,
     "metadata": {},
     "output_type": "execute_result"
    }
   ],
   "source": [
    "model.agents[1]"
   ]
  },
  {
   "cell_type": "markdown",
   "id": "819e4843",
   "metadata": {},
   "source": [
    "### Defining the agent_step!\n",
    "* `agent_step!` is the primary function called for each step and computes velocity according to the three rules defined above."
   ]
  },
  {
   "cell_type": "code",
   "execution_count": 23,
   "id": "9f21a10b",
   "metadata": {},
   "outputs": [
    {
     "data": {
      "text/plain": [
       "agent_step! (generic function with 1 method)"
      ]
     },
     "execution_count": 23,
     "metadata": {},
     "output_type": "execute_result"
    }
   ],
   "source": [
    "function agent_step!(bird, model)\n",
    "    ## 새의 가시거리(visual distance)에 있는 이웃 새들의 id 획득\n",
    "    neighbor_ids = nearby_ids(bird, model, bird.visual_distance)\n",
    "    N = 0 # 이웃한 새들의 수\n",
    "    match = separate = cohere = (0.0, 0.0)\n",
    "    \n",
    "    # 이웃한 새들에 기반한 행위 속성(behaiviour properties) 계산\n",
    "    for id in neighbor_ids\n",
    "        N += 1\n",
    "        # model[id]는 model.agents[1] 과 동일하며 Bird를 돌려 준다.\n",
    "        neighbor = model.agents[id].pos\n",
    "        # 이웃새를 향한 위치 vector , 현재 선택된 새를 기준으로 다른 새들의 상대적 위치 vector\n",
    "        heading = neighbor .- bird.pos\n",
    "        \n",
    "        ## `cohere` : 이웃한 새들의 평균 위치를 계산 : 규치2를 위한 계산\n",
    "        cohere = cohere .+ heading # 위치벡터 합 계산\n",
    "        \n",
    "        # 규칙 1\n",
    "        # 이웃 새와 떨어져 있어야할 최소 거리보다 작은 경우 이웃 새로 부터 멀어 진다. \n",
    "        if euclidean_distance(bird.pos, neighbor, model) < bird.separation\n",
    "            # 이웃한 새를 향한 반대 방향으로 상대적 위치 만큼 멀어 진다.\n",
    "            # 떨어지는 거리의 합산 계산\n",
    "            separate = separate .- heading\n",
    "        end\n",
    "        ## `match` : 이웃한 새들의 평균 궤적(average trajectory)을 계산\n",
    "        # 이웃한 새들의 속도를 합산 \n",
    "        # ※ 속도 : 속력과 방량이 있음\n",
    "        match = match .+ model.agents[id].vel\n",
    "    end\n",
    "    #  최소한 이웃한 새가 1마리는 있어야 함, 아래 계산상 N이 0이 되면 안됨\n",
    "    N = max(N,1)\n",
    "    \n",
    "    ## 모델 입력값과 이웃새들의 수에 기반한 결과들을 normalize\n",
    "    ## 가중치의 역할 : 새의 속도를 계산할 때 규칙1,2,3의 중요도에 대한 가중치\n",
    "    ##  즉 Separation에 가중치가 크면 새들이 서로 회피하는 방향으로 많이 움직임\n",
    "    ##  Cohesion의 가중치가 크면 새들이 서로 뭉치는 경향이 큼\n",
    "    ##  Alignment의 가중치가 크면 새들이 서로 같은 방향으로 움직이는 경향이 큼 \n",
    "    \n",
    "    ## 규칙2 (응집)\n",
    "    # 이웃새들과의 평균 위치에 가중치를 곱함    \n",
    "    cohere = cohere ./ N .* bird.cohere_factor\n",
    "    \n",
    "    ## 규칙1 (분산)\n",
    "    separate = separate ./ N .* bird.separate_factor\n",
    "    \n",
    "    ##규칙3 (정렬)\n",
    "    match = match ./ N .* bird.match_factor\n",
    "    \n",
    "    # 위에 정의된 규칙에 기반하여 속도(velocity)를 계산\n",
    "    # cohere, separate,match 는 1step(시간)당 움직는 거리 이므로 속도 개념\n",
    "    # 기존 속도와 현재 계산된 속도의 평균값이므로 2로 나눔\n",
    "    bird.vel = (bird.vel .+ cohere .+ separate .+ match) ./ 2\n",
    "    #  속도 normalize\n",
    "    bird.vel = bird.vel ./ norm(bird.vel)\n",
    "    \n",
    "    ## 새로 계산된 속도와 속력으로 움직이기\n",
    "    # move_agent!(agent::A, model::ABM{<:ContinuousSpace,A}, dt::Real)\n",
    "    # agent.pos += agent.vel * dt\n",
    "    \n",
    "    move_agent!(bird, model, bird.speed)\n",
    "end"
   ]
  },
  {
   "cell_type": "markdown",
   "id": "be15373e",
   "metadata": {},
   "source": [
    "### Plotting the flock"
   ]
  },
  {
   "cell_type": "code",
   "execution_count": 12,
   "id": "d5656a70",
   "metadata": {},
   "outputs": [],
   "source": [
    "using InteractiveDynamics"
   ]
  },
  {
   "cell_type": "code",
   "execution_count": 14,
   "id": "8d5e7303",
   "metadata": {},
   "outputs": [],
   "source": [
    "using CairoMakie\n",
    "CairoMakie.activate!()"
   ]
  },
  {
   "cell_type": "code",
   "execution_count": 16,
   "id": "493c4ff9",
   "metadata": {},
   "outputs": [
    {
     "name": "stderr",
     "output_type": "stream",
     "text": [
      "WARNING: redefinition of constant bird_polygon. This may fail, cause incorrect answers, or produce other errors.\n",
      "WARNING: both CairoMakie and LinearAlgebra export \"rotate!\"; uses of it in module Main must be qualified\n"
     ]
    }
   ],
   "source": [
    "const bird_polygon = Polygon(Point2f[(-0.5,-0.5),(1,0),(-0.5,0.5)]);"
   ]
  },
  {
   "cell_type": "code",
   "execution_count": 17,
   "id": "1a49841f",
   "metadata": {},
   "outputs": [
    {
     "data": {
      "text/plain": [
       "bird_marker (generic function with 1 method)"
      ]
     },
     "execution_count": 17,
     "metadata": {},
     "output_type": "execute_result"
    }
   ],
   "source": [
    "function bird_marker(b::Bird)\n",
    "    # 새의 방향 :  tan(ϕ) = vy/vx = vel[2] / vel[1], ϕ = atan(vel[2]/vel[x])    \n",
    "    ϕ = atan(b.vel[2], b.vel[1]) # + π/2 + π\n",
    "    scale(rotate2D(bird_polygon,ϕ), 2)\n",
    "end"
   ]
  },
  {
   "cell_type": "code",
   "execution_count": 20,
   "id": "5b4347d7",
   "metadata": {},
   "outputs": [
    {
     "data": {
      "text/plain": [
       "(am = bird_marker,)"
      ]
     },
     "execution_count": 20,
     "metadata": {},
     "output_type": "execute_result"
    }
   ],
   "source": [
    "plotkwargs =(;am=bird_marker)"
   ]
  },
  {
   "cell_type": "code",
   "execution_count": 50,
   "id": "a3fe5cfd",
   "metadata": {},
   "outputs": [
    {
     "data": {
      "text/plain": [
       "GLMakie.Screen(...)"
      ]
     },
     "execution_count": 50,
     "metadata": {},
     "output_type": "execute_result"
    }
   ],
   "source": [
    "let\n",
    "    ENV[\"DISPLAY\"]=\"localhost:12.0\"\n",
    "    using GLMakie\n",
    "    GLMakie.activate!()\n",
    "    \n",
    "    model = initialize_model(\n",
    "        100,  # bird 수\n",
    "        1.0,# 1 step당 속력 (방향은 vel에 정의된곳)\n",
    "        0.05, # 이웃 새들의 평균 위치를 유지하는 중요성\n",
    "        4.0, # 이웃 새들과 떨어져 있어야 하는 최소 거리\n",
    "        0.25, # 이웃 새들과의 최소거리를 유지하는 중요성\n",
    "        0.25, #  이웃 새들의 평균 궤적 일치의 중요성\n",
    "        5.0, # 새가 볼 수 있는 거리를 나타내며 이웃 새의 반경을 정의\n",
    "        (100,100),\n",
    "    )\n",
    "    fig, ax, abmobs= abmplot(model;\n",
    "    agent_step! = agent_step!, model_step! = dummystep,\n",
    "    plotkwargs...)\n",
    "   \n",
    "    display(fig)    \n",
    "end"
   ]
  },
  {
   "cell_type": "code",
   "execution_count": 33,
   "id": "4d1cd023",
   "metadata": {},
   "outputs": [
    {
     "data": {
      "text/plain": [
       "(:agents, :space, :scheduler, :properties, :rng, :maxid)"
      ]
     },
     "execution_count": 33,
     "metadata": {},
     "output_type": "execute_result"
    }
   ],
   "source": [
    "fieldnames(typeof(model))"
   ]
  },
  {
   "cell_type": "code",
   "execution_count": 34,
   "id": "cbb23f24",
   "metadata": {},
   "outputs": [
    {
     "data": {
      "text/plain": [
       "Dict{Symbol, Float64} with 6 entries:\n",
       "  :separation      => 4.0\n",
       "  :speed           => 1.0\n",
       "  :visual_distance => 5.0\n",
       "  :cohere_factor   => 0.25\n",
       "  :separate_factor => 0.25\n",
       "  :match_factor    => 0.01"
      ]
     },
     "execution_count": 34,
     "metadata": {},
     "output_type": "execute_result"
    }
   ],
   "source": [
    "model.properties"
   ]
  },
  {
   "cell_type": "code",
   "execution_count": null,
   "id": "2177cafd",
   "metadata": {},
   "outputs": [],
   "source": []
  }
 ],
 "metadata": {
  "kernelspec": {
   "display_name": "Julia 1.7.2",
   "language": "julia",
   "name": "julia-1.7"
  },
  "language_info": {
   "file_extension": ".jl",
   "mimetype": "application/julia",
   "name": "julia",
   "version": "1.7.2"
  }
 },
 "nbformat": 4,
 "nbformat_minor": 5
}
